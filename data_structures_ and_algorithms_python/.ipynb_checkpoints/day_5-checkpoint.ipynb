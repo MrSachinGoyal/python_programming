{
 "cells": [
  {
   "cell_type": "markdown",
   "id": "e269bbb2",
   "metadata": {},
   "source": [
    "#### Largest Element in the Array\n",
    "- https://www.codingninjas.com/studio/problems/largest-element-in-the-array-largest-element-in-the-array_5026279?utm_source=striver&utm_medium=website&utm_campaign=a_zcoursetuf"
   ]
  },
  {
   "cell_type": "code",
   "execution_count": 12,
   "id": "51f231d3",
   "metadata": {},
   "outputs": [
    {
     "name": "stdout",
     "output_type": "stream",
     "text": [
      "Array's Largest Element is: 5\n"
     ]
    }
   ],
   "source": [
    "arr = [1, 2, 3, 4, 5]\n",
    "\n",
    "# Solution 1 - sorting and extracting the last element which is maximum\n",
    "def largestElementArray(arr):\n",
    "    \n",
    "    n = len(arr)\n",
    "    \n",
    "    # sorting the array\n",
    "    arr.sort()\n",
    "    \n",
    "    return arr[n-1]\n",
    "\n",
    "res = largestElementArray(arr)\n",
    "print(\"Array's Largest Element is:\", res)\n",
    "\n",
    "# Time Complexity = O(nlogn)\n",
    "# Space Complexity = O(1)"
   ]
  },
  {
   "cell_type": "code",
   "execution_count": 13,
   "id": "df0a1c95",
   "metadata": {},
   "outputs": [
    {
     "name": "stdout",
     "output_type": "stream",
     "text": [
      "Largest element in the given array: 5\n"
     ]
    }
   ],
   "source": [
    "arr = [1, 2, 3, 4, 5]\n",
    "\n",
    "# Solution 2 - linear search or brute force approach\n",
    "def largestElement(arr):\n",
    "    \n",
    "    max_element = 0\n",
    "    \n",
    "    for i in range(len(arr)):\n",
    "        if arr[i] > max_element:\n",
    "            max_element = arr[i]\n",
    "            \n",
    "    return max_element\n",
    "\n",
    "result = largestElement(arr)\n",
    "print('Largest element in the given array:', result)\n",
    "\n",
    "# Time Complexity = O(n)\n",
    "# Space Complexity = O(1"
   ]
  },
  {
   "cell_type": "code",
   "execution_count": null,
   "id": "5134d128",
   "metadata": {},
   "outputs": [],
   "source": []
  },
  {
   "cell_type": "code",
   "execution_count": null,
   "id": "e07782b8",
   "metadata": {},
   "outputs": [],
   "source": []
  },
  {
   "cell_type": "code",
   "execution_count": null,
   "id": "b7926b02",
   "metadata": {},
   "outputs": [],
   "source": []
  }
 ],
 "metadata": {
  "kernelspec": {
   "display_name": "Python 3 (ipykernel)",
   "language": "python",
   "name": "python3"
  },
  "language_info": {
   "codemirror_mode": {
    "name": "ipython",
    "version": 3
   },
   "file_extension": ".py",
   "mimetype": "text/x-python",
   "name": "python",
   "nbconvert_exporter": "python",
   "pygments_lexer": "ipython3",
   "version": "3.10.9"
  }
 },
 "nbformat": 4,
 "nbformat_minor": 5
}
