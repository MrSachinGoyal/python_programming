{
 "cells": [
  {
   "cell_type": "markdown",
   "id": "4521f9d0",
   "metadata": {},
   "source": [
    "#### Longest Subarray With Sum K"
   ]
  },
  {
   "cell_type": "code",
   "execution_count": 73,
   "id": "868c0ec7",
   "metadata": {},
   "outputs": [
    {
     "name": "stdout",
     "output_type": "stream",
     "text": [
      "The longest subarray is of length: 3\n"
     ]
    }
   ],
   "source": [
    "# Solution 1 - brute force approach\n",
    "\n",
    "def longestSubarrayWithSumK(arr, k):\n",
    "    \n",
    "    length = 0\n",
    "\n",
    "    for i in range(len(arr)):\n",
    "        total = 0\n",
    "        for j in range(i, len(arr)):\n",
    "            total += arr[j]\n",
    "\n",
    "            if total == k:\n",
    "                length = max(length, (j-i)+1)\n",
    "                \n",
    "    return length\n",
    "\n",
    "arr = [1, 2, 3, 1, 1, 1, 1]\n",
    "result = longestSubarrayWithSumK(arr, 3)\n",
    "print('The longest subarray is of length:', result)\n",
    "\n",
    "# Time complexity = O(n^2)\n",
    "# Space complexity = O(1)"
   ]
  },
  {
   "cell_type": "code",
   "execution_count": 88,
   "id": "71ff8b74",
   "metadata": {},
   "outputs": [
    {
     "name": "stdout",
     "output_type": "stream",
     "text": [
      "The longest subarray is of length: 3\n"
     ]
    }
   ],
   "source": [
    "def longestSubarrayWithSumK(arr, target):\n",
    "    left = 0  \n",
    "    right = 0\n",
    "    total = 0  \n",
    "    length = 0 \n",
    "\n",
    "    while right < len(arr):\n",
    "        total += arr[right]\n",
    "\n",
    "        # Move the left pointer to the right until the sum is less than or equal to the target\n",
    "        while total > target:\n",
    "            total -= arr[left]\n",
    "            left += 1\n",
    "\n",
    "        # Update the length if a subarray with the given sum is found\n",
    "        if total == target:\n",
    "            length = max(length, right - left + 1)\n",
    "        right = right + 1\n",
    "        \n",
    "    return length\n",
    "\n",
    "arr = [1, 2, 3, 1, 1, 1, 1]\n",
    "result = longestSubarrayWithSumK(arr, 3)\n",
    "print('The longest subarray is of length:', result)\n",
    "\n",
    "# Time complexity = O(n)\n",
    "# Space complexity = o(1)"
   ]
  },
  {
   "cell_type": "code",
   "execution_count": null,
   "id": "2f8108ee",
   "metadata": {},
   "outputs": [],
   "source": []
  },
  {
   "cell_type": "code",
   "execution_count": null,
   "id": "4509c5c5",
   "metadata": {},
   "outputs": [],
   "source": []
  },
  {
   "cell_type": "code",
   "execution_count": null,
   "id": "455898ea",
   "metadata": {},
   "outputs": [],
   "source": []
  },
  {
   "cell_type": "code",
   "execution_count": null,
   "id": "fbc138bb",
   "metadata": {},
   "outputs": [],
   "source": []
  }
 ],
 "metadata": {
  "kernelspec": {
   "display_name": "Python 3 (ipykernel)",
   "language": "python",
   "name": "python3"
  },
  "language_info": {
   "codemirror_mode": {
    "name": "ipython",
    "version": 3
   },
   "file_extension": ".py",
   "mimetype": "text/x-python",
   "name": "python",
   "nbconvert_exporter": "python",
   "pygments_lexer": "ipython3",
   "version": "3.10.9"
  }
 },
 "nbformat": 4,
 "nbformat_minor": 5
}
