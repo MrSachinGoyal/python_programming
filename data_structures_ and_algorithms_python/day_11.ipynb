{
 "cells": [
  {
   "cell_type": "markdown",
   "id": "4c9bea5a",
   "metadata": {},
   "source": [
    "#### Missing number in the array\n",
    "- https://leetcode.com/problems/missing-number/"
   ]
  },
  {
   "cell_type": "code",
   "execution_count": 49,
   "id": "3a3245df",
   "metadata": {},
   "outputs": [
    {
     "name": "stdout",
     "output_type": "stream",
     "text": [
      "The missing number is 2\n"
     ]
    }
   ],
   "source": [
    "# Solution 1 - brute force\n",
    "\n",
    "def missingNumber(nums):\n",
    "    \n",
    "    n = len(nums)\n",
    "\n",
    "    for i in range(0, n+1):\n",
    "        if i not in nums:\n",
    "            return i\n",
    "        \n",
    "    return 'No missing number'\n",
    "        \n",
    "nums = [3, 0, 1]   \n",
    "result = missingNumber(nums)\n",
    "print(\"The missing number is\", result)\n",
    "\n",
    "# Time complexity = O(n*n)\n",
    "# Space complexity = O(1)"
   ]
  },
  {
   "cell_type": "code",
   "execution_count": 48,
   "id": "b6afd4b1",
   "metadata": {},
   "outputs": [
    {
     "name": "stdout",
     "output_type": "stream",
     "text": [
      "The missing number is 2\n"
     ]
    }
   ],
   "source": [
    "# Solution 2 - optimal approach\n",
    "\n",
    "def findMissingNumber(nums):\n",
    "    n = len(nums)+1\n",
    "    \n",
    "    expected_sum = (n*(n-1)) // 2\n",
    "    \n",
    "    actual_sum = sum(nums)\n",
    "    \n",
    "    missing_number = (expected_sum - actual_sum)\n",
    "    \n",
    "    return missing_number\n",
    "\n",
    "nums = [3, 0, 1]\n",
    "result = findMissingNumber(nums)\n",
    "print('The missing number is', result)\n",
    "\n",
    "# Time complexity = O(n)\n",
    "# Space complexity = O(1)"
   ]
  },
  {
   "cell_type": "code",
   "execution_count": null,
   "id": "d3d743df",
   "metadata": {},
   "outputs": [],
   "source": []
  },
  {
   "cell_type": "code",
   "execution_count": null,
   "id": "3580b48c",
   "metadata": {},
   "outputs": [],
   "source": []
  },
  {
   "cell_type": "code",
   "execution_count": null,
   "id": "e22420c6",
   "metadata": {},
   "outputs": [],
   "source": []
  },
  {
   "cell_type": "code",
   "execution_count": null,
   "id": "ae301a21",
   "metadata": {},
   "outputs": [],
   "source": []
  },
  {
   "cell_type": "code",
   "execution_count": null,
   "id": "18d12692",
   "metadata": {},
   "outputs": [],
   "source": []
  },
  {
   "cell_type": "code",
   "execution_count": null,
   "id": "011374c6",
   "metadata": {},
   "outputs": [],
   "source": []
  }
 ],
 "metadata": {
  "kernelspec": {
   "display_name": "Python 3 (ipykernel)",
   "language": "python",
   "name": "python3"
  },
  "language_info": {
   "codemirror_mode": {
    "name": "ipython",
    "version": 3
   },
   "file_extension": ".py",
   "mimetype": "text/x-python",
   "name": "python",
   "nbconvert_exporter": "python",
   "pygments_lexer": "ipython3",
   "version": "3.10.9"
  }
 },
 "nbformat": 4,
 "nbformat_minor": 5
}
