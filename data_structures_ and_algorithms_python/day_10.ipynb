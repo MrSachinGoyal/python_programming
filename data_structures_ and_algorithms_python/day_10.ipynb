{
 "cells": [
  {
   "cell_type": "markdown",
   "id": "0bc833b5",
   "metadata": {},
   "source": [
    "#### Move Zeroes\n",
    "- Input: nums = [0,1,0,3,12]\n",
    "- Output: [1,3,12,0,0]"
   ]
  },
  {
   "cell_type": "code",
   "execution_count": 10,
   "id": "52740a4b",
   "metadata": {},
   "outputs": [
    {
     "name": "stdout",
     "output_type": "stream",
     "text": [
      "[1, 3, 12, 0, 0]\n"
     ]
    }
   ],
   "source": [
    "nums = [0,1,0,3,12]\n",
    "\n",
    "# Solution 1 - nested loops\n",
    "\n",
    "def moveZeros(nums):\n",
    "    \n",
    "    n = len(nums)\n",
    "    \n",
    "    for i in range(n-1):\n",
    "        for j in range(i+1, n):\n",
    "            if nums[i] == 0:\n",
    "                nums[i], nums[j] = nums[j], nums[i] # swap the elements if element at ith position is zero\n",
    "\n",
    "                \n",
    "    return nums\n",
    "\n",
    "result = moveZeros(nums)\n",
    "print(result)\n",
    "\n",
    "# Time Complexity = O(n)\n",
    "# Space Complexity = O(1)"
   ]
  },
  {
   "cell_type": "code",
   "execution_count": 44,
   "id": "48d8a303",
   "metadata": {},
   "outputs": [
    {
     "name": "stdout",
     "output_type": "stream",
     "text": [
      "[1, 3, 12, 0, 0]\n"
     ]
    }
   ],
   "source": [
    "nums = [0,1,0,3,12]\n",
    "\n",
    "# Solution 2 - two pointer approach\n",
    "\n",
    "def moveZerosToLast(nums):\n",
    "    \n",
    "    j = 0\n",
    "    i = 1\n",
    "    \n",
    "    while i < len(nums):\n",
    "        if nums[j] == 0 and nums[i] != 0:   \n",
    "            nums[j], nums[i] = nums[i], nums[j]\n",
    "            j = j+1\n",
    "            i = i+1\n",
    "            \n",
    "        elif nums[j] == 0 and nums[i] == 0:\n",
    "            i = i+1\n",
    "            \n",
    "        else:\n",
    "            j = j+1\n",
    "            i = i+1\n",
    "            \n",
    "    return nums\n",
    "            \n",
    "            \n",
    "result = moveZerosToLast(nums)\n",
    "print(result)\n",
    "\n",
    "# Time Complexity = O(n)\n",
    "# Space Complexity = O(1)"
   ]
  },
  {
   "cell_type": "code",
   "execution_count": null,
   "id": "9f0cb71b",
   "metadata": {},
   "outputs": [],
   "source": []
  },
  {
   "cell_type": "code",
   "execution_count": null,
   "id": "f53266e0",
   "metadata": {},
   "outputs": [],
   "source": []
  },
  {
   "cell_type": "code",
   "execution_count": null,
   "id": "4ce2b0e0",
   "metadata": {},
   "outputs": [],
   "source": []
  }
 ],
 "metadata": {
  "kernelspec": {
   "display_name": "Python 3 (ipykernel)",
   "language": "python",
   "name": "python3"
  },
  "language_info": {
   "codemirror_mode": {
    "name": "ipython",
    "version": 3
   },
   "file_extension": ".py",
   "mimetype": "text/x-python",
   "name": "python",
   "nbconvert_exporter": "python",
   "pygments_lexer": "ipython3",
   "version": "3.10.9"
  }
 },
 "nbformat": 4,
 "nbformat_minor": 5
}
