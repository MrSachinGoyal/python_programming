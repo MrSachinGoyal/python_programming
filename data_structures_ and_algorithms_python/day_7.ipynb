{
 "cells": [
  {
   "cell_type": "markdown",
   "id": "b7cb1400",
   "metadata": {},
   "source": [
    "#### Left Rotate the Array by once\n",
    "- https://www.codingninjas.com/studio/problems/left-rotate-an-array-by-one_5026278?utm_source=striver&utm_medium=website&utm_campaign=a_zcoursetuf"
   ]
  },
  {
   "cell_type": "code",
   "execution_count": 21,
   "id": "6d97e21d",
   "metadata": {},
   "outputs": [
    {
     "name": "stdout",
     "output_type": "stream",
     "text": [
      "[2, 3, 4, 5, 1]\n"
     ]
    }
   ],
   "source": [
    "arr = [1, 2, 3, 4, 5]\n",
    "\n",
    "# Solution \n",
    "\n",
    "def left_rotate_array(arr):\n",
    "    \n",
    "    temp = arr[0]\n",
    "    for i in range(1, len(arr)):\n",
    "        arr[i-1] = arr[i]\n",
    "        \n",
    "    arr[len(arr)-1] = temp\n",
    "    \n",
    "    return arr\n",
    "\n",
    "result = left_rotate_array(arr)\n",
    "print(result)\n",
    "\n",
    "# Time Complexity = O(n)\n",
    "# Space Complexity = O(1)"
   ]
  },
  {
   "cell_type": "markdown",
   "id": "19383474",
   "metadata": {},
   "source": [
    "#### Left rotate an array by D places\n",
    "- https://www.codingninjas.com/studio/problems/rotate-array_1230543?utm_source=striver&utm_medium=website&utm_campaign=a_zcoursetuf&leftPanelTabValue=PROBLEM"
   ]
  },
  {
   "cell_type": "code",
   "execution_count": 26,
   "id": "489ac694",
   "metadata": {},
   "outputs": [
    {
     "name": "stdout",
     "output_type": "stream",
     "text": [
      "[4, 5, 1, 2, 3]\n"
     ]
    }
   ],
   "source": [
    "arr = [1, 2, 3, 4, 5]\n",
    "\n",
    "def rotate_array(arr, d):\n",
    "    tmp_array = arr[0:d]\n",
    "    \n",
    "    for i in range(d, len(arr)):\n",
    "        arr[i-d] = arr[i]\n",
    "        \n",
    "    arr[len(arr)-d:] = tmp_array\n",
    "        \n",
    "    return arr\n",
    "\n",
    "result = rotate_array(arr,3)\n",
    "print(result)\n",
    "\n",
    "# Time Complexity = O(n)\n",
    "# Space Complexity = O(d)"
   ]
  },
  {
   "cell_type": "code",
   "execution_count": null,
   "id": "2f0d22fc",
   "metadata": {},
   "outputs": [],
   "source": []
  },
  {
   "cell_type": "code",
   "execution_count": null,
   "id": "a5cb1824",
   "metadata": {},
   "outputs": [],
   "source": []
  },
  {
   "cell_type": "code",
   "execution_count": null,
   "id": "6bcc083c",
   "metadata": {},
   "outputs": [],
   "source": []
  },
  {
   "cell_type": "code",
   "execution_count": null,
   "id": "2961f6b5",
   "metadata": {},
   "outputs": [],
   "source": []
  },
  {
   "cell_type": "code",
   "execution_count": null,
   "id": "62055b14",
   "metadata": {},
   "outputs": [],
   "source": []
  },
  {
   "cell_type": "code",
   "execution_count": null,
   "id": "456e134b",
   "metadata": {},
   "outputs": [],
   "source": []
  },
  {
   "cell_type": "code",
   "execution_count": null,
   "id": "0cb55d84",
   "metadata": {},
   "outputs": [],
   "source": []
  }
 ],
 "metadata": {
  "kernelspec": {
   "display_name": "Python 3 (ipykernel)",
   "language": "python",
   "name": "python3"
  },
  "language_info": {
   "codemirror_mode": {
    "name": "ipython",
    "version": 3
   },
   "file_extension": ".py",
   "mimetype": "text/x-python",
   "name": "python",
   "nbconvert_exporter": "python",
   "pygments_lexer": "ipython3",
   "version": "3.10.9"
  }
 },
 "nbformat": 4,
 "nbformat_minor": 5
}
