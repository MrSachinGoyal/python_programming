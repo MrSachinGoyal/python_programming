{
 "cells": [
  {
   "cell_type": "markdown",
   "id": "abe1465f",
   "metadata": {},
   "source": [
    "#### Remove Duplicates from the array\n",
    "- https://leetcode.com/problems/remove-duplicates-from-sorted-array/"
   ]
  },
  {
   "cell_type": "code",
   "execution_count": 71,
   "id": "6fad738e",
   "metadata": {},
   "outputs": [
    {
     "name": "stdout",
     "output_type": "stream",
     "text": [
      "Unique elements in the array are: 3\n"
     ]
    }
   ],
   "source": [
    "nums = [1, 2, 2, 2, 3]\n",
    "\n",
    "# Solution 1 - using set approach\n",
    "\n",
    "def removeDuplicates(nums):\n",
    "    \n",
    "    set_int = set()\n",
    "\n",
    "    for i in nums:\n",
    "        set_int.add(i)\n",
    "\n",
    "    i = 0\n",
    "    for number in set_int:\n",
    "        nums[i] = number\n",
    "        i = i+1\n",
    "\n",
    "    return i\n",
    "\n",
    "result = removeDuplicates(nums)\n",
    "print('Unique elements in the array are:', result)\n",
    "\n",
    "# Time Complexity = O(n+n) --> O(2n) --> O(n)\n",
    "# Space Complexity = O(n)"
   ]
  },
  {
   "cell_type": "code",
   "execution_count": 72,
   "id": "d4770307",
   "metadata": {},
   "outputs": [
    {
     "name": "stdout",
     "output_type": "stream",
     "text": [
      "Unique elements in the array are: 3\n"
     ]
    }
   ],
   "source": [
    "nums = [1, 2, 2, 2, 3]\n",
    "\n",
    "# Solution 2  - two pointer approach\n",
    "\n",
    "def remove_duplicates(nums):\n",
    "    \n",
    "    left = 0\n",
    "    right = 1\n",
    "    \n",
    "    while right < len(nums):\n",
    "        if nums[left] != nums[right]:\n",
    "            left = left + 1\n",
    "            nums[left] = nums[right]\n",
    "        right = right + 1\n",
    "        \n",
    "    return left + 1\n",
    "\n",
    "result = remove_duplicates(nums)\n",
    "print('Unique elements in the array are:', result)\n",
    "\n",
    "# Time Complexity = O(n)\n",
    "# Space Complexity = O(1)"
   ]
  },
  {
   "cell_type": "code",
   "execution_count": null,
   "id": "130637fc",
   "metadata": {},
   "outputs": [],
   "source": []
  },
  {
   "cell_type": "code",
   "execution_count": null,
   "id": "eeee16ba",
   "metadata": {},
   "outputs": [],
   "source": []
  }
 ],
 "metadata": {
  "kernelspec": {
   "display_name": "Python 3 (ipykernel)",
   "language": "python",
   "name": "python3"
  },
  "language_info": {
   "codemirror_mode": {
    "name": "ipython",
    "version": 3
   },
   "file_extension": ".py",
   "mimetype": "text/x-python",
   "name": "python",
   "nbconvert_exporter": "python",
   "pygments_lexer": "ipython3",
   "version": "3.10.9"
  }
 },
 "nbformat": 4,
 "nbformat_minor": 5
}
