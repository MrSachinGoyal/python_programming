{
 "cells": [
  {
   "cell_type": "markdown",
   "id": "941151bb",
   "metadata": {},
   "source": [
    "#### Second Largest Element in an Array"
   ]
  },
  {
   "cell_type": "code",
   "execution_count": 68,
   "id": "e4abe46f",
   "metadata": {},
   "outputs": [
    {
     "name": "stdout",
     "output_type": "stream",
     "text": [
      "Second largest and Second smallest element in the array are 4 and 2 respectively\n"
     ]
    }
   ],
   "source": [
    "arr = [1, 2, 3, 4, 5]\n",
    "\n",
    "# Solution - sorting approach\n",
    "def second_Largest_and_smallest_element(arr):\n",
    "    \n",
    "    n = len(arr)\n",
    "    \n",
    "    arr.sort()\n",
    "    \n",
    "    # there might be the case that smallest and largest element are present in the array for more than 1 time\n",
    "    largest = arr[n-1]\n",
    "    for i in range(n-2, 0, -1):\n",
    "        if arr[i] != largest:\n",
    "            second_largest = arr[i]\n",
    "            break\n",
    "            \n",
    "    smallest = arr[0]\n",
    "    for j in range(1, n):\n",
    "        if arr[j] != smallest:\n",
    "            second_smallest = arr[j]\n",
    "            break\n",
    "            \n",
    "    return second_largest, second_smallest\n",
    "\n",
    "second_largest, second_smallest = second_Largest_and_smallest_element(arr)\n",
    "print(f'Second largest and Second smallest element in the array are {second_largest} and {second_smallest} respectively')\n",
    "\n",
    "# Time Complexity = O(nlogn) + O(n) + O(n) = O(nlogn)\n",
    "# Space Complexity = O(1)"
   ]
  },
  {
   "cell_type": "code",
   "execution_count": 67,
   "id": "f28326d7",
   "metadata": {},
   "outputs": [
    {
     "name": "stdout",
     "output_type": "stream",
     "text": [
      "Second largest and Second smallest element in the array are 4 and 2 respectively\n"
     ]
    }
   ],
   "source": [
    "import sys\n",
    "\n",
    "arr = [1, 2, 3, 4, 5]\n",
    "\n",
    "# Solution 2\n",
    "\n",
    "def SecondLargestSmallestElement(arr):\n",
    "    n = len(arr)\n",
    "    \n",
    "    largest = arr[0]\n",
    "    second_largest = -1\n",
    "    \n",
    "    for i in range(1, n):\n",
    "        if arr[i] > largest:\n",
    "            second_largest = largest\n",
    "            largest = arr[i]\n",
    "            \n",
    "         # there can be a possibility that array element is smaller than largest element but can be greater than second largest element\n",
    "        elif arr[i] < largest and arr[i] > second_largest:\n",
    "            second_largest = arr[i]\n",
    "    \n",
    "    smallest = arr[0]\n",
    "    second_smallest = sys.maxsize\n",
    "    \n",
    "    for i in range(1, n):\n",
    "        if arr[i] < smallest:\n",
    "            second_smallest = smallest\n",
    "            smallest = arr[i]\n",
    "            \n",
    "        # there can be a possibility that array element not smaller than smaller element but can be smaller than second smallest elemet\n",
    "        elif arr[i] != smallest and arr[i] < second_smallest:\n",
    "            second_smallest = arr[i]\n",
    "            \n",
    "    return second_largest, second_smallest\n",
    "\n",
    "second_largest, second_smallest = SecondLargestSmallestElement(arr)\n",
    "print(f'Second largest and Second smallest element in the array are {second_largest} and {second_smallest} respectively')\n",
    "\n",
    "# Time Complexity = O(n) + O(n) = O(2n) which simplifies to O(n)\n",
    "# Space Complexity = O(1)"
   ]
  },
  {
   "cell_type": "code",
   "execution_count": null,
   "id": "6e89ff63",
   "metadata": {},
   "outputs": [],
   "source": []
  },
  {
   "cell_type": "code",
   "execution_count": null,
   "id": "01569446",
   "metadata": {},
   "outputs": [],
   "source": []
  },
  {
   "cell_type": "code",
   "execution_count": null,
   "id": "2acc1d81",
   "metadata": {},
   "outputs": [],
   "source": []
  },
  {
   "cell_type": "code",
   "execution_count": null,
   "id": "aa4d46ad",
   "metadata": {},
   "outputs": [],
   "source": []
  },
  {
   "cell_type": "code",
   "execution_count": null,
   "id": "826952c7",
   "metadata": {},
   "outputs": [],
   "source": []
  }
 ],
 "metadata": {
  "kernelspec": {
   "display_name": "Python 3 (ipykernel)",
   "language": "python",
   "name": "python3"
  },
  "language_info": {
   "codemirror_mode": {
    "name": "ipython",
    "version": 3
   },
   "file_extension": ".py",
   "mimetype": "text/x-python",
   "name": "python",
   "nbconvert_exporter": "python",
   "pygments_lexer": "ipython3",
   "version": "3.10.9"
  }
 },
 "nbformat": 4,
 "nbformat_minor": 5
}
