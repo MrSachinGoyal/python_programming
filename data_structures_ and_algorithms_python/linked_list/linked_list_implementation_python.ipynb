{
 "cells": [
  {
   "cell_type": "markdown",
   "id": "bebd6554",
   "metadata": {},
   "source": [
    "# Linked List Implementation in Python\n",
    "\n",
    "This Python code defines a basic implementation of a linked list, consisting of a Node class and a LinkedList class. Key operations include insertion at the head, appending at the end, inserting after a specific node, deletion of the head, pop operation, removal of a specific value, searching for an item, and fetching items using indexing.\n",
    "\n",
    "Classes:\n",
    "\n",
    "- Node: Represents a node in the linked list with a data field and a reference to the next node.\n",
    "- LinkedList: Implements the linked list with methods for insertion, deletion, and other operations.\n",
    "\n",
    "Methods:\n",
    "\n",
    "- insert_head(value): Inserts a new node at the beginning of the linked list.\n",
    "- append(value): Appends a new node at the end of the linked list.\n",
    "- insert_after(after, value): Inserts a new node with a given value after a specified node.\n",
    "- delete_head(): Deletes the head node of the linked list.\n",
    "- pop(): Removes and returns the last node of the linked list.\n",
    "- remove(value): Removes the node with a specified value from the linked list.\n",
    "- search(item): Searches for a specific item in the linked list and returns its position.\n",
    "- __getitem__(index): Fetches the item at a specified index in the linked list.\n",
    "\n",
    "Usage:\n",
    "\n",
    "- Creating a linked list object: LL = LinkedList()\n",
    "- Performing various operations such as insertion, deletion, and searching.\n",
    "- Printing the linked list and its length."
   ]
  },
  {
   "cell_type": "code",
   "execution_count": 65,
   "id": "5d6866e1",
   "metadata": {},
   "outputs": [],
   "source": [
    "class Node:\n",
    "    def __init__(self, value):\n",
    "        self.data = value\n",
    "        self.next = None\n",
    "\n",
    "class LinkedList:\n",
    "    def __init__(self):\n",
    "        \n",
    "        # Empty Linked List\n",
    "        self.head = None\n",
    "        \n",
    "        # number of nodes in the Linked List is 0\n",
    "        self.n = 0\n",
    "        \n",
    "    def __len__(self):\n",
    "        return self.n\n",
    "    \n",
    "    def insert_head(self, value):\n",
    "        \n",
    "        # creating a new node\n",
    "        new_node = Node(value)\n",
    "        \n",
    "        # creating connection \n",
    "        new_node.next = self.head\n",
    "        \n",
    "        # reassign new node as head node\n",
    "        self.head = new_node\n",
    "        \n",
    "        # increment n\n",
    "        self.n = self.n + 1\n",
    "        \n",
    "    def __str__(self):\n",
    "        \n",
    "        # initialising current to head node\n",
    "        curr = self.head\n",
    "        \n",
    "        # initialise variable to store the output\n",
    "        result = ''\n",
    "        \n",
    "        # traversing through the Linked List \n",
    "        while curr != None:\n",
    "            result = result + str(curr.data) + '->'\n",
    "            curr = curr.next\n",
    "            \n",
    "        return result + 'None'\n",
    "    \n",
    "    def append(self, value):\n",
    "        \n",
    "        # creating a new node\n",
    "        new_node = Node(value)\n",
    "        \n",
    "        # checking whether the linked list is empty or not\n",
    "        if self.head == None:\n",
    "            self.head = new_node\n",
    "            \n",
    "            self.n = self.n + 1\n",
    "            return\n",
    "        \n",
    "        # if linked list is not empty, traversing to the last node\n",
    "        curr = self.head\n",
    "        \n",
    "        while curr.next != None:\n",
    "            curr = curr.next\n",
    "            \n",
    "        # Now we are at last/tail node\n",
    "        curr.next = new_node\n",
    "        self.n = self.n + 1\n",
    "        \n",
    "    def insert_after(self, after, value):\n",
    "        \n",
    "        new_node = Node(value)\n",
    "        \n",
    "        curr = self.head\n",
    "        \n",
    "        while curr != None:\n",
    "            if curr.data == after:\n",
    "                break\n",
    "            curr = curr.next\n",
    "            \n",
    "        # it means current node has some value which is equal to after    \n",
    "        if curr != None:\n",
    "            new_node.next = curr.next\n",
    "            curr.next = new_node\n",
    "            \n",
    "            self.n = self.n + 1  \n",
    "        else:   # it means that we have traversed till end of the linked list and after is not found\n",
    "            return 'Item not found'\n",
    "        \n",
    "    def clear(self):\n",
    "        self.head = None\n",
    "        self.n = 0\n",
    "        \n",
    "    def delete_head(self):\n",
    "        \n",
    "        # Checking if linked is empty\n",
    "        if self.head == None:\n",
    "            return 'Empty linked list'\n",
    "        \n",
    "        self.head = self.head.next\n",
    "        self.n = self.n - 1\n",
    "        \n",
    "    def pop(self):\n",
    "        \n",
    "        # Checking if linked is empty\n",
    "        if self.head == None:\n",
    "            return 'Empty linked list'\n",
    "        \n",
    "        curr = self.head \n",
    "        \n",
    "        # checking if linked list has only one node, we can call delete_head function\n",
    "        if curr.next == None:\n",
    "            popped_value = curr.data\n",
    "            self.delete_head()\n",
    "            return popped_value\n",
    "            \n",
    "        # traversing till second last node of the linked list\n",
    "        while curr.next.next != None:\n",
    "            curr = curr.next\n",
    "        \n",
    "        popped_value = curr.next.data\n",
    "        \n",
    "        # Now we are at second last node\n",
    "        curr.next = None\n",
    "        self.n = self.n - 1\n",
    "        \n",
    "        return popped_value\n",
    "    \n",
    "    def remove(self, value):\n",
    "        \n",
    "         # Checking if linked is empty\n",
    "        if self.head == None:\n",
    "            return 'Empty linked list'\n",
    "        \n",
    "        # checking if linked list has only one node and data in the node is equal to the value which needs to be removed,\n",
    "        # we can call delete_head function\n",
    "        if self.head.data == value:\n",
    "            self.delete_head()\n",
    "            return 'Value removed successfully'\n",
    "        \n",
    "        curr = self.head\n",
    "            \n",
    "        while curr.next != None:\n",
    "            if curr.next.data == value:\n",
    "                break\n",
    "            curr = curr.next\n",
    "        \n",
    "        if curr.next == None:        # it indicates we traversed till end of the linked list\n",
    "            return 'Value Not Found'\n",
    "        else:                   # it indicates value has been found\n",
    "            curr.next = curr.next.next\n",
    "            self.n = self.n - 1\n",
    "            return 'Value removed successfully'\n",
    "            \n",
    "    def search(self, item):\n",
    "        \n",
    "        curr = self.head\n",
    "        pos = 0\n",
    "        \n",
    "        while curr != None:\n",
    "            if curr.data == item:\n",
    "                return pos\n",
    "            curr = curr.next\n",
    "            pos = pos + 1\n",
    "            \n",
    "        return -1\n",
    "            \n",
    "    def __getitem__(self, index):\n",
    "        \n",
    "        curr = self.head\n",
    "        pos = 0\n",
    "        \n",
    "        while curr != None:\n",
    "            if pos == index:\n",
    "                return curr.data\n",
    "            curr = curr.next\n",
    "            pos = pos + 1\n",
    "            \n",
    "        return 'Index Error'"
   ]
  },
  {
   "cell_type": "code",
   "execution_count": 66,
   "id": "77b7f49e",
   "metadata": {},
   "outputs": [],
   "source": [
    "# creating a Linked List object\n",
    "LL = LinkedList()"
   ]
  },
  {
   "cell_type": "code",
   "execution_count": 67,
   "id": "99d48a30",
   "metadata": {},
   "outputs": [],
   "source": [
    "# inserting values from head in a linked list using insert_head function\n",
    "LL.insert_head(20)\n",
    "LL.insert_head(30)\n",
    "LL.insert_head(40)\n",
    "LL.insert_head(50)"
   ]
  },
  {
   "cell_type": "code",
   "execution_count": 68,
   "id": "455254cf",
   "metadata": {},
   "outputs": [
    {
     "name": "stdout",
     "output_type": "stream",
     "text": [
      "The linked list: 50->40->30->20->None\n"
     ]
    }
   ],
   "source": [
    "# printing the linked list\n",
    "print('The linked list:', LL)"
   ]
  },
  {
   "cell_type": "code",
   "execution_count": 69,
   "id": "7dbaa5df",
   "metadata": {},
   "outputs": [
    {
     "name": "stdout",
     "output_type": "stream",
     "text": [
      "Linked List after appending: 50->40->30->20->10->None\n"
     ]
    }
   ],
   "source": [
    "# appending new node to the linked List using append method\n",
    "LL.append(10)\n",
    "print('Linked List after appending:', LL) # 10 is added at the end"
   ]
  },
  {
   "cell_type": "code",
   "execution_count": 70,
   "id": "3991dd1f",
   "metadata": {},
   "outputs": [
    {
     "name": "stdout",
     "output_type": "stream",
     "text": [
      "Linked List after adding node in the middle: 50->40->30->100->20->10->None\n"
     ]
    }
   ],
   "source": [
    "# Inserting some node into the middle of the linked list using insert_after method\n",
    "LL.insert_after(30, 100)\n",
    "print('Linked List after adding node in the middle:', LL) # 100 is added after 30"
   ]
  },
  {
   "cell_type": "code",
   "execution_count": 71,
   "id": "7a9c93ce",
   "metadata": {},
   "outputs": [
    {
     "name": "stdout",
     "output_type": "stream",
     "text": [
      "Linked List after deleting its head 40->30->100->20->10->None\n"
     ]
    }
   ],
   "source": [
    "# deleting head of the linked list using delete_head method\n",
    "LL.delete_head()\n",
    "print('Linked List after deleting its head', LL) # 50 is deleted"
   ]
  },
  {
   "cell_type": "code",
   "execution_count": 72,
   "id": "d5f2b0fd",
   "metadata": {},
   "outputs": [
    {
     "name": "stdout",
     "output_type": "stream",
     "text": [
      "Linked List after pop operation: 40->30->100->20->None\n"
     ]
    }
   ],
   "source": [
    "# pop operation on the linked list using pop method\n",
    "LL.pop()\n",
    "print('Linked List after pop operation:', LL) # 10 has been removed from the end"
   ]
  },
  {
   "cell_type": "code",
   "execution_count": 73,
   "id": "02e57b84",
   "metadata": {},
   "outputs": [
    {
     "name": "stdout",
     "output_type": "stream",
     "text": [
      "Linked List after remove operation: 40->30->20->None\n"
     ]
    }
   ],
   "source": [
    "# remove operation on the linked list using remove method\n",
    "LL.remove(100)\n",
    "print(\"Linked List after remove operation:\", LL) # 100 has been removed"
   ]
  },
  {
   "cell_type": "code",
   "execution_count": 74,
   "id": "a4829a33",
   "metadata": {},
   "outputs": [
    {
     "name": "stdout",
     "output_type": "stream",
     "text": [
      "-1\n"
     ]
    }
   ],
   "source": [
    "# Searching an item in linked list\n",
    "print(LL.search(100)) # Item does not found"
   ]
  },
  {
   "cell_type": "code",
   "execution_count": 75,
   "id": "f87b211b",
   "metadata": {},
   "outputs": [
    {
     "name": "stdout",
     "output_type": "stream",
     "text": [
      "20\n"
     ]
    }
   ],
   "source": [
    "# Fetching items from linked list using indexing\n",
    "print(LL[2]) # 20 is present at 2 position/index in the linked list"
   ]
  },
  {
   "cell_type": "code",
   "execution_count": 76,
   "id": "a436406c",
   "metadata": {},
   "outputs": [
    {
     "name": "stdout",
     "output_type": "stream",
     "text": [
      "the length of the linked list is: 3\n"
     ]
    }
   ],
   "source": [
    "# checking length of the linked list\n",
    "print('the length of the linked list is:', len(LL)) # 3 nodes are present in linked list"
   ]
  },
  {
   "cell_type": "code",
   "execution_count": null,
   "id": "f79da782",
   "metadata": {},
   "outputs": [],
   "source": []
  },
  {
   "cell_type": "code",
   "execution_count": null,
   "id": "e44f557b",
   "metadata": {},
   "outputs": [],
   "source": []
  },
  {
   "cell_type": "code",
   "execution_count": null,
   "id": "58a9028c",
   "metadata": {},
   "outputs": [],
   "source": []
  }
 ],
 "metadata": {
  "kernelspec": {
   "display_name": "Python 3 (ipykernel)",
   "language": "python",
   "name": "python3"
  },
  "language_info": {
   "codemirror_mode": {
    "name": "ipython",
    "version": 3
   },
   "file_extension": ".py",
   "mimetype": "text/x-python",
   "name": "python",
   "nbconvert_exporter": "python",
   "pygments_lexer": "ipython3",
   "version": "3.10.9"
  }
 },
 "nbformat": 4,
 "nbformat_minor": 5
}
