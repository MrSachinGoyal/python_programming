{
 "cells": [
  {
   "cell_type": "markdown",
   "id": "8cf433b4",
   "metadata": {},
   "source": [
    "#### Check if the array is sorted"
   ]
  },
  {
   "cell_type": "code",
   "execution_count": 26,
   "id": "d070b279",
   "metadata": {},
   "outputs": [
    {
     "name": "stdout",
     "output_type": "stream",
     "text": [
      "1\n"
     ]
    }
   ],
   "source": [
    "arr = [1, 2, 3, 4, 5]\n",
    "\n",
    "# Solution 1 - Modified bubble sort approach\n",
    "\n",
    "def isSorted(arr):\n",
    "    \n",
    "    n = len(arr)\n",
    "    \n",
    "    flag = 0\n",
    "    for i in range(n-1):\n",
    "        for j in range(n-1-i):\n",
    "            if arr[j] > arr[j+1]:\n",
    "                arr[j], arr[j+1] = arr[j+1], arr[j]\n",
    "                    \n",
    "                flag = 1 # if swap occurs set flag = 1\n",
    "                    \n",
    "    if flag == 0:\n",
    "        return 1\n",
    "    else:    \n",
    "        return 0\n",
    "                    \n",
    "result = isSorted(arr)\n",
    "print(result)\n",
    "\n",
    "# Time Complexity = O(n^2)\n",
    "# Space Complexity = O(1)"
   ]
  },
  {
   "cell_type": "code",
   "execution_count": 24,
   "id": "fdc2ba2f",
   "metadata": {},
   "outputs": [
    {
     "name": "stdout",
     "output_type": "stream",
     "text": [
      "1\n"
     ]
    }
   ],
   "source": [
    "# Solution \n",
    "\n",
    "# Solution 2 - optimal approach\n",
    "\n",
    "def isArraySorted(arr):\n",
    "    \n",
    "    n = len(arr)\n",
    "    \n",
    "    i = 0\n",
    "    while i < len(arr)-1:\n",
    "        if arr[i] <= arr[i+1]:\n",
    "            i = i + 1  \n",
    "        else:\n",
    "            return 0\n",
    "               \n",
    "    return 1\n",
    "\n",
    "result = isArraySorted(arr)\n",
    "print(result)\n",
    "\n",
    "# Time Complexity = O(n)\n",
    "# Space Complexity = O(1)"
   ]
  },
  {
   "cell_type": "code",
   "execution_count": null,
   "id": "e97118de",
   "metadata": {},
   "outputs": [],
   "source": []
  }
 ],
 "metadata": {
  "kernelspec": {
   "display_name": "Python 3 (ipykernel)",
   "language": "python",
   "name": "python3"
  },
  "language_info": {
   "codemirror_mode": {
    "name": "ipython",
    "version": 3
   },
   "file_extension": ".py",
   "mimetype": "text/x-python",
   "name": "python",
   "nbconvert_exporter": "python",
   "pygments_lexer": "ipython3",
   "version": "3.10.9"
  }
 },
 "nbformat": 4,
 "nbformat_minor": 5
}
