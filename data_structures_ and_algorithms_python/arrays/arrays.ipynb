{
 "cells": [
  {
   "cell_type": "markdown",
   "id": "b33ade50",
   "metadata": {},
   "source": [
    "#### Find number of pairs with given sum in the array"
   ]
  },
  {
   "cell_type": "code",
   "execution_count": 46,
   "id": "bc643870",
   "metadata": {},
   "outputs": [
    {
     "name": "stdout",
     "output_type": "stream",
     "text": [
      "Number of pairs with given sum: 2\n"
     ]
    }
   ],
   "source": [
    "arr = [1, 5, -1, 7, 100]\n",
    "given_sum = 6\n",
    "\n",
    "# Solution 1 - Brute force approach\n",
    "def estimate_num_pairs(arr):\n",
    "    counter = 0\n",
    "    for i in range(len(arr)-1):\n",
    "        for j in range(i+1, len(arr)):\n",
    "            if arr[i] + arr[j] == given_sum:\n",
    "                counter = counter + 1\n",
    "    return counter\n",
    "\n",
    "result = estimate_num_pairs(arr)\n",
    "print(\"Number of pairs with given sum:\", result)\n",
    "# Time complexity = O(n^2)\n",
    "# Space complexity = O(1)"
   ]
  },
  {
   "cell_type": "code",
   "execution_count": 47,
   "id": "9cd14668",
   "metadata": {},
   "outputs": [
    {
     "name": "stdout",
     "output_type": "stream",
     "text": [
      "Number of pairs with given sum: 2\n"
     ]
    }
   ],
   "source": [
    "# Solution 2 - sorting and two pointer approach\n",
    "def Count_num_pairs(arr):\n",
    "    arr.sort()\n",
    "\n",
    "    left = 0\n",
    "    right = len(arr)-1\n",
    "    counter = 0\n",
    "\n",
    "    while left < right:   \n",
    "        if arr[left] + arr[right] == given_sum:\n",
    "            counter = counter + 1\n",
    "            right = right - 1\n",
    "            left = left + 1\n",
    "        elif arr[left] + arr[right] > given_sum:\n",
    "            right = right - 1\n",
    "        else:\n",
    "            left = left + 1\n",
    "    \n",
    "    return counter\n",
    "\n",
    "result = Count_num_pairs(arr)\n",
    "print(\"Number of pairs with given sum:\", result)\n",
    "\n",
    "# Time complexity = O(nlogn)\n",
    "# Space complexity = O(1)"
   ]
  },
  {
   "cell_type": "code",
   "execution_count": null,
   "id": "77c36bd0",
   "metadata": {},
   "outputs": [],
   "source": []
  },
  {
   "cell_type": "markdown",
   "id": "791f2e05",
   "metadata": {},
   "source": [
    "#### Find Majority element (Boyer-Moore Majority Vote Algorithm)"
   ]
  },
  {
   "cell_type": "code",
   "execution_count": 54,
   "id": "05fb1947",
   "metadata": {},
   "outputs": [
    {
     "name": "stdout",
     "output_type": "stream",
     "text": [
      "Majority element: 2\n"
     ]
    }
   ],
   "source": [
    "arr = [2, 8, 7, 2, 2, 5, 2, 3, 1, 2, 2]\n",
    "\n",
    "# Solution 1 - hashmap approach\n",
    "def majority_element(arr):\n",
    "    n = len(arr)\n",
    "    dic= {}\n",
    "\n",
    "    for num in arr:\n",
    "        dic[num] = dic.get(num, 0) + 1\n",
    "        \n",
    "        if dic[num] > (n // 2):\n",
    "            return num\n",
    "\n",
    "    return None\n",
    "        \n",
    "result = majority_element(arr)\n",
    "\n",
    "if result is None:\n",
    "    print('Majority element not found')\n",
    "else:\n",
    "    print('Majority element:', result)\n",
    "\n",
    "# Time Complexity = O(n) + O(n) = O(n)\n",
    "# Space Complexity = O(n)"
   ]
  },
  {
   "cell_type": "markdown",
   "id": "a0a0508d",
   "metadata": {},
   "source": [
    "#### Boyer-Moore Majority Vote Algorithm"
   ]
  },
  {
   "cell_type": "code",
   "execution_count": 60,
   "id": "614aecbf",
   "metadata": {},
   "outputs": [
    {
     "name": "stdout",
     "output_type": "stream",
     "text": [
      "Majority Element: 2\n"
     ]
    }
   ],
   "source": [
    "# Solution 2 - Boyer-Moore Majority Vote Algorithm\n",
    "class Solution:\n",
    "    def majorityElement(self, nums: List[int]) -> int:\n",
    "\n",
    "        n = len(nums)\n",
    "        count = 0\n",
    "\n",
    "        for i in range(n):\n",
    "            if count == 0:\n",
    "                # If count is 0, reset count to 1 and set the current element as the assumed majority element\n",
    "                count = 1\n",
    "                candidate = nums[i]\n",
    "            # If current element is equal to assumed majority element, increase count by 1\n",
    "            elif nums[i] == candidate:\n",
    "                count = count + 1\n",
    "            else:\n",
    "                # If current element is different from assumed majority element, decrease count by 1\n",
    "                count = count - 1\n",
    "\n",
    "        return candidate \n",
    "\n",
    "nums = [3, 2, 3]\n",
    "obj = Solution()\n",
    "result = obj.majorityElement(nums)\n",
    "print(result)\n",
    "\n",
    "# Time Complexity = O(n)\n",
    "# Space Complexity = O(1)"
   ]
  },
  {
   "cell_type": "code",
   "execution_count": null,
   "id": "99dd7a1d",
   "metadata": {},
   "outputs": [],
   "source": []
  },
  {
   "cell_type": "markdown",
   "id": "f85b58e5",
   "metadata": {},
   "source": [
    "#### Find the Number Occurring Odd Number of Times"
   ]
  },
  {
   "cell_type": "code",
   "execution_count": 24,
   "id": "02207b5a",
   "metadata": {},
   "outputs": [
    {
     "name": "stdout",
     "output_type": "stream",
     "text": [
      "3\n",
      "Number occuring odd no of times: 3\n"
     ]
    }
   ],
   "source": [
    "arr = [1, 2, 3, 2, 3, 1, 3]\n",
    "\n",
    "# Solution 1 - brute force approach nested loops\n",
    "n = len(arr)\n",
    "\n",
    "for i in range(n):\n",
    "    count = 0\n",
    "    for j in range(n):\n",
    "        if arr[j] == arr[i]:\n",
    "            count = count + 1\n",
    "            \n",
    "if count % 2 != 0:\n",
    "    print(arr[i])\n",
    "    \n",
    "# Time Complexity = O(n*n)\n",
    "# Space Complexity = O(1)\n",
    "\n",
    "# Solution 2 - hashmap approach\n",
    "dic = {}\n",
    "for num in arr:\n",
    "    dic[num] = dic.get(num, 0) + 1\n",
    "    \n",
    "for key, value in dic.items():\n",
    "    if value % 2 != 0:\n",
    "        print('Number occuring odd no of times:', key)\n",
    "        \n",
    "# Time Complexity = O(n) + O(n) = O(n)\n",
    "# Space Complexity = O(n)"
   ]
  },
  {
   "cell_type": "code",
   "execution_count": null,
   "id": "f55d053a",
   "metadata": {},
   "outputs": [],
   "source": []
  },
  {
   "cell_type": "markdown",
   "id": "43aafa7f",
   "metadata": {},
   "source": [
    "#### Two sum \n"
   ]
  },
  {
   "cell_type": "code",
   "execution_count": 27,
   "id": "14b65eec",
   "metadata": {},
   "outputs": [
    {
     "name": "stdout",
     "output_type": "stream",
     "text": [
      "[0, 1]\n"
     ]
    }
   ],
   "source": [
    "nums = [2, 7, 11, 15]\n",
    "target = 9\n",
    "\n",
    "# Solution 1 - brute force approach\n",
    "def twoSum(arr):\n",
    "    n = len(nums)\n",
    "    for i in range(n-1):\n",
    "        for j in range(i+1, n):\n",
    "            if nums[i] + nums[j] == target:\n",
    "                return [i, j]\n",
    "\n",
    "result = twoSum(nums)\n",
    "print(result)\n",
    "\n",
    "# Time Complexity = O(n*n)\n",
    "# Space Complexity = O(1)"
   ]
  },
  {
   "cell_type": "code",
   "execution_count": 28,
   "id": "9b869b8e",
   "metadata": {},
   "outputs": [
    {
     "name": "stdout",
     "output_type": "stream",
     "text": [
      "[1, 0]\n"
     ]
    }
   ],
   "source": [
    "nums = [2, 7, 11, 15]\n",
    "target = 9\n",
    "\n",
    "# Solution 2 - hashmap approach\n",
    "dic = {}\n",
    "\n",
    "def two_sum(arr):\n",
    "    for i,j in enumerate(nums):\n",
    "        #print(i)\n",
    "        complement = target - j\n",
    "\n",
    "        if complement not in dic:\n",
    "            dic[j] = i\n",
    "        else:\n",
    "            return [i, dic[complement]]\n",
    "        \n",
    "    return -1\n",
    "    \n",
    "result = two_sum(nums)\n",
    "print(result)\n",
    "\n",
    "# Time complexity = O(n)\n",
    "# Space Complexity = O(n)"
   ]
  },
  {
   "cell_type": "code",
   "execution_count": null,
   "id": "1c2e489d",
   "metadata": {},
   "outputs": [],
   "source": []
  },
  {
   "cell_type": "markdown",
   "id": "8a8a0689",
   "metadata": {},
   "source": [
    "#### Three Sum"
   ]
  },
  {
   "cell_type": "code",
   "execution_count": 22,
   "id": "4f3dcf14",
   "metadata": {},
   "outputs": [
    {
     "name": "stdout",
     "output_type": "stream",
     "text": [
      "[[-1, 0, 1], [-1, -1, 2]]\n"
     ]
    }
   ],
   "source": [
    "nums = [-1,0,1,2,-1,-4]\n",
    "\n",
    "# Solution 1 - brute force approach \n",
    "\n",
    "result = []\n",
    "\n",
    "def threeSum(nums, target):\n",
    " \n",
    "    for i in range(len(nums)-2):\n",
    "        for j in range(i+1, len(nums)-1):\n",
    "            for k in range(j+1, len(nums)):\n",
    "                if nums[i] + nums[j] + nums[k] == target:\n",
    "                    triplet = sorted([nums[i], nums[j], nums[k]])\n",
    "\n",
    "                    if triplet not in result:\n",
    "                        result.append(triplet)\n",
    "                        \n",
    "    return result\n",
    "\n",
    "result = threeSum(nums, 0)\n",
    "print(result)\n",
    "\n",
    "# Time Complexity = O(n^3)\n",
    "# Space Complexity = O(n)"
   ]
  },
  {
   "cell_type": "code",
   "execution_count": 39,
   "id": "985723ae",
   "metadata": {},
   "outputs": [
    {
     "name": "stdout",
     "output_type": "stream",
     "text": [
      "[[-1, -1, 2], [-1, 0, 1]]\n"
     ]
    }
   ],
   "source": [
    "nums = [-1,0,1,2,-1,-4]\n",
    "\n",
    "# Solution 2 - sorting and two-pointer approach\n",
    "\n",
    "def three_Sum(nums, target):\n",
    "    \n",
    "    nums.sort()\n",
    "\n",
    "    result = []\n",
    "\n",
    "    for i in range(len(nums)-2):\n",
    "        j = i+1\n",
    "        k = len(nums)-1\n",
    "\n",
    "        while j < k:\n",
    "            if nums[i] + nums[j] + nums[k] == 0:\n",
    "                triplet = sorted([nums[i], nums[j], nums[k]])\n",
    "\n",
    "                if triplet not in result:\n",
    "                    result.append(triplet)\n",
    "\n",
    "                j = j+1\n",
    "                k = k-1\n",
    "\n",
    "            elif nums[i] + nums[j] + nums[k] > 0:\n",
    "                k = k-1\n",
    "\n",
    "            else:\n",
    "                j = j+1\n",
    "\n",
    "    return result\n",
    "\n",
    "result = three_Sum(nums, 0)\n",
    "print(result)\n",
    "\n",
    "# Time Complexity = O(nlogn) + O(n^2) = O(n^2)\n",
    "# Space Complexity = O(n)"
   ]
  },
  {
   "cell_type": "code",
   "execution_count": null,
   "id": "2d3dd835",
   "metadata": {},
   "outputs": [],
   "source": []
  },
  {
   "cell_type": "markdown",
   "id": "e269bbb2",
   "metadata": {},
   "source": [
    "#### Largest Element in the Array"
   ]
  },
  {
   "cell_type": "code",
   "execution_count": 12,
   "id": "51f231d3",
   "metadata": {},
   "outputs": [
    {
     "name": "stdout",
     "output_type": "stream",
     "text": [
      "Array's Largest Element is: 5\n"
     ]
    }
   ],
   "source": [
    "arr = [1, 2, 3, 4, 5]\n",
    "\n",
    "# Solution 1 - sorting and extracting the last element which is maximum\n",
    "def largestElementArray(arr):\n",
    "    \n",
    "    n = len(arr)\n",
    "    \n",
    "    # sorting the array\n",
    "    arr.sort()\n",
    "    \n",
    "    return arr[n-1]\n",
    "\n",
    "res = largestElementArray(arr)\n",
    "print(\"Array's Largest Element is:\", res)\n",
    "\n",
    "# Time Complexity = O(nlogn)\n",
    "# Space Complexity = O(1)"
   ]
  },
  {
   "cell_type": "code",
   "execution_count": 13,
   "id": "df0a1c95",
   "metadata": {},
   "outputs": [
    {
     "name": "stdout",
     "output_type": "stream",
     "text": [
      "Largest element in the given array: 5\n"
     ]
    }
   ],
   "source": [
    "arr = [1, 2, 3, 4, 5]\n",
    "\n",
    "# Solution 2 - linear search or brute force approach\n",
    "def largestElement(arr):\n",
    "    \n",
    "    max_element = 0\n",
    "    \n",
    "    for i in range(len(arr)):\n",
    "        if arr[i] > max_element:\n",
    "            max_element = arr[i]\n",
    "            \n",
    "    return max_element\n",
    "\n",
    "result = largestElement(arr)\n",
    "print('Largest element in the given array:', result)\n",
    "\n",
    "# Time Complexity = O(n)\n",
    "# Space Complexity = O(1"
   ]
  },
  {
   "cell_type": "code",
   "execution_count": null,
   "id": "5134d128",
   "metadata": {},
   "outputs": [],
   "source": []
  },
  {
   "cell_type": "markdown",
   "id": "abe1465f",
   "metadata": {},
   "source": [
    "#### Remove Duplicates from the array"
   ]
  },
  {
   "cell_type": "code",
   "execution_count": 71,
   "id": "6fad738e",
   "metadata": {},
   "outputs": [
    {
     "name": "stdout",
     "output_type": "stream",
     "text": [
      "Unique elements in the array are: 3\n"
     ]
    }
   ],
   "source": [
    "nums = [1, 2, 2, 2, 3]\n",
    "\n",
    "# Solution 1 - using set approach\n",
    "\n",
    "def removeDuplicates(nums):\n",
    "    \n",
    "    set_int = set()\n",
    "\n",
    "    for i in nums:\n",
    "        set_int.add(i)\n",
    "\n",
    "    i = 0\n",
    "    for number in set_int:\n",
    "        nums[i] = number\n",
    "        i = i+1\n",
    "\n",
    "    return i\n",
    "\n",
    "result = removeDuplicates(nums)\n",
    "print('Unique elements in the array are:', result)\n",
    "\n",
    "# Time Complexity = O(n+n) --> O(2n) --> O(n)\n",
    "# Space Complexity = O(n)"
   ]
  },
  {
   "cell_type": "code",
   "execution_count": 72,
   "id": "d4770307",
   "metadata": {},
   "outputs": [
    {
     "name": "stdout",
     "output_type": "stream",
     "text": [
      "Unique elements in the array are: 3\n"
     ]
    }
   ],
   "source": [
    "nums = [1, 2, 2, 2, 3]\n",
    "\n",
    "# Solution 2  - two pointer approach\n",
    "\n",
    "def remove_duplicates(nums):\n",
    "    \n",
    "    left = 0\n",
    "    right = 1\n",
    "    \n",
    "    while right < len(nums):\n",
    "        if nums[left] != nums[right]:\n",
    "            left = left + 1\n",
    "            nums[left] = nums[right]\n",
    "        right = right + 1\n",
    "        \n",
    "    return left + 1\n",
    "\n",
    "result = remove_duplicates(nums)\n",
    "print('Unique elements in the array are:', result)\n",
    "\n",
    "# Time Complexity = O(n)\n",
    "# Space Complexity = O(1)"
   ]
  },
  {
   "cell_type": "code",
   "execution_count": null,
   "id": "eeee16ba",
   "metadata": {},
   "outputs": [],
   "source": []
  },
  {
   "cell_type": "markdown",
   "id": "b7cb1400",
   "metadata": {},
   "source": [
    "#### Left Rotate the Array by once"
   ]
  },
  {
   "cell_type": "code",
   "execution_count": 21,
   "id": "6d97e21d",
   "metadata": {},
   "outputs": [
    {
     "name": "stdout",
     "output_type": "stream",
     "text": [
      "[2, 3, 4, 5, 1]\n"
     ]
    }
   ],
   "source": [
    "arr = [1, 2, 3, 4, 5]\n",
    "\n",
    "# Solution \n",
    "\n",
    "def left_rotate_array(arr):\n",
    "    \n",
    "    temp = arr[0]\n",
    "    for i in range(1, len(arr)):\n",
    "        arr[i-1] = arr[i]\n",
    "        \n",
    "    arr[len(arr)-1] = temp\n",
    "    \n",
    "    return arr\n",
    "\n",
    "result = left_rotate_array(arr)\n",
    "print(result)\n",
    "\n",
    "# Time Complexity = O(n)\n",
    "# Space Complexity = O(1)"
   ]
  },
  {
   "cell_type": "markdown",
   "id": "19383474",
   "metadata": {},
   "source": [
    "#### Left rotate an array by D places"
   ]
  },
  {
   "cell_type": "code",
   "execution_count": 26,
   "id": "489ac694",
   "metadata": {},
   "outputs": [
    {
     "name": "stdout",
     "output_type": "stream",
     "text": [
      "[4, 5, 1, 2, 3]\n"
     ]
    }
   ],
   "source": [
    "arr = [1, 2, 3, 4, 5]\n",
    "\n",
    "def rotate_array(arr, d):\n",
    "    tmp_array = arr[0:d]\n",
    "    \n",
    "    for i in range(d, len(arr)):\n",
    "        arr[i-d] = arr[i]\n",
    "        \n",
    "    arr[len(arr)-d:] = tmp_array\n",
    "        \n",
    "    return arr\n",
    "\n",
    "result = rotate_array(arr,3)\n",
    "print(result)\n",
    "\n",
    "# Time Complexity = O(n)\n",
    "# Space Complexity = O(d)"
   ]
  },
  {
   "cell_type": "code",
   "execution_count": null,
   "id": "0cb55d84",
   "metadata": {},
   "outputs": [],
   "source": []
  },
  {
   "cell_type": "markdown",
   "id": "941151bb",
   "metadata": {},
   "source": [
    "#### Second Largest Element in an Array"
   ]
  },
  {
   "cell_type": "code",
   "execution_count": 68,
   "id": "e4abe46f",
   "metadata": {},
   "outputs": [
    {
     "name": "stdout",
     "output_type": "stream",
     "text": [
      "Second largest and Second smallest element in the array are 4 and 2 respectively\n"
     ]
    }
   ],
   "source": [
    "arr = [1, 2, 3, 4, 5]\n",
    "\n",
    "# Solution - sorting approach\n",
    "def second_Largest_and_smallest_element(arr):\n",
    "    \n",
    "    n = len(arr)\n",
    "    \n",
    "    arr.sort()\n",
    "    \n",
    "    # there might be the case that smallest and largest element are present in the array for more than 1 time\n",
    "    largest = arr[n-1]\n",
    "    for i in range(n-2, 0, -1):\n",
    "        if arr[i] != largest:\n",
    "            second_largest = arr[i]\n",
    "            break\n",
    "            \n",
    "    smallest = arr[0]\n",
    "    for j in range(1, n):\n",
    "        if arr[j] != smallest:\n",
    "            second_smallest = arr[j]\n",
    "            break\n",
    "            \n",
    "    return second_largest, second_smallest\n",
    "\n",
    "second_largest, second_smallest = second_Largest_and_smallest_element(arr)\n",
    "print(f'Second largest and Second smallest element in the array are {second_largest} and {second_smallest} respectively')\n",
    "\n",
    "# Time Complexity = O(nlogn) + O(n) + O(n) = O(nlogn)\n",
    "# Space Complexity = O(1)"
   ]
  },
  {
   "cell_type": "code",
   "execution_count": 67,
   "id": "f28326d7",
   "metadata": {},
   "outputs": [
    {
     "name": "stdout",
     "output_type": "stream",
     "text": [
      "Second largest and Second smallest element in the array are 4 and 2 respectively\n"
     ]
    }
   ],
   "source": [
    "import sys\n",
    "\n",
    "arr = [1, 2, 3, 4, 5]\n",
    "\n",
    "# Solution 2\n",
    "\n",
    "def SecondLargestSmallestElement(arr):\n",
    "    n = len(arr)\n",
    "    \n",
    "    largest = arr[0]\n",
    "    second_largest = -1\n",
    "    \n",
    "    for i in range(1, n):\n",
    "        if arr[i] > largest:\n",
    "            second_largest = largest\n",
    "            largest = arr[i]\n",
    "            \n",
    "         # there can be a possibility that array element is smaller than largest element but can be greater than second largest element\n",
    "        elif arr[i] < largest and arr[i] > second_largest:\n",
    "            second_largest = arr[i]\n",
    "    \n",
    "    smallest = arr[0]\n",
    "    second_smallest = sys.maxsize\n",
    "    \n",
    "    for i in range(1, n):\n",
    "        if arr[i] < smallest:\n",
    "            second_smallest = smallest\n",
    "            smallest = arr[i]\n",
    "            \n",
    "        # there can be a possibility that array element not smaller than smaller element but can be smaller than second smallest elemet\n",
    "        elif arr[i] != smallest and arr[i] < second_smallest:\n",
    "            second_smallest = arr[i]\n",
    "            \n",
    "    return second_largest, second_smallest\n",
    "\n",
    "second_largest, second_smallest = SecondLargestSmallestElement(arr)\n",
    "print(f'Second largest and Second smallest element in the array are {second_largest} and {second_smallest} respectively')\n",
    "\n",
    "# Time Complexity = O(n) + O(n) = O(2n) which simplifies to O(n)\n",
    "# Space Complexity = O(1)"
   ]
  },
  {
   "cell_type": "code",
   "execution_count": null,
   "id": "826952c7",
   "metadata": {},
   "outputs": [],
   "source": []
  },
  {
   "cell_type": "markdown",
   "id": "8cf433b4",
   "metadata": {},
   "source": [
    "#### Check if the array is sorted"
   ]
  },
  {
   "cell_type": "code",
   "execution_count": 26,
   "id": "d070b279",
   "metadata": {},
   "outputs": [
    {
     "name": "stdout",
     "output_type": "stream",
     "text": [
      "1\n"
     ]
    }
   ],
   "source": [
    "arr = [1, 2, 3, 4, 5]\n",
    "\n",
    "# Solution 1 - Modified bubble sort approach\n",
    "\n",
    "def isSorted(arr):\n",
    "    \n",
    "    n = len(arr)\n",
    "    \n",
    "    flag = 0\n",
    "    for i in range(n-1):\n",
    "        for j in range(n-1-i):\n",
    "            if arr[j] > arr[j+1]:\n",
    "                arr[j], arr[j+1] = arr[j+1], arr[j]\n",
    "                    \n",
    "                flag = 1 # if swap occurs set flag = 1\n",
    "                    \n",
    "    if flag == 0:\n",
    "        return 1\n",
    "    else:    \n",
    "        return 0\n",
    "                    \n",
    "result = isSorted(arr)\n",
    "print(result)\n",
    "\n",
    "# Time Complexity = O(n^2)\n",
    "# Space Complexity = O(1)"
   ]
  },
  {
   "cell_type": "code",
   "execution_count": 24,
   "id": "fdc2ba2f",
   "metadata": {},
   "outputs": [
    {
     "name": "stdout",
     "output_type": "stream",
     "text": [
      "1\n"
     ]
    }
   ],
   "source": [
    "# Solution \n",
    "\n",
    "# Solution 2 - optimal approach\n",
    "\n",
    "def isArraySorted(arr):\n",
    "    \n",
    "    n = len(arr)\n",
    "    \n",
    "    i = 0\n",
    "    while i < len(arr)-1:\n",
    "        if arr[i] <= arr[i+1]:\n",
    "            i = i + 1  \n",
    "        else:\n",
    "            return 0\n",
    "               \n",
    "    return 1\n",
    "\n",
    "result = isArraySorted(arr)\n",
    "print(result)\n",
    "\n",
    "# Time Complexity = O(n)\n",
    "# Space Complexity = O(1)"
   ]
  },
  {
   "cell_type": "code",
   "execution_count": null,
   "id": "e97118de",
   "metadata": {},
   "outputs": [],
   "source": []
  },
  {
   "cell_type": "markdown",
   "id": "0bc833b5",
   "metadata": {},
   "source": [
    "#### Move Zeroes"
   ]
  },
  {
   "cell_type": "code",
   "execution_count": 10,
   "id": "52740a4b",
   "metadata": {},
   "outputs": [
    {
     "name": "stdout",
     "output_type": "stream",
     "text": [
      "[1, 3, 12, 0, 0]\n"
     ]
    }
   ],
   "source": [
    "nums = [0,1,0,3,12]\n",
    "\n",
    "# Solution 1 - nested loops\n",
    "\n",
    "def moveZeros(nums):\n",
    "    \n",
    "    n = len(nums)\n",
    "    \n",
    "    for i in range(n-1):\n",
    "        for j in range(i+1, n):\n",
    "            if nums[i] == 0:\n",
    "                nums[i], nums[j] = nums[j], nums[i] # swap the elements if element at ith position is zero\n",
    "\n",
    "                \n",
    "    return nums\n",
    "\n",
    "result = moveZeros(nums)\n",
    "print(result)\n",
    "\n",
    "# Time Complexity = O(n^2)\n",
    "# Space Complexity = O(1)"
   ]
  },
  {
   "cell_type": "code",
   "execution_count": 44,
   "id": "48d8a303",
   "metadata": {},
   "outputs": [
    {
     "name": "stdout",
     "output_type": "stream",
     "text": [
      "[1, 3, 12, 0, 0]\n"
     ]
    }
   ],
   "source": [
    "nums = [0,1,0,3,12]\n",
    "\n",
    "# Solution 2 - two pointer approach\n",
    "\n",
    "def moveZerosToLast(nums):\n",
    "    \n",
    "    j = 0\n",
    "    i = 1\n",
    "    \n",
    "    while i < len(nums):\n",
    "        if nums[j] == 0 and nums[i] != 0:   \n",
    "            nums[j], nums[i] = nums[i], nums[j]\n",
    "            j = j+1\n",
    "            i = i+1\n",
    "            \n",
    "        elif nums[j] == 0 and nums[i] == 0:\n",
    "            i = i+1\n",
    "            \n",
    "        else:\n",
    "            j = j+1\n",
    "            i = i+1\n",
    "            \n",
    "    return nums\n",
    "            \n",
    "            \n",
    "result = moveZerosToLast(nums)\n",
    "print(result)\n",
    "\n",
    "# Time Complexity = O(n)\n",
    "# Space Complexity = O(1)"
   ]
  },
  {
   "cell_type": "code",
   "execution_count": null,
   "id": "4ce2b0e0",
   "metadata": {},
   "outputs": [],
   "source": []
  },
  {
   "cell_type": "markdown",
   "id": "4c9bea5a",
   "metadata": {},
   "source": [
    "#### Missing number in the array"
   ]
  },
  {
   "cell_type": "code",
   "execution_count": 49,
   "id": "3a3245df",
   "metadata": {},
   "outputs": [
    {
     "name": "stdout",
     "output_type": "stream",
     "text": [
      "The missing number is 2\n"
     ]
    }
   ],
   "source": [
    "# Solution 1 - brute force\n",
    "\n",
    "def missingNumber(nums):\n",
    "    \n",
    "    n = len(nums)\n",
    "\n",
    "    for i in range(0, n+1):\n",
    "        if i not in nums:\n",
    "            return i\n",
    "        \n",
    "    return 'No missing number'\n",
    "        \n",
    "nums = [3, 0, 1]   \n",
    "result = missingNumber(nums)\n",
    "print(\"The missing number is\", result)\n",
    "\n",
    "# Time complexity = O(n*n)\n",
    "# Space complexity = O(1)"
   ]
  },
  {
   "cell_type": "code",
   "execution_count": 48,
   "id": "b6afd4b1",
   "metadata": {},
   "outputs": [
    {
     "name": "stdout",
     "output_type": "stream",
     "text": [
      "The missing number is 2\n"
     ]
    }
   ],
   "source": [
    "# Solution 2 - optimal approach\n",
    "\n",
    "def findMissingNumber(nums):\n",
    "    n = len(nums)+1\n",
    "    \n",
    "    expected_sum = (n*(n-1)) // 2\n",
    "    \n",
    "    actual_sum = sum(nums)\n",
    "    \n",
    "    missing_number = (expected_sum - actual_sum)\n",
    "    \n",
    "    return missing_number\n",
    "\n",
    "nums = [3, 0, 1]\n",
    "result = findMissingNumber(nums)\n",
    "print('The missing number is', result)\n",
    "\n",
    "# Time complexity = O(n)\n",
    "# Space complexity = O(1)"
   ]
  },
  {
   "cell_type": "code",
   "execution_count": null,
   "id": "011374c6",
   "metadata": {},
   "outputs": [],
   "source": []
  },
  {
   "cell_type": "markdown",
   "id": "a3298e91",
   "metadata": {},
   "source": [
    "#### Maximum consecutive ones"
   ]
  },
  {
   "cell_type": "code",
   "execution_count": 31,
   "id": "28cef64c",
   "metadata": {},
   "outputs": [
    {
     "name": "stdout",
     "output_type": "stream",
     "text": [
      "The maximum consecutive ones are 7\n"
     ]
    }
   ],
   "source": [
    "# Solution\n",
    "\n",
    "def findMaxConsecutiveOnes(nums):\n",
    "    \n",
    "    counter = 0\n",
    "    max_consecutive = 0\n",
    "    \n",
    "    for i in range(len(nums)):\n",
    "        if nums[i] == 1:\n",
    "            counter = counter + 1\n",
    "            if counter > max_consecutive:\n",
    "                max_consecutive = counter\n",
    "        else:\n",
    "            counter = 0\n",
    "            \n",
    "    return max_consecutive\n",
    "            \n",
    "nums = [1,1,0,1,1,1,1,1,1,1,0, 1, 1]\n",
    "result = findMaxConsecutiveOnes(nums)\n",
    "print('The maximum consecutive ones are', result)\n",
    "\n",
    "# Time Complexity = O(n)\n",
    "# Space Complexity = O(1)"
   ]
  },
  {
   "cell_type": "markdown",
   "id": "e4fd870f",
   "metadata": {},
   "source": [
    "#### Single Number"
   ]
  },
  {
   "cell_type": "code",
   "execution_count": 32,
   "id": "a60a099e",
   "metadata": {},
   "outputs": [
    {
     "name": "stdout",
     "output_type": "stream",
     "text": [
      "The single number is 4\n"
     ]
    }
   ],
   "source": [
    "# Solution - hashmap approach\n",
    "\n",
    "def singleNumber(nums):\n",
    "    \n",
    "    dic = {}\n",
    "    for i in nums:\n",
    "        if i not in dic:\n",
    "            dic[i] = 1\n",
    "        else:\n",
    "            dic[i] = dic[i] + 1\n",
    "            \n",
    "    for key in dic:\n",
    "        if dic[key] == 1:\n",
    "            return key\n",
    "            \n",
    "    return -1\n",
    "\n",
    "nums = [4, 1, 2, 1, 2]\n",
    "result = singleNumber(nums)\n",
    "print('The single number is', result)\n",
    "\n",
    "# Time complexity = O(n) + O(n) = O(2n) which simplifies to O(n)\n",
    "# Space complexity = O(n)"
   ]
  },
  {
   "cell_type": "code",
   "execution_count": null,
   "id": "98f753e2",
   "metadata": {},
   "outputs": [],
   "source": []
  },
  {
   "cell_type": "markdown",
   "id": "4521f9d0",
   "metadata": {},
   "source": [
    "#### Longest Subarray With Sum K"
   ]
  },
  {
   "cell_type": "code",
   "execution_count": 73,
   "id": "868c0ec7",
   "metadata": {},
   "outputs": [
    {
     "name": "stdout",
     "output_type": "stream",
     "text": [
      "The longest subarray is of length: 3\n"
     ]
    }
   ],
   "source": [
    "# Solution 1 - brute force approach\n",
    "\n",
    "def longestSubarrayWithSumK(arr, k):\n",
    "    \n",
    "    length = 0\n",
    "\n",
    "    for i in range(len(arr)):\n",
    "        total = 0\n",
    "        for j in range(i, len(arr)):\n",
    "            total += arr[j]\n",
    "\n",
    "            if total == k:\n",
    "                length = max(length, (j-i)+1)\n",
    "                \n",
    "    return length\n",
    "\n",
    "arr = [1, 2, 3, 1, 1, 1, 1]\n",
    "result = longestSubarrayWithSumK(arr, 3)\n",
    "print('The longest subarray is of length:', result)\n",
    "\n",
    "# Time complexity = O(n^2)\n",
    "# Space complexity = O(1)"
   ]
  },
  {
   "cell_type": "code",
   "execution_count": 6,
   "id": "71ff8b74",
   "metadata": {},
   "outputs": [
    {
     "name": "stdout",
     "output_type": "stream",
     "text": [
      "The longest subarray is of length: 3\n"
     ]
    }
   ],
   "source": [
    "# Solution 2 - two pointer approach\n",
    "\n",
    "def longestSubarrayWithSumK(arr, target):\n",
    "    left = 0  \n",
    "    right = 0\n",
    "    total = 0  \n",
    "    length = 0 \n",
    "\n",
    "    while right < len(arr):\n",
    "        total += arr[right]\n",
    "\n",
    "        # Update the length if a subarray with the given sum is found\n",
    "        if total == target:\n",
    "            length = max(length, right - left + 1)\n",
    "            \n",
    "        # check if total is greater than the target\n",
    "        elif total > target:\n",
    "            total -= arr[left]\n",
    "            left = left + 1\n",
    "            \n",
    "        right = right + 1\n",
    "        \n",
    "    return length\n",
    "\n",
    "arr = [1, 2, 3, 1, 1, 1, 1]\n",
    "result = longestSubarrayWithSumK(arr, 3)\n",
    "print('The longest subarray is of length:', result)\n",
    "\n",
    "# Time complexity = O(n)\n",
    "# Space complexity = o(1)"
   ]
  },
  {
   "cell_type": "markdown",
   "id": "410b0bf8",
   "metadata": {},
   "source": [
    "#### Maximum subarray sum"
   ]
  },
  {
   "cell_type": "code",
   "execution_count": 1,
   "id": "4509c5c5",
   "metadata": {},
   "outputs": [
    {
     "name": "stdout",
     "output_type": "stream",
     "text": [
      "The maximum subarray sum is: 7\n"
     ]
    }
   ],
   "source": [
    "def maxSubArray(nums):\n",
    "\n",
    "    n = len(arr)\n",
    "    max_sum = float('-inf')\n",
    "\n",
    "    for i in range(n): \n",
    "        for j in range(n):\n",
    "            sum = 0\n",
    "            for k in range(i, j):\n",
    "                sum = sum + arr[k] # calculating sum for each subarray\n",
    "                max_sum = max(sum, max_sum) # finding maximum sum between sum and maximum sum\n",
    "\n",
    "    return max_sum\n",
    "\n",
    "arr = [-2, -3, 4, -1, -2, 1, 5, -3]\n",
    "result = maxSubArray(arr)\n",
    "print(\"The maximum subarray sum is:\", result)\n",
    "\n",
    "# Time complexity = O(n^3)\n",
    "# Space complexity = o(1)"
   ]
  },
  {
   "cell_type": "code",
   "execution_count": 7,
   "id": "56e20272",
   "metadata": {},
   "outputs": [
    {
     "name": "stdout",
     "output_type": "stream",
     "text": [
      "The maximum subarray sum is: 7\n"
     ]
    }
   ],
   "source": [
    "# Solution 2 - Kadane's Algorithm\n",
    "\n",
    "def maxSubArray(arr):\n",
    "\n",
    "    n = len(arr)\n",
    "    max_sum = float('-inf')\n",
    "    sum = 0\n",
    "    \n",
    "    for i in range(n):\n",
    "        # Add the current element to the current sum\n",
    "        sum = sum + arr[i]\n",
    "        \n",
    "        # Update the maximum sum if the current sum is greater\n",
    "        if max_sum < sum:\n",
    "            max_sum = sum\n",
    "        \n",
    "        # If the current sum is negative, reset it to zero\n",
    "        if sum < 0:\n",
    "            sum = 0\n",
    "            \n",
    "    return max_sum\n",
    "\n",
    "arr = [-2, -3, 4, -1, -2, 1, 5, -3]\n",
    "result = maxSubArray(arr)\n",
    "print(\"The maximum subarray sum is:\", result)\n",
    "\n",
    "# Time complexity = O(n)\n",
    "# Space complexity = o(1)"
   ]
  },
  {
   "cell_type": "code",
   "execution_count": null,
   "id": "63d7a81e",
   "metadata": {},
   "outputs": [],
   "source": []
  },
  {
   "cell_type": "code",
   "execution_count": null,
   "id": "aef24743",
   "metadata": {},
   "outputs": [],
   "source": []
  },
  {
   "cell_type": "code",
   "execution_count": null,
   "id": "25f7bc05",
   "metadata": {},
   "outputs": [],
   "source": []
  },
  {
   "cell_type": "code",
   "execution_count": null,
   "id": "455898ea",
   "metadata": {},
   "outputs": [],
   "source": []
  },
  {
   "cell_type": "code",
   "execution_count": null,
   "id": "fbc138bb",
   "metadata": {},
   "outputs": [],
   "source": []
  }
 ],
 "metadata": {
  "kernelspec": {
   "display_name": "Python 3 (ipykernel)",
   "language": "python",
   "name": "python3"
  },
  "language_info": {
   "codemirror_mode": {
    "name": "ipython",
    "version": 3
   },
   "file_extension": ".py",
   "mimetype": "text/x-python",
   "name": "python",
   "nbconvert_exporter": "python",
   "pygments_lexer": "ipython3",
   "version": "3.10.9"
  }
 },
 "nbformat": 4,
 "nbformat_minor": 5
}
