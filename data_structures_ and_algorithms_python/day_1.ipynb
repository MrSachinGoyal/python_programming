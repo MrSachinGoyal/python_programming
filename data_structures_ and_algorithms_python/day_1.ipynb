{
 "cells": [
  {
   "cell_type": "markdown",
   "id": "b33ade50",
   "metadata": {},
   "source": [
    "#### Find number of pairs with given sum in the array"
   ]
  },
  {
   "cell_type": "code",
   "execution_count": 46,
   "id": "bc643870",
   "metadata": {},
   "outputs": [
    {
     "name": "stdout",
     "output_type": "stream",
     "text": [
      "Number of pairs with given sum: 2\n"
     ]
    }
   ],
   "source": [
    "arr = [1, 5, -1, 7, 100]\n",
    "given_sum = 6\n",
    "\n",
    "# Solution 1 - Brute force approach\n",
    "def estimate_num_pairs(arr):\n",
    "    counter = 0\n",
    "    for i in range(len(arr)-1):\n",
    "        for j in range(i+1, len(arr)):\n",
    "            if arr[i] + arr[j] == given_sum:\n",
    "                counter = counter + 1\n",
    "    return counter\n",
    "\n",
    "result = estimate_num_pairs(arr)\n",
    "print(\"Number of pairs with given sum:\", result)\n",
    "# Time complexity = O(n^2)\n",
    "# Space complexity = O(1)"
   ]
  },
  {
   "cell_type": "code",
   "execution_count": 47,
   "id": "9cd14668",
   "metadata": {},
   "outputs": [
    {
     "name": "stdout",
     "output_type": "stream",
     "text": [
      "Number of pairs with given sum: 2\n"
     ]
    }
   ],
   "source": [
    "# Solution 2 - sorting and two pointer approach\n",
    "def Count_num_pairs(arr):\n",
    "    arr.sort()\n",
    "\n",
    "    left = 0\n",
    "    right = len(arr)-1\n",
    "    counter = 0\n",
    "\n",
    "    while left < right:   \n",
    "        if arr[left] + arr[right] == given_sum:\n",
    "            counter = counter + 1\n",
    "            right = right - 1\n",
    "            left = left + 1\n",
    "        elif arr[left] + arr[right] > given_sum:\n",
    "            right = right - 1\n",
    "        else:\n",
    "            left = left + 1\n",
    "    \n",
    "    return counter\n",
    "\n",
    "result = Count_num_pairs(arr)\n",
    "print(\"Number of pairs with given sum:\", result)\n",
    "\n",
    "# Time complexity = O(nlogn)\n",
    "# Space complexity = O(1)"
   ]
  },
  {
   "cell_type": "markdown",
   "id": "791f2e05",
   "metadata": {},
   "source": [
    "#### Find Majority element (Boyer-Moore Majority Vote Algorithm)"
   ]
  },
  {
   "cell_type": "code",
   "execution_count": 54,
   "id": "05fb1947",
   "metadata": {},
   "outputs": [
    {
     "name": "stdout",
     "output_type": "stream",
     "text": [
      "Majority element: 2\n"
     ]
    }
   ],
   "source": [
    "arr = [2, 8, 7, 2, 2, 5, 2, 3, 1, 2, 2]\n",
    "\n",
    "# Solution 1 - hashmap approach\n",
    "def majority_element(arr):\n",
    "    n = len(arr)\n",
    "    dic= {}\n",
    "\n",
    "    for num in arr:\n",
    "        dic[num] = dic.get(num, 0) + 1\n",
    "        \n",
    "        if dic[num] > (n // 2):\n",
    "            return num\n",
    "\n",
    "    return None\n",
    "        \n",
    "result = majority_element(arr)\n",
    "\n",
    "if result is None:\n",
    "    print('Majority element not found')\n",
    "else:\n",
    "    print('Majority element:', result)\n",
    "\n",
    "# Time Complexity = O(n) + O(n) = O(n)\n",
    "# Space Complexity = O(n)"
   ]
  },
  {
   "cell_type": "markdown",
   "id": "a0a0508d",
   "metadata": {},
   "source": [
    "#### Boyer-Moore Majority Vote Algorithm\n",
    "The Boyer-Moore Majority Vote Algorithm is an ingenious approach for finding the majority element in an array with a few key insights:\n",
    "\n",
    "1. Majority Element Property: The algorithm leverages the property of a majority element. A majority element is defined as an element that appears more than n/2 times in the array, where n is the length of the array. \n",
    "\n",
    "2. Cancelling Out Pairs: The algorithm pairs the majority element with other elements in the array. Whenever a non-majority element is encountered, it \"cancels out\" a pair of elements (one being the majority element) because the count of the majority element is decreased by one. This is done to ensure that the count of the majority element remains positive if it is indeed the majority element."
   ]
  },
  {
   "cell_type": "code",
   "execution_count": 60,
   "id": "614aecbf",
   "metadata": {},
   "outputs": [
    {
     "name": "stdout",
     "output_type": "stream",
     "text": [
      "Majority Element: 2\n"
     ]
    }
   ],
   "source": [
    "# Solution 2 - Boyer-Moore Majority Vote Algorithm\n",
    "def majorityElement(arr):\n",
    "    \n",
    "    n = len(arr)\n",
    "    count = 0\n",
    "    candidate = 0\n",
    "    \n",
    "    for i in range(n):\n",
    "        if count == 0:\n",
    "            candidate = arr[i]\n",
    "        if arr[i] == candidate:\n",
    "            count = count + 1\n",
    "        else:\n",
    "            count = count - 1\n",
    "    return candidate\n",
    "\n",
    "result = majorityElement(arr)\n",
    "print('Majority Element:', result)\n",
    "\n",
    "# Time Complexity = O(n)\n",
    "# Space Complexity = O(1)"
   ]
  },
  {
   "cell_type": "markdown",
   "id": "f85b58e5",
   "metadata": {},
   "source": [
    "#### Find the Number Occurring Odd Number of Times"
   ]
  },
  {
   "cell_type": "code",
   "execution_count": 24,
   "id": "02207b5a",
   "metadata": {},
   "outputs": [
    {
     "name": "stdout",
     "output_type": "stream",
     "text": [
      "3\n",
      "Number occuring odd no of times: 3\n"
     ]
    }
   ],
   "source": [
    "arr = [1, 2, 3, 2, 3, 1, 3]\n",
    "\n",
    "# Solution 1 - brute force approach nested loops\n",
    "n = len(arr)\n",
    "\n",
    "for i in range(n):\n",
    "    count = 0\n",
    "    for j in range(n):\n",
    "        if arr[j] == arr[i]:\n",
    "            count = count + 1\n",
    "            \n",
    "if count % 2 != 0:\n",
    "    print(arr[i])\n",
    "    \n",
    "# Time Complexity = O(n*n)\n",
    "# Space Complexity = O(1)\n",
    "\n",
    "# Solution 2 - hashmap approach\n",
    "dic = {}\n",
    "for num in arr:\n",
    "    dic[num] = dic.get(num, 0) + 1\n",
    "    \n",
    "for key, value in dic.items():\n",
    "    if value % 2 != 0:\n",
    "        print('Number occuring odd no of times:', key)\n",
    "        \n",
    "# Time Complexity = O(n) + O(n) = O(n)\n",
    "# Space Complexity = O(n)"
   ]
  },
  {
   "cell_type": "code",
   "execution_count": null,
   "id": "f55d053a",
   "metadata": {},
   "outputs": [],
   "source": []
  },
  {
   "cell_type": "code",
   "execution_count": null,
   "id": "ebbb1ed8",
   "metadata": {},
   "outputs": [],
   "source": []
  },
  {
   "cell_type": "code",
   "execution_count": null,
   "id": "4045dd8a",
   "metadata": {},
   "outputs": [],
   "source": []
  },
  {
   "cell_type": "code",
   "execution_count": null,
   "id": "d452117c",
   "metadata": {},
   "outputs": [],
   "source": []
  },
  {
   "cell_type": "code",
   "execution_count": null,
   "id": "c29ea832",
   "metadata": {},
   "outputs": [],
   "source": []
  },
  {
   "cell_type": "code",
   "execution_count": null,
   "id": "35438cf1",
   "metadata": {},
   "outputs": [],
   "source": []
  },
  {
   "cell_type": "code",
   "execution_count": null,
   "id": "6d749ecf",
   "metadata": {},
   "outputs": [],
   "source": []
  },
  {
   "cell_type": "code",
   "execution_count": null,
   "id": "359adaa7",
   "metadata": {},
   "outputs": [],
   "source": []
  },
  {
   "cell_type": "code",
   "execution_count": null,
   "id": "f24c5350",
   "metadata": {},
   "outputs": [],
   "source": []
  }
 ],
 "metadata": {
  "kernelspec": {
   "display_name": "Python 3 (ipykernel)",
   "language": "python",
   "name": "python3"
  },
  "language_info": {
   "codemirror_mode": {
    "name": "ipython",
    "version": 3
   },
   "file_extension": ".py",
   "mimetype": "text/x-python",
   "name": "python",
   "nbconvert_exporter": "python",
   "pygments_lexer": "ipython3",
   "version": "3.10.9"
  }
 },
 "nbformat": 4,
 "nbformat_minor": 5
}
