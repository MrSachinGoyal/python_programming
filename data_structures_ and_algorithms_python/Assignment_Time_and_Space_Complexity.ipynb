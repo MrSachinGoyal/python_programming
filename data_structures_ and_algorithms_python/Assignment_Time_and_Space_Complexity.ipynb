{
 "cells": [
  {
   "cell_type": "markdown",
   "metadata": {
    "id": "2jnw9mA7ZmdB"
   },
   "source": [
    "## <u>While doing this assignment only use those concepts which have been taught till now</u>"
   ]
  },
  {
   "cell_type": "markdown",
   "metadata": {
    "id": "OUYGTTD6Q2i_"
   },
   "source": [
    "# Problem 1\n",
    "\n",
    "Write a Python function which takes a string as an input and returns the reversed string as an output.\n",
    "\n",
    "\n",
    "*   Do not use any inbuilt funtion or method. Use `for` loops only.\n",
    "*   Also, do the time complexity analysis.\n",
    "\n"
   ]
  },
  {
   "cell_type": "code",
   "execution_count": 1,
   "metadata": {
    "id": "jef509dzQxBU"
   },
   "outputs": [],
   "source": [
    "# Write your code here\n",
    "def reverse_string(string):\n",
    "    reversed_string = \"\"\n",
    "    \n",
    "    if isinstance(string, str):\n",
    "        for i in range(len(string)-1, -1, -1):\n",
    "            reversed_string = reversed_string + string[i]\n",
    "        \n",
    "    return reversed_string"
   ]
  },
  {
   "cell_type": "code",
   "execution_count": 2,
   "metadata": {
    "scrolled": true
   },
   "outputs": [
    {
     "data": {
      "text/plain": [
       "'olleH'"
      ]
     },
     "execution_count": 2,
     "metadata": {},
     "output_type": "execute_result"
    }
   ],
   "source": [
    "reverse_string(\"Hello\")"
   ]
  },
  {
   "cell_type": "markdown",
   "metadata": {},
   "source": [
    "Time Complexity : O(n) \n",
    "- the time complexity of the reverse_string() function is O(n), where n is the length of the string. This is because the     function iterates through the string from the end to the beginning.\n"
   ]
  },
  {
   "cell_type": "markdown",
   "metadata": {
    "id": "wfeWSBcTgO6y"
   },
   "source": [
    "# Problem 2\n",
    "\n",
    "Write a Python function which takes a list of `n` lists as an input. Each of the `n` lists have `m` non-zero positive integers each. The function should return a list which contains `n` integers corresponding to the square of the maximum of each of the `n` lists in the list of lists.\n",
    "\n",
    "Example:\n",
    "Inputs\n",
    "```\n",
    "n = 2\n",
    "m = 3\n",
    "list_of_lists = [[1, 2, 3], [5, 7, 6]]\n",
    "```\n",
    "Output:\n",
    "```\n",
    "[9, 49]\n",
    "```\n",
    "\n",
    "*   Do not use any inbuilt funtion or method. Use `for` loops only.\n",
    "*   Also, do the time complexity analysis.\n"
   ]
  },
  {
   "cell_type": "code",
   "execution_count": 3,
   "metadata": {
    "id": "x2rY4yMChDPM"
   },
   "outputs": [
    {
     "data": {
      "text/plain": [
       "[9, 49]"
      ]
     },
     "execution_count": 3,
     "metadata": {},
     "output_type": "execute_result"
    }
   ],
   "source": [
    "# Write your code here\n",
    "\n",
    "list_of_lists = [[1, 2, 3], [5, 7, 6]]\n",
    "\n",
    "def each_lst_max_element_square(list_of_lists):\n",
    "    max_square_lst = []\n",
    "    max_value = 0\n",
    "    \n",
    "    for lst in list_of_lists:\n",
    "        for number in lst:\n",
    "            if max_value < number:\n",
    "                max_value = number\n",
    "                \n",
    "        max_square_lst.append(max_value**2)\n",
    "        #print(max_square_lst)\n",
    "    return max_square_lst\n",
    "\n",
    "each_lst_max_element_square(list_of_lists)"
   ]
  },
  {
   "cell_type": "markdown",
   "metadata": {},
   "source": [
    "Time Complexity : O(n^2) \n",
    "- The time complexity of the each_lst_max_element_square() function is O(n^2), where n is the number of elements in the outer list. This is because the function iterates through the outer list once, and then iterates through each inner list once. The number of iterations in the inner loop is equal to the number of elements in the inner list, so the overall time complexity is O(n^2)."
   ]
  }
 ],
 "metadata": {
  "colab": {
   "provenance": []
  },
  "kernelspec": {
   "display_name": "Python 3 (ipykernel)",
   "language": "python",
   "name": "python3"
  },
  "language_info": {
   "codemirror_mode": {
    "name": "ipython",
    "version": 3
   },
   "file_extension": ".py",
   "mimetype": "text/x-python",
   "name": "python",
   "nbconvert_exporter": "python",
   "pygments_lexer": "ipython3",
   "version": "3.10.9"
  }
 },
 "nbformat": 4,
 "nbformat_minor": 1
}
