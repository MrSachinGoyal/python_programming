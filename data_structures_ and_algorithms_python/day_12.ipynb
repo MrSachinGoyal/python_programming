{
 "cells": [
  {
   "cell_type": "markdown",
   "id": "a3298e91",
   "metadata": {},
   "source": [
    "#### Maximum consecutive ones\n",
    "- https://leetcode.com/problems/max-consecutive-ones/\n"
   ]
  },
  {
   "cell_type": "code",
   "execution_count": 31,
   "id": "28cef64c",
   "metadata": {},
   "outputs": [
    {
     "name": "stdout",
     "output_type": "stream",
     "text": [
      "The maximum consecutive ones are 7\n"
     ]
    }
   ],
   "source": [
    "# Solution\n",
    "\n",
    "def findMaxConsecutiveOnes(nums):\n",
    "    \n",
    "    counter = 0\n",
    "    max_consecutive = 0\n",
    "    \n",
    "    for i in range(len(nums)):\n",
    "        if nums[i] == 1:\n",
    "            counter = counter + 1\n",
    "            if counter > max_consecutive:\n",
    "                max_consecutive = counter\n",
    "        else:\n",
    "            counter = 0\n",
    "            \n",
    "    return max_consecutive\n",
    "            \n",
    "nums = [1,1,0,1,1,1,1,1,1,1,0, 1, 1]\n",
    "result = findMaxConsecutiveOnes(nums)\n",
    "print('The maximum consecutive ones are', result)\n",
    "\n",
    "# Time Complexity = O(n)\n",
    "# Space Complexity = O(1)"
   ]
  },
  {
   "cell_type": "markdown",
   "id": "e4fd870f",
   "metadata": {},
   "source": [
    "#### Single Number\n",
    "- https://leetcode.com/problems/single-number/"
   ]
  },
  {
   "cell_type": "code",
   "execution_count": 32,
   "id": "a60a099e",
   "metadata": {},
   "outputs": [
    {
     "name": "stdout",
     "output_type": "stream",
     "text": [
      "The single number is 4\n"
     ]
    }
   ],
   "source": [
    "# Solution - hashmap approach\n",
    "\n",
    "def singleNumber(nums):\n",
    "    \n",
    "    dic = {}\n",
    "    for i in nums:\n",
    "        if i not in dic:\n",
    "            dic[i] = 1\n",
    "        else:\n",
    "            dic[i] = dic[i] + 1\n",
    "            \n",
    "    for key in dic:\n",
    "        if dic[key] == 1:\n",
    "            return key\n",
    "            \n",
    "    return -1\n",
    "\n",
    "nums = [4, 1, 2, 1, 2]\n",
    "result = singleNumber(nums)\n",
    "print('The single number is', result)\n",
    "\n",
    "# Time complexity = O(n) + O(n) = O(2n) which simplifies to O(n)\n",
    "# Space complexity = O(n)"
   ]
  },
  {
   "cell_type": "code",
   "execution_count": null,
   "id": "ad116c74",
   "metadata": {},
   "outputs": [],
   "source": []
  },
  {
   "cell_type": "code",
   "execution_count": null,
   "id": "8d3bc5ac",
   "metadata": {},
   "outputs": [],
   "source": []
  },
  {
   "cell_type": "code",
   "execution_count": null,
   "id": "fca600c8",
   "metadata": {},
   "outputs": [],
   "source": []
  },
  {
   "cell_type": "code",
   "execution_count": null,
   "id": "64d1c7b7",
   "metadata": {},
   "outputs": [],
   "source": []
  },
  {
   "cell_type": "code",
   "execution_count": null,
   "id": "98f753e2",
   "metadata": {},
   "outputs": [],
   "source": []
  }
 ],
 "metadata": {
  "kernelspec": {
   "display_name": "Python 3 (ipykernel)",
   "language": "python",
   "name": "python3"
  },
  "language_info": {
   "codemirror_mode": {
    "name": "ipython",
    "version": 3
   },
   "file_extension": ".py",
   "mimetype": "text/x-python",
   "name": "python",
   "nbconvert_exporter": "python",
   "pygments_lexer": "ipython3",
   "version": "3.10.9"
  }
 },
 "nbformat": 4,
 "nbformat_minor": 5
}
