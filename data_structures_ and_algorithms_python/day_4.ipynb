{
 "cells": [
  {
   "cell_type": "markdown",
   "id": "940f4f8d",
   "metadata": {},
   "source": [
    "#### Three Sum\n",
    "- https://leetcode.com/problems/3sum/"
   ]
  },
  {
   "cell_type": "code",
   "execution_count": 22,
   "id": "4f3dcf14",
   "metadata": {},
   "outputs": [
    {
     "name": "stdout",
     "output_type": "stream",
     "text": [
      "[[-1, 0, 1], [-1, -1, 2]]\n"
     ]
    }
   ],
   "source": [
    "nums = [-1,0,1,2,-1,-4]\n",
    "\n",
    "# Solution 1 - brute force approach \n",
    "\n",
    "result = []\n",
    "\n",
    "def threeSum(nums, target):\n",
    " \n",
    "    for i in range(len(nums)-2):\n",
    "        for j in range(i+1, len(nums)-1):\n",
    "            for k in range(j+1, len(nums)):\n",
    "                if nums[i] + nums[j] + nums[k] == 0:\n",
    "                    triplet = sorted([nums[i], nums[j], nums[k]])\n",
    "\n",
    "                    if triplet not in result:\n",
    "                        result.append(triplet)\n",
    "                        \n",
    "    return result\n",
    "\n",
    "result = threeSum(nums, 0)\n",
    "print(result)\n",
    "\n",
    "# Time Complexity = O(n^3)\n",
    "# Space Complexity = O(n)"
   ]
  },
  {
   "cell_type": "code",
   "execution_count": 39,
   "id": "d09d4fb8",
   "metadata": {},
   "outputs": [
    {
     "name": "stdout",
     "output_type": "stream",
     "text": [
      "[[-1, -1, 2], [-1, 0, 1]]\n"
     ]
    }
   ],
   "source": [
    "nums = [-1,0,1,2,-1,-4]\n",
    "\n",
    "# Solution 2 - sorting and two-pointer approach\n",
    "\n",
    "def three_Sum(nums, target):\n",
    "    \n",
    "    nums.sort()\n",
    "\n",
    "    result = []\n",
    "\n",
    "    for i in range(len(nums)-2):\n",
    "        j = i+1\n",
    "        k = len(nums)-1\n",
    "\n",
    "        while j < k:\n",
    "            if nums[i] + nums[j] + nums[k] == 0:\n",
    "                triplet = sorted([nums[i], nums[j], nums[k]])\n",
    "\n",
    "                if triplet not in result:\n",
    "                    result.append(triplet)\n",
    "\n",
    "                j = j+1\n",
    "                k = k-1\n",
    "\n",
    "            elif nums[i] + nums[j] + nums[k] > 0:\n",
    "                k = k-1\n",
    "\n",
    "            else:\n",
    "                j = j+1\n",
    "\n",
    "    return result\n",
    "\n",
    "result = three_Sum(nums, 0)\n",
    "print(result)\n",
    "\n",
    "# Time Complexity = O(nlogn) + O(n^2) = O(n^2)\n",
    "# Space Complexity = O(n)"
   ]
  },
  {
   "cell_type": "code",
   "execution_count": null,
   "id": "b72e32ba",
   "metadata": {},
   "outputs": [],
   "source": []
  },
  {
   "cell_type": "code",
   "execution_count": null,
   "id": "394dfcb2",
   "metadata": {},
   "outputs": [],
   "source": []
  },
  {
   "cell_type": "code",
   "execution_count": null,
   "id": "d637f863",
   "metadata": {},
   "outputs": [],
   "source": []
  },
  {
   "cell_type": "code",
   "execution_count": null,
   "id": "a6e83e59",
   "metadata": {},
   "outputs": [],
   "source": []
  }
 ],
 "metadata": {
  "kernelspec": {
   "display_name": "Python 3 (ipykernel)",
   "language": "python",
   "name": "python3"
  },
  "language_info": {
   "codemirror_mode": {
    "name": "ipython",
    "version": 3
   },
   "file_extension": ".py",
   "mimetype": "text/x-python",
   "name": "python",
   "nbconvert_exporter": "python",
   "pygments_lexer": "ipython3",
   "version": "3.10.9"
  }
 },
 "nbformat": 4,
 "nbformat_minor": 5
}
