{
 "cells": [
  {
   "cell_type": "markdown",
   "id": "042ef9a6",
   "metadata": {},
   "source": [
    "#### Link: https://leetcode.com/studyplan/30-days-of-pandas/"
   ]
  },
  {
   "cell_type": "code",
   "execution_count": 40,
   "id": "d4e0e141",
   "metadata": {},
   "outputs": [],
   "source": [
    "import pandas as pd\n",
    "import numpy as np"
   ]
  },
  {
   "cell_type": "markdown",
   "id": "b8265629",
   "metadata": {},
   "source": [
    "Q-5: Write a solution to find the IDs of the invalid tweets. \n",
    "The tweet is invalid if the number of characters used in the content of the tweet is strictly greater than 15.\n",
    "Return the result table in any order"
   ]
  },
  {
   "cell_type": "code",
   "execution_count": 43,
   "id": "2c2f8101",
   "metadata": {},
   "outputs": [],
   "source": [
    "# defining function to find invalid tweets\n",
    "def invalid_tweets(tweets: pd.DataFrame) -> pd.DataFrame:\n",
    "    \n",
    "    # adding new column in dataframe to display length of each tweet using apply method\n",
    "    tweets['length of tweet'] = tweets['content'].apply(lambda x: len(x))\n",
    "    \n",
    "    # filter condition\n",
    "    mask = tweets['length of tweet'] > 15\n",
    "    \n",
    "    # filtering the rows where length of tweet is greater than 15 and fetching tweet_id of invalid tweets\n",
    "    invalid_tweet_id = tweets[mask]['tweet_id']\n",
    "\n",
    "    # coverting the output to dataframe\n",
    "    result_df = pd.DataFrame({'tweet_id': invalid_tweet_id})\n",
    "    \n",
    "    return result_df\n",
    "\n",
    "# preparing the dataframe\n",
    "data = [[1, 'Vote for Biden'], \n",
    "        [2, 'Let us make America great again!']\n",
    "       ]\n",
    "\n",
    "tweets = pd.DataFrame(data, columns=['tweet_id', 'content'])"
   ]
  },
  {
   "cell_type": "code",
   "execution_count": 44,
   "id": "e4f5e302",
   "metadata": {},
   "outputs": [
    {
     "name": "stdout",
     "output_type": "stream",
     "text": [
      "tweet_id of invalid tweets\n",
      "   tweet_id\n",
      "1         2\n"
     ]
    }
   ],
   "source": [
    "# calling the function and printing the result\n",
    "result = invalid_tweets(tweets)\n",
    "print('tweet_id of invalid tweets')\n",
    "print(result)"
   ]
  }
 ],
 "metadata": {
  "kernelspec": {
   "display_name": "Python 3 (ipykernel)",
   "language": "python",
   "name": "python3"
  },
  "language_info": {
   "codemirror_mode": {
    "name": "ipython",
    "version": 3
   },
   "file_extension": ".py",
   "mimetype": "text/x-python",
   "name": "python",
   "nbconvert_exporter": "python",
   "pygments_lexer": "ipython3",
   "version": "3.10.9"
  }
 },
 "nbformat": 4,
 "nbformat_minor": 5
}
