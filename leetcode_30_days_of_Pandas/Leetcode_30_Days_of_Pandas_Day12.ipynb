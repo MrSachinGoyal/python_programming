{
 "cells": [
  {
   "cell_type": "code",
   "execution_count": 86,
   "id": "b0b85623",
   "metadata": {},
   "outputs": [],
   "source": [
    "# importing necessary libraries\n",
    "import pandas as pd"
   ]
  },
  {
   "cell_type": "markdown",
   "id": "e21aa94a",
   "metadata": {},
   "source": [
    "Write a solution to calculate the number of bank accounts for each salary category. The salary categories are:\n",
    "\n",
    "- \"Low Salary\": All the salaries strictly less than $20000.\n",
    "\n",
    "- \"Average Salary\": All the salaries in the inclusive range [$20000, $50000].\n",
    "\n",
    "- \"High Salary\": All the salaries strictly greater than $50000.\n",
    "\n",
    "The result table must contain all three categories. If there are no accounts in a category, return 0. \n",
    "\n",
    "Return the result table in any order."
   ]
  },
  {
   "cell_type": "code",
   "execution_count": 87,
   "id": "3cd6c679",
   "metadata": {},
   "outputs": [
    {
     "name": "stdout",
     "output_type": "stream",
     "text": [
      "         category  accounts_count\n",
      "2     High salary               3\n",
      "0      Low salary               1\n",
      "1  Average salary               0\n"
     ]
    }
   ],
   "source": [
    "# defining function\n",
    "def count_salary_categories(accounts: pd.DataFrame) -> pd.DataFrame:\n",
    "    \n",
    "    # storing the categories in list\n",
    "    salary_category = ['Low salary', 'Average salary', 'High salary']\n",
    "    \n",
    "    # adding new column category to determine the category type for each row \n",
    "    accounts['category']=accounts['income'].apply(lambda x: salary_category[0] if x < 20000 else salary_category[1] if x >= 20000 and x <= 50000 else salary_category[2])\n",
    "    \n",
    "    # initialising two empty lists to store different categories and their corresponding number of accounts\n",
    "    categories = []\n",
    "    accounts_count = []\n",
    "\n",
    "    # iterating to calculate number of accounts for each type of category\n",
    "    for category in salary_category:\n",
    "        if category in accounts['category'].unique():\n",
    "            count = accounts[accounts['category'] == category]['account_id'].count()\n",
    "            categories.append(category)\n",
    "            accounts_count.append(count)\n",
    "        else:\n",
    "            categories.append(category)\n",
    "            accounts_count.append(0)\n",
    "\n",
    "\n",
    "    result_df = pd.DataFrame({'category': categories, 'accounts_count': accounts_count}).sort_values(by=['accounts_count'], ascending=[False])\n",
    "    \n",
    "    return result_df\n",
    "\n",
    "# preparing the dataframe \n",
    "data = [[3, 108939], [2, 12747], [8, 87709], [6, 91796]]\n",
    "accounts = pd.DataFrame(data, columns=['account_id', 'income']).astype({'account_id':'Int64', 'income':'Int64'})\n",
    "\n",
    "# calling the function\n",
    "result = count_salary_categories(accounts)\n",
    "print(result)"
   ]
  },
  {
   "cell_type": "code",
   "execution_count": null,
   "id": "94244e8a",
   "metadata": {},
   "outputs": [],
   "source": []
  }
 ],
 "metadata": {
  "kernelspec": {
   "display_name": "Python 3 (ipykernel)",
   "language": "python",
   "name": "python3"
  },
  "language_info": {
   "codemirror_mode": {
    "name": "ipython",
    "version": 3
   },
   "file_extension": ".py",
   "mimetype": "text/x-python",
   "name": "python",
   "nbconvert_exporter": "python",
   "pygments_lexer": "ipython3",
   "version": "3.10.9"
  }
 },
 "nbformat": 4,
 "nbformat_minor": 5
}
