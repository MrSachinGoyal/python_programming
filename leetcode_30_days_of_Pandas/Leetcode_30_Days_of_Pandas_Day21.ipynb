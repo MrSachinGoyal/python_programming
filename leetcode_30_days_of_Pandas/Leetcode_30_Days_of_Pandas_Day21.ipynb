{
 "cells": [
  {
   "cell_type": "code",
   "execution_count": 1,
   "id": "6a27b2c2",
   "metadata": {},
   "outputs": [],
   "source": [
    "# importing necessary libraries\n",
    "import pandas as pd"
   ]
  },
  {
   "cell_type": "markdown",
   "id": "1543919f",
   "metadata": {},
   "source": [
    "Question: Write a solution to find all the classes that have at least five students. Return the result table in any order."
   ]
  },
  {
   "cell_type": "code",
   "execution_count": 37,
   "id": "d550d6e8",
   "metadata": {},
   "outputs": [],
   "source": [
    "# function definition\n",
    "def find_classes(courses: pd.DataFrame) -> pd.DataFrame:\n",
    "    \n",
    "    # calculating number of students in each class using groupby and count function\n",
    "    students_per_class = courses.groupby('class')['student'].count().reset_index().rename(columns={'student':'num_students'})\n",
    "\n",
    "    # extracting class which has atleast 5 students\n",
    "    result_df = pd.DataFrame({'class':students_per_class[students_per_class['num_students'] >= 5]['class']})\n",
    "    \n",
    "    return result_df\n",
    "\n",
    "# preparing the dataframe\n",
    "data = [\n",
    "        ['A', 'Math'], \n",
    "        ['B', 'English'], \n",
    "        ['C', 'Math'], \n",
    "        ['D', 'Biology'], \n",
    "        ['E', 'Math'], \n",
    "        ['F', 'Computer'], \n",
    "        ['G', 'Math'], \n",
    "        ['H', 'Math'], \n",
    "        ['I', 'Math']\n",
    "       ]\n",
    "\n",
    "courses = pd.DataFrame(data, columns=['student', 'class']).astype({'student':'object', 'class':'object'})"
   ]
  },
  {
   "cell_type": "code",
   "execution_count": 38,
   "id": "84eb6021",
   "metadata": {},
   "outputs": [
    {
     "name": "stdout",
     "output_type": "stream",
     "text": [
      "Class with atleast 5 Students\n",
      "  class\n",
      "3  Math\n"
     ]
    }
   ],
   "source": [
    "# calling the function and printing the result\n",
    "result = find_classes(courses)\n",
    "print(\"Class with atleast 5 Students\")\n",
    "print(result)"
   ]
  },
  {
   "cell_type": "code",
   "execution_count": null,
   "id": "ff7539ce",
   "metadata": {},
   "outputs": [],
   "source": []
  },
  {
   "cell_type": "code",
   "execution_count": null,
   "id": "dddcde4b",
   "metadata": {},
   "outputs": [],
   "source": []
  }
 ],
 "metadata": {
  "kernelspec": {
   "display_name": "Python 3 (ipykernel)",
   "language": "python",
   "name": "python3"
  },
  "language_info": {
   "codemirror_mode": {
    "name": "ipython",
    "version": 3
   },
   "file_extension": ".py",
   "mimetype": "text/x-python",
   "name": "python",
   "nbconvert_exporter": "python",
   "pygments_lexer": "ipython3",
   "version": "3.10.9"
  }
 },
 "nbformat": 4,
 "nbformat_minor": 5
}
