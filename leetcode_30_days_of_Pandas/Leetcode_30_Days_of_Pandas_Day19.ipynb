{
 "cells": [
  {
   "cell_type": "code",
   "execution_count": 1,
   "id": "3bca7be7",
   "metadata": {},
   "outputs": [],
   "source": [
    "# importing necessary libraries\n",
    "import pandas as pd"
   ]
  },
  {
   "cell_type": "markdown",
   "id": "8639ffc6",
   "metadata": {},
   "source": [
    "Question: Write a solution to delete all duplicate emails, keeping only one unique email with the smallest id."
   ]
  },
  {
   "cell_type": "code",
   "execution_count": 21,
   "id": "df767567",
   "metadata": {},
   "outputs": [
    {
     "name": "stdout",
     "output_type": "stream",
     "text": [
      "None\n"
     ]
    }
   ],
   "source": [
    "# function definition\n",
    "def delete_duplicate_emails(person: pd.DataFrame) -> None:\n",
    "\n",
    "    # sort the dataframe in ascending order based on 'id' column\n",
    "    person.sort_values(by=['id'], ascending=[True], inplace=True)\n",
    "    \n",
    "    # dropping duplicate emails and keeping the one with smaller id\n",
    "    person.drop_duplicates(subset=['email'], keep='first', inplace=True)\n",
    "    \n",
    "\n",
    "# preparing the dataframe\n",
    "data = [[1, 'john@example.com'], [2, 'bob@example.com'], [3, 'john@example.com']]\n",
    "person = pd.DataFrame(data, columns=['id', 'email']).astype({'id':'int64', 'email':'object'})\n",
    "\n",
    "# calling the function and printing the result\n",
    "result = delete_duplicate_emails(person)\n",
    "print(result)"
   ]
  },
  {
   "cell_type": "code",
   "execution_count": null,
   "id": "7b2ace4c",
   "metadata": {},
   "outputs": [],
   "source": []
  },
  {
   "cell_type": "code",
   "execution_count": null,
   "id": "b4380231",
   "metadata": {},
   "outputs": [],
   "source": []
  }
 ],
 "metadata": {
  "kernelspec": {
   "display_name": "Python 3 (ipykernel)",
   "language": "python",
   "name": "python3"
  },
  "language_info": {
   "codemirror_mode": {
    "name": "ipython",
    "version": 3
   },
   "file_extension": ".py",
   "mimetype": "text/x-python",
   "name": "python",
   "nbconvert_exporter": "python",
   "pygments_lexer": "ipython3",
   "version": "3.10.9"
  }
 },
 "nbformat": 4,
 "nbformat_minor": 5
}
