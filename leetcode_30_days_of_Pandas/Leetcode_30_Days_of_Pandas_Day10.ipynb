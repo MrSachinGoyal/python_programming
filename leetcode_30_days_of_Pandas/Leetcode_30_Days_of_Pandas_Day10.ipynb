{
 "cells": [
  {
   "cell_type": "code",
   "execution_count": 4,
   "id": "46cd5436",
   "metadata": {},
   "outputs": [],
   "source": [
    "import pandas as pd\n",
    "import numpy as np"
   ]
  },
  {
   "cell_type": "markdown",
   "id": "b4c8f3fa",
   "metadata": {},
   "source": [
    "Q Write a solution to find employees who have the highest salary in each of the departments. Return the result table in any order."
   ]
  },
  {
   "cell_type": "code",
   "execution_count": 125,
   "id": "3f54e24d",
   "metadata": {},
   "outputs": [
    {
     "name": "stdout",
     "output_type": "stream",
     "text": [
      "Employees getting maximum salary in their respective department\n",
      "  Department Employee  Salary\n",
      "0         IT      Jim   90000\n",
      "1         IT      Max   90000\n",
      "2      Sales    Henry   80000\n"
     ]
    }
   ],
   "source": [
    "# defining function\n",
    "def department_highest_salary(employee: pd.DataFrame, department: pd.DataFrame) -> pd.DataFrame:\n",
    "    \n",
    "    try:\n",
    "        # merging two dataframes employee and department\n",
    "        merged_df = employee.merge(department, left_on='departmentId', right_on='id', suffixes=['_employee', '_department'])\n",
    "        \n",
    "        # grouping the data on the basis of departmentId and extracting employees who are getting maximum salary\n",
    "        result_df = merged_df.groupby('departmentId').apply(lambda x: x[x['salary'] == x['salary'].max()])\n",
    "        \n",
    "        # selecting required columns\n",
    "        result_df = result_df.reset_index(drop=True)[['name_department', 'name_employee', 'salary']]\n",
    "        \n",
    "        # renaming columns in the result dataframe\n",
    "        result_df.rename(columns = {'name_department': 'Department', \n",
    "                                    'name_employee': 'Employee',\n",
    "                                    'salary': 'Salary'}, inplace=True)\n",
    "        \n",
    "        return result_df\n",
    "    \n",
    "    except Exception as e:\n",
    "        print(f'The error occured is {e}')\n",
    "        return None\n",
    "    \n",
    "# preparing the dataframes\n",
    "data = [\n",
    "        [1, 'Joe', 70000, 1], \n",
    "        [2, 'Jim', 90000, 1], \n",
    "        [3, 'Henry', 80000, 2], \n",
    "        [4, 'Sam', 60000, 2], \n",
    "        [5, 'Max', 90000, 1]\n",
    "       ]\n",
    "\n",
    "employee = pd.DataFrame(data, columns=['id', 'name', 'salary', 'departmentId']).astype({'id':'Int64', 'name':'object', \n",
    "                                                                                        'salary':'Int64', \n",
    "                                                                                        'departmentId':'Int64'})\n",
    "data = [[1, 'IT'], [2, 'Sales']]\n",
    "department = pd.DataFrame(data, columns=['id', 'name']).astype({'id':'Int64', 'name':'object'})\n",
    "\n",
    "# calling the function and printing the result\n",
    "result = department_highest_salary(employee, department)\n",
    "\n",
    "if result is None:\n",
    "    print(\"Error occured while finding employees getting maximum salary\")\n",
    "else:\n",
    "    print(\"Employees getting maximum salary in their respective department\")\n",
    "    print(result)"
   ]
  },
  {
   "cell_type": "code",
   "execution_count": null,
   "id": "e9f29e3f",
   "metadata": {},
   "outputs": [],
   "source": []
  }
 ],
 "metadata": {
  "kernelspec": {
   "display_name": "Python 3 (ipykernel)",
   "language": "python",
   "name": "python3"
  },
  "language_info": {
   "codemirror_mode": {
    "name": "ipython",
    "version": 3
   },
   "file_extension": ".py",
   "mimetype": "text/x-python",
   "name": "python",
   "nbconvert_exporter": "python",
   "pygments_lexer": "ipython3",
   "version": "3.10.9"
  }
 },
 "nbformat": 4,
 "nbformat_minor": 5
}
