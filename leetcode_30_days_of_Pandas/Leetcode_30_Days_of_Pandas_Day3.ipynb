{
 "cells": [
  {
   "cell_type": "markdown",
   "id": "423eaffc",
   "metadata": {},
   "source": [
    "#### Link: https://leetcode.com/studyplan/30-days-of-pandas/ "
   ]
  },
  {
   "cell_type": "code",
   "execution_count": 43,
   "id": "da725ccc",
   "metadata": {},
   "outputs": [],
   "source": [
    "import pandas as pd\n",
    "import numpy as np"
   ]
  },
  {
   "cell_type": "markdown",
   "id": "fc58f2d5",
   "metadata": {},
   "source": [
    "Q-4: Write a solution to find all the authors that viewed at least one of their own articles.Return the result table sorted by id in ascending order."
   ]
  },
  {
   "cell_type": "code",
   "execution_count": 45,
   "id": "3ef1b586",
   "metadata": {},
   "outputs": [
    {
     "name": "stdout",
     "output_type": "stream",
     "text": [
      "   id\n",
      "1   4\n",
      "0   7\n"
     ]
    }
   ],
   "source": [
    "# defining function to return author who viewed atleast one of their own articles\n",
    "def article_views(views: pd.DataFrame) -> pd.DataFrame:\n",
    "    \n",
    "    # filter condition to check where author_id equals to viewer_id\n",
    "    filter_cond = views['author_id'] == views['viewer_id']\n",
    "    \n",
    "    # fetching the rows which met the filter condition and extracting unique author_id \n",
    "    author_id = views[filter_cond]['author_id'].unique()\n",
    "    \n",
    "    # preparing the result dataframe and sorting the author_id in ascending order\n",
    "    result_df = pd.DataFrame({'id' : author_id}).sort_values(by=['id'], ascending=[True])\n",
    "    \n",
    "    return result_df\n",
    "    \n",
    "\n",
    "# preparing the dataframe\n",
    "data = [[1, 3, 5, '2019-08-01'], \n",
    "        [1, 3, 6, '2019-08-02'], \n",
    "        [2, 7, 7, '2019-08-01'], \n",
    "        [2, 7, 6, '2019-08-02'], \n",
    "        [4, 7, 1, '2019-07-22'], \n",
    "        [3, 4, 4, '2019-07-21'], \n",
    "        [3, 4, 4, '2019-07-21']]\n",
    "\n",
    "views = pd.DataFrame(data, columns=['article_id', 'author_id', 'viewer_id', 'view_date']).astype(\n",
    "           {'article_id':'Int64', 'author_id':'Int64', 'viewer_id':'Int64', 'view_date':'datetime64[ns]'})\n",
    "\n",
    "# calling the function and printing the result\n",
    "result= article_views(views)\n",
    "print(result)"
   ]
  }
 ],
 "metadata": {
  "kernelspec": {
   "display_name": "Python 3 (ipykernel)",
   "language": "python",
   "name": "python3"
  },
  "language_info": {
   "codemirror_mode": {
    "name": "ipython",
    "version": 3
   },
   "file_extension": ".py",
   "mimetype": "text/x-python",
   "name": "python",
   "nbconvert_exporter": "python",
   "pygments_lexer": "ipython3",
   "version": "3.10.9"
  }
 },
 "nbformat": 4,
 "nbformat_minor": 5
}
