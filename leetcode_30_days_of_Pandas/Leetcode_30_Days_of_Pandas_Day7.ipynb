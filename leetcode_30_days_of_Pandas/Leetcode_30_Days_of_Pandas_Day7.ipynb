{
 "cells": [
  {
   "cell_type": "markdown",
   "id": "1a8a3c35",
   "metadata": {},
   "source": [
    "Link: https://leetcode.com/studyplan/30-days-of-pandas/"
   ]
  },
  {
   "cell_type": "code",
   "execution_count": 3,
   "id": "b907a581",
   "metadata": {},
   "outputs": [],
   "source": [
    "# Importing the necessary libraries\n",
    "import pandas as pd\n",
    "import numpy as np"
   ]
  },
  {
   "cell_type": "markdown",
   "id": "a397d600",
   "metadata": {},
   "source": [
    "Q-9.Write a solution to find the patient_id, patient_name, and conditions of the patients who have Type I Diabetes. Type I Diabetes always starts with DIAB1 prefix. Return the result table in any order."
   ]
  },
  {
   "cell_type": "code",
   "execution_count": 27,
   "id": "23f330fd",
   "metadata": {},
   "outputs": [
    {
     "name": "stdout",
     "output_type": "stream",
     "text": [
      "*****************Type 1 Diabetes Patients**********************\n",
      "   patient_id patient_name    conditions\n",
      "2           3          Bob  DIAB100 MYOP\n",
      "3           4       George  ACNE DIAB100\n"
     ]
    }
   ],
   "source": [
    "# defining function to find patients with Type 1 Diabetes\n",
    "def find_patients(patients: pd.DataFrame) -> pd.DataFrame:\n",
    "    \n",
    "    try:\n",
    "        # defining the pattern to find Type 1 Diabetes patients\n",
    "        pattern = r'\\bDIAB1'\n",
    "\n",
    "        # result dataframe\n",
    "        result_df = patients[patients['conditions'].str.contains(pattern) == True]\n",
    "\n",
    "        return result_df\n",
    "    \n",
    "    except Exception as e:\n",
    "        print(f\"The error occured is {e}\")\n",
    "        return None\n",
    "\n",
    "\n",
    "\n",
    "# preparing the dataframe\n",
    "data = [[1, 'Daniel', 'YFEV COUGH'], \n",
    "        [2, 'Alice', ''], \n",
    "        [3, 'Bob', 'DIAB100 MYOP'], \n",
    "        [4, 'George', 'ACNE DIAB100'], \n",
    "        [5, 'Alain', 'DIAB201']]\n",
    "\n",
    "patients = pd.DataFrame(data, columns=['patient_id', 'patient_name', 'conditions']).astype(\n",
    "                              {'patient_id':'int64', 'patient_name':'object', 'conditions':'object'})\n",
    "\n",
    "# calling the function and printing the result\n",
    "result = find_patients(patients)\n",
    "if result is None:\n",
    "    print(\"Error occured while finding Type 1 Diabetic patients\")\n",
    "else:\n",
    "    print('*****************Type 1 Diabetes Patients**********************')\n",
    "    print(result)"
   ]
  },
  {
   "cell_type": "code",
   "execution_count": null,
   "id": "6ecf0915",
   "metadata": {},
   "outputs": [],
   "source": []
  },
  {
   "cell_type": "code",
   "execution_count": null,
   "id": "ae2af9ea",
   "metadata": {},
   "outputs": [],
   "source": []
  }
 ],
 "metadata": {
  "kernelspec": {
   "display_name": "Python 3 (ipykernel)",
   "language": "python",
   "name": "python3"
  },
  "language_info": {
   "codemirror_mode": {
    "name": "ipython",
    "version": 3
   },
   "file_extension": ".py",
   "mimetype": "text/x-python",
   "name": "python",
   "nbconvert_exporter": "python",
   "pygments_lexer": "ipython3",
   "version": "3.10.9"
  }
 },
 "nbformat": 4,
 "nbformat_minor": 5
}
