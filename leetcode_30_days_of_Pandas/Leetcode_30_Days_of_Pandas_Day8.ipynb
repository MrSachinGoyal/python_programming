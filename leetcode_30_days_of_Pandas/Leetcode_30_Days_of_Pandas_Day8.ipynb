{
 "cells": [
  {
   "cell_type": "markdown",
   "id": "0d295b99",
   "metadata": {},
   "source": [
    "Link: https://leetcode.com/studyplan/30-days-of-pandas/"
   ]
  },
  {
   "cell_type": "code",
   "execution_count": 56,
   "id": "f6af3b77",
   "metadata": {},
   "outputs": [],
   "source": [
    "import pandas as pd\n",
    "import numpy as np"
   ]
  },
  {
   "cell_type": "markdown",
   "id": "a404b5db",
   "metadata": {},
   "source": [
    "Q-9. Write a solution to find the second highest salary from the Employee table. If there is no second highest salary, return null (return None in Pandas)."
   ]
  },
  {
   "cell_type": "code",
   "execution_count": 57,
   "id": "3943bd77",
   "metadata": {},
   "outputs": [
    {
     "name": "stdout",
     "output_type": "stream",
     "text": [
      "   SecondHighestSalary\n",
      "1                  200\n"
     ]
    }
   ],
   "source": [
    "def second_highest_salary(employee: pd.DataFrame) -> pd.DataFrame:\n",
    "        \n",
    "        try:\n",
    "            \n",
    "            # dropping duplicates from the employee dataframe to obtain unique salaries\n",
    "            employee.drop_duplicates(subset=['salary'], inplace=True)\n",
    "            \n",
    "            # sorting employees dataframe on the basis of salary in descending order\n",
    "            sorted_employee = employee.sort_values(by=['salary'], ascending=False)\n",
    "\n",
    "            # checking whether the length of dataframe is greater than 1 or not\n",
    "            if len(sorted_employee) > 1:\n",
    "\n",
    "                # calculating salary rank using rank function\n",
    "                sorted_employee['rank'] = sorted_employee['salary'].rank(ascending=False)\n",
    "                \n",
    "                # extracting second highest salary\n",
    "                salary = sorted_employee[sorted_employee['rank'] == 2]['salary']\n",
    "\n",
    "                # result dataframe\n",
    "                result_df = pd.DataFrame({'SecondHighestSalary' : salary})\n",
    "\n",
    "                return result_df\n",
    "\n",
    "            else:\n",
    "                # if second highest salary does not exist in employees dataframe then returning empty dataframe\n",
    "                return pd.DataFrame({'SecondHighestSalary' : [None]})\n",
    "            \n",
    "        except Exception as e:\n",
    "            print('Error occured while calculating second highest salary')\n",
    "    \n",
    "# preparing the dataframe\n",
    "data = [[1, 100], [2, 200], [3, 300]]\n",
    "employee = pd.DataFrame(data, columns=['id', 'salary']).astype({'id':'int64', 'salary':'int64'})\n",
    "\n",
    "# calling the function and printing the result\n",
    "result = second_highest_salary(employee)\n",
    "print(result)"
   ]
  },
  {
   "cell_type": "code",
   "execution_count": null,
   "id": "656df2eb",
   "metadata": {},
   "outputs": [],
   "source": []
  }
 ],
 "metadata": {
  "kernelspec": {
   "display_name": "Python 3 (ipykernel)",
   "language": "python",
   "name": "python3"
  },
  "language_info": {
   "codemirror_mode": {
    "name": "ipython",
    "version": 3
   },
   "file_extension": ".py",
   "mimetype": "text/x-python",
   "name": "python",
   "nbconvert_exporter": "python",
   "pygments_lexer": "ipython3",
   "version": "3.10.9"
  }
 },
 "nbformat": 4,
 "nbformat_minor": 5
}
