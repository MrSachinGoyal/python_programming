{
 "cells": [
  {
   "cell_type": "markdown",
   "id": "26aa0730",
   "metadata": {},
   "source": [
    "Write a lambda function that takes two arguments and returns their sum."
   ]
  },
  {
   "cell_type": "markdown",
   "id": "2004b145",
   "metadata": {},
   "source": [
    "Create a list of integers and use a lambda function with the filter function to filter out even numbers."
   ]
  },
  {
   "cell_type": "markdown",
   "id": "5f23674c",
   "metadata": {},
   "source": [
    "Use the map function to square each element in a list of integers."
   ]
  },
  {
   "cell_type": "markdown",
   "id": "2753b966",
   "metadata": {},
   "source": [
    "Create a list of strings and use the map function to convert each string to uppercase."
   ]
  },
  {
   "cell_type": "markdown",
   "id": "bee10f8b",
   "metadata": {},
   "source": [
    "Use the eval function to evaluate a mathematical expression provided as a string."
   ]
  },
  {
   "cell_type": "markdown",
   "id": "95a496ad",
   "metadata": {},
   "source": [
    "Write a program that takes a mathematical expression as input from the user and uses eval to calculate the result."
   ]
  },
  {
   "cell_type": "markdown",
   "id": "a9894ed1",
   "metadata": {},
   "source": [
    "Create a list of dictionaries containing information about books (title, author, pages). Use the filter function to filter out books with more than 200 pages."
   ]
  },
  {
   "cell_type": "markdown",
   "id": "471ed413",
   "metadata": {},
   "source": [
    "Write a program that takes a list of numbers as input and uses the filter function to filter out numbers that are divisible by 3."
   ]
  },
  {
   "cell_type": "code",
   "execution_count": null,
   "id": "5d04f9b8",
   "metadata": {},
   "outputs": [],
   "source": []
  },
  {
   "cell_type": "code",
   "execution_count": null,
   "id": "6da7f7a0",
   "metadata": {},
   "outputs": [],
   "source": []
  },
  {
   "cell_type": "code",
   "execution_count": null,
   "id": "5b5df6a7",
   "metadata": {},
   "outputs": [],
   "source": []
  }
 ],
 "metadata": {
  "kernelspec": {
   "display_name": "Python 3 (ipykernel)",
   "language": "python",
   "name": "python3"
  },
  "language_info": {
   "codemirror_mode": {
    "name": "ipython",
    "version": 3
   },
   "file_extension": ".py",
   "mimetype": "text/x-python",
   "name": "python",
   "nbconvert_exporter": "python",
   "pygments_lexer": "ipython3",
   "version": "3.9.13"
  }
 },
 "nbformat": 4,
 "nbformat_minor": 5
}
