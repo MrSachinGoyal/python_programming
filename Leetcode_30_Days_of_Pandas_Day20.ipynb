{
 "cells": [
  {
   "cell_type": "code",
   "execution_count": 3,
   "id": "ccfa6ae5",
   "metadata": {},
   "outputs": [],
   "source": [
    "# import necessary libraries\n",
    "import pandas as pd"
   ]
  },
  {
   "cell_type": "markdown",
   "id": "ac35214e",
   "metadata": {},
   "source": [
    "Question: Write a solution to find the customer_number for the customer who has placed the largest number of orders."
   ]
  },
  {
   "cell_type": "code",
   "execution_count": 28,
   "id": "1c370012",
   "metadata": {},
   "outputs": [],
   "source": [
    "# function definition\n",
    "def largest_orders(orders: pd.DataFrame) -> pd.DataFrame:\n",
    "    \n",
    "    # calculating number of orders placed by each customer\n",
    "    cust_orders = orders.groupby('customer_number')['order_number'].count().reset_index().rename(columns={'order_number':'num_orders'})\n",
    "    \n",
    "    # sort the dataframe in descending order based on 'num_orders' column to get customer who placed maximum orders\n",
    "    result_df = pd.DataFrame({'customer_number': cust_orders.sort_values(by=['num_orders'], ascending=[False]).head(1)['customer_number']})\n",
    "    \n",
    "    return result_df\n",
    "\n",
    "# preparing the dataframe\n",
    "data = [\n",
    "        [1, 1], \n",
    "        [2, 2], \n",
    "        [3, 3], \n",
    "        [4, 3]\n",
    "       ]\n",
    "\n",
    "orders = pd.DataFrame(data, columns=['order_number', 'customer_number']).astype({'order_number':'Int64', 'customer_number':'Int64'})"
   ]
  },
  {
   "cell_type": "code",
   "execution_count": 29,
   "id": "7a39fa0a",
   "metadata": {},
   "outputs": [
    {
     "name": "stdout",
     "output_type": "stream",
     "text": [
      "   customer_number\n",
      "2                3\n"
     ]
    }
   ],
   "source": [
    "# calling the function and printing the result\n",
    "result = largest_orders(orders)\n",
    "print(result)"
   ]
  },
  {
   "cell_type": "code",
   "execution_count": null,
   "id": "3e1c9e65",
   "metadata": {},
   "outputs": [],
   "source": []
  }
 ],
 "metadata": {
  "kernelspec": {
   "display_name": "Python 3 (ipykernel)",
   "language": "python",
   "name": "python3"
  },
  "language_info": {
   "codemirror_mode": {
    "name": "ipython",
    "version": 3
   },
   "file_extension": ".py",
   "mimetype": "text/x-python",
   "name": "python",
   "nbconvert_exporter": "python",
   "pygments_lexer": "ipython3",
   "version": "3.10.9"
  }
 },
 "nbformat": 4,
 "nbformat_minor": 5
}
