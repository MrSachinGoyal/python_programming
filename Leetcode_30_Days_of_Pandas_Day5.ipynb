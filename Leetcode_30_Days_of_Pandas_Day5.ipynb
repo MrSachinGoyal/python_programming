{
 "cells": [
  {
   "cell_type": "code",
   "execution_count": 1,
   "id": "3290e584",
   "metadata": {},
   "outputs": [],
   "source": [
    "import pandas as pd\n",
    "import numpy as np"
   ]
  },
  {
   "cell_type": "markdown",
   "id": "f313661a",
   "metadata": {},
   "source": [
    "Q-6. Write a solution to calculate the bonus of each employee. The bonus of an employee is 100% of their salary if the ID of the employee is an odd number and the employee's name does not start with the character 'M'. The bonus of an employee is 0 otherwise.\n",
    "\n",
    "Return the result table ordered by employee_id."
   ]
  },
  {
   "cell_type": "code",
   "execution_count": 65,
   "id": "d827d123",
   "metadata": {},
   "outputs": [
    {
     "name": "stdout",
     "output_type": "stream",
     "text": [
      "Employees and their bonus\n",
      "   employee_id  bonus\n",
      "0            2      0\n",
      "1            3      0\n",
      "2            7   7400\n",
      "3            8      0\n",
      "4            9   7700\n"
     ]
    }
   ],
   "source": [
    "# defining function to calculate bonus\n",
    "def calculate_special_bonus(employees: pd.DataFrame) -> pd.DataFrame:\n",
    "    \n",
    "    try:\n",
    "        # adding new column in employees dataframe to calculate bonus using apply function\n",
    "        employees['bonus'] = employees.apply(lambda row : row['salary'] if (row['employee_id']%2 != 0) and (not row['name'].startswith('M')) else 0,  axis=1)\n",
    "\n",
    "        # making result dataframe with columns employee_id and bonus\n",
    "        result_df = pd.DataFrame({'employee_id': employees['employee_id'],\n",
    "                                  'bonus': employees['bonus']\n",
    "                                 })\n",
    "\n",
    "        # sorting the result dataframe by employee_id in ascending order\n",
    "        sorted_result_df = result_df.sort_values(by=['employee_id'], ascending=[True])\n",
    "        return sorted_result_df\n",
    "    \n",
    "    except Exception as e:\n",
    "        print(f'The error occured is {e}')\n",
    "        return None\n",
    "        \n",
    "        \n",
    "        \n",
    "    \n",
    "    \n",
    "# preparing the dataframe\n",
    "data = [[2, 'Meir', 3000], \n",
    "        [3, 'Michael', 3800], \n",
    "        [7, 'Addilyn', 7400], \n",
    "        [8, 'Juan', 6100], \n",
    "        [9, 'Kannon', 7700]]\n",
    "\n",
    "employees = pd.DataFrame(data, columns=['employee_id', 'name', 'salary'])\n",
    "\n",
    "# calling the function and printing the result\n",
    "result = calculate_special_bonus(employees)\n",
    "\n",
    "if result is None:\n",
    "    print('Error occured while calcualting the bonus')\n",
    "else:\n",
    "    print('Employees and their bonus')\n",
    "    print(result)"
   ]
  },
  {
   "cell_type": "code",
   "execution_count": null,
   "id": "8b373d5e",
   "metadata": {},
   "outputs": [],
   "source": []
  }
 ],
 "metadata": {
  "kernelspec": {
   "display_name": "Python 3 (ipykernel)",
   "language": "python",
   "name": "python3"
  },
  "language_info": {
   "codemirror_mode": {
    "name": "ipython",
    "version": 3
   },
   "file_extension": ".py",
   "mimetype": "text/x-python",
   "name": "python",
   "nbconvert_exporter": "python",
   "pygments_lexer": "ipython3",
   "version": "3.10.9"
  }
 },
 "nbformat": 4,
 "nbformat_minor": 5
}
