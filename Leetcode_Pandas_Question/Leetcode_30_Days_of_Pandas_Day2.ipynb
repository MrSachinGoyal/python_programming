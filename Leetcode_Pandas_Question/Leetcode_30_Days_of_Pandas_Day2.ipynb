{
 "cells": [
  {
   "cell_type": "markdown",
   "id": "82455843",
   "metadata": {},
   "source": [
    "##### Link : https://leetcode.com/studyplan/30-days-of-pandas/"
   ]
  },
  {
   "cell_type": "code",
   "execution_count": 90,
   "id": "487fc777",
   "metadata": {},
   "outputs": [],
   "source": [
    "import pandas as pd\n",
    "import numpy as np"
   ]
  },
  {
   "cell_type": "markdown",
   "id": "0c41cc09",
   "metadata": {},
   "source": [
    "Q-3: Write a solution to find all customers who never order anything. Return the result table in any order."
   ]
  },
  {
   "cell_type": "code",
   "execution_count": 91,
   "id": "b38115fd",
   "metadata": {},
   "outputs": [],
   "source": [
    "# defining a function to find customers who never order anything\n",
    "def find_customers(customers: pd.DataFrame, orders: pd.DataFrame) -> pd.DataFrame:\n",
    "    \n",
    "    # finding the customer_id that exist in customers dataframe but do not exist in orders dataframe\n",
    "    cust_id_never_ordered = np.setdiff1d(customers['id'], orders['customerId'])\n",
    "    \n",
    "    # filtering the customers dataframe for customer ids who never ordered and extracting name column\n",
    "    cust_name_never_ordered = customers[np.isin(customers['id'], cust_id_never_ordered)]['name']\n",
    "    \n",
    "    # creating result dataframe \n",
    "    result_df = pd.DataFrame({'customers': cust_name_never_ordered})\n",
    "    \n",
    "    return result_df"
   ]
  },
  {
   "cell_type": "code",
   "execution_count": 92,
   "id": "f4482ab2",
   "metadata": {},
   "outputs": [],
   "source": [
    "# preparing dataframe for customers table\n",
    "data = [[1, 'Joe'], \n",
    "        [2, 'Henry'], \n",
    "        [3, 'Sam'], \n",
    "        [4, 'Max']\n",
    "       ]\n",
    "customers = pd.DataFrame(data, columns=['id', 'name']).astype({'id':'Int64', 'name':'object'})\n",
    "\n",
    "# preparing dataframe for orders table\n",
    "data = [[1, 3], \n",
    "        [2, 1]\n",
    "       ]\n",
    "\n",
    "orders = pd.DataFrame(data, columns=['id', 'customerId']).astype({'id':'Int64', 'customerId':'Int64'})"
   ]
  },
  {
   "cell_type": "code",
   "execution_count": 93,
   "id": "25cb2270",
   "metadata": {},
   "outputs": [
    {
     "name": "stdout",
     "output_type": "stream",
     "text": [
      "  customers\n",
      "1     Henry\n",
      "3       Max\n"
     ]
    }
   ],
   "source": [
    "# calling the function \n",
    "result = find_customers(customers, orders)\n",
    "print(result)"
   ]
  },
  {
   "cell_type": "code",
   "execution_count": null,
   "id": "46a2b639",
   "metadata": {},
   "outputs": [],
   "source": []
  },
  {
   "cell_type": "code",
   "execution_count": null,
   "id": "424e4d83",
   "metadata": {},
   "outputs": [],
   "source": []
  }
 ],
 "metadata": {
  "kernelspec": {
   "display_name": "Python 3 (ipykernel)",
   "language": "python",
   "name": "python3"
  },
  "language_info": {
   "codemirror_mode": {
    "name": "ipython",
    "version": 3
   },
   "file_extension": ".py",
   "mimetype": "text/x-python",
   "name": "python",
   "nbconvert_exporter": "python",
   "pygments_lexer": "ipython3",
   "version": "3.10.9"
  }
 },
 "nbformat": 4,
 "nbformat_minor": 5
}
