{
 "cells": [
  {
   "cell_type": "code",
   "execution_count": 56,
   "id": "ca6df839",
   "metadata": {},
   "outputs": [],
   "source": [
    "# importing necessary libraries\n",
    "import pandas as pd"
   ]
  },
  {
   "cell_type": "markdown",
   "id": "77ff9905",
   "metadata": {},
   "source": [
    "Question: Write a solution to find the nth highest salary from the Employee table. If there is no nth highest salary, return null."
   ]
  },
  {
   "cell_type": "code",
   "execution_count": 55,
   "id": "ac9a2f50",
   "metadata": {},
   "outputs": [
    {
     "name": "stdout",
     "output_type": "stream",
     "text": [
      "   getNthHighestSalary(2)\n",
      "1                     200\n"
     ]
    }
   ],
   "source": [
    "# defining function to find nth highest salary\n",
    "def nth_highest_salary(employee: pd.DataFrame, N: int) -> pd.DataFrame:\n",
    "    \n",
    "    # sorting the dataframe \n",
    "    employee.sort_values(by=['salary'], ascending=False, inplace=True)    \n",
    "    \n",
    "    # calculating salary rank \n",
    "    employee['Salary_rank'] = employee['salary'].rank(ascending=False, method='dense').astype('int')\n",
    "    \n",
    "    # iterating to check whether N is present in column Salary_rank or not\n",
    "    column = f'getNthHighestSalary({N})'\n",
    "    if N in employee['Salary_rank'].unique():\n",
    "        salary = pd.DataFrame({column: employee[employee['Salary_rank'] == N]['salary'].head(1)})\n",
    "        return salary\n",
    "    else:\n",
    "        result_df = pd.DataFrame({column: [None]})\n",
    "        return result_df\n",
    "\n",
    "    \n",
    "# preparing the dataframe\n",
    "data = [[1, 100], [2, 200], [3, 300]]\n",
    "employee = pd.DataFrame(data, columns=['Id', 'salary']).astype({'Id':'Int64', 'salary':'Int64'})\n",
    "\n",
    "# calling the function and printing the result\n",
    "result = nth_highest_salary(employee, 2)\n",
    "print(result)"
   ]
  }
 ],
 "metadata": {
  "kernelspec": {
   "display_name": "Python 3 (ipykernel)",
   "language": "python",
   "name": "python3"
  },
  "language_info": {
   "codemirror_mode": {
    "name": "ipython",
    "version": 3
   },
   "file_extension": ".py",
   "mimetype": "text/x-python",
   "name": "python",
   "nbconvert_exporter": "python",
   "pygments_lexer": "ipython3",
   "version": "3.10.9"
  }
 },
 "nbformat": 4,
 "nbformat_minor": 5
}
