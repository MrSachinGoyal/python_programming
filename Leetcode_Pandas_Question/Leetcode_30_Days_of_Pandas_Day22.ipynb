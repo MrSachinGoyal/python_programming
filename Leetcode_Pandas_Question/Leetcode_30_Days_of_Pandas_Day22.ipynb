{
 "cells": [
  {
   "cell_type": "code",
   "execution_count": 1,
   "id": "f789b316",
   "metadata": {},
   "outputs": [],
   "source": [
    "# importing necessary libraries\n",
    "import pandas as pd"
   ]
  },
  {
   "cell_type": "markdown",
   "id": "74250b8e",
   "metadata": {},
   "source": [
    "Question: For each date_id and make_name, find the number of distinct lead_id's and distinct partner_id's. Return the result table in any order."
   ]
  },
  {
   "cell_type": "code",
   "execution_count": 27,
   "id": "c8d9b014",
   "metadata": {},
   "outputs": [],
   "source": [
    "# function definition\n",
    "def daily_leads_and_partners(daily_sales: pd.DataFrame) -> pd.DataFrame:\n",
    "    \n",
    "    # calculating unique leads and unique partners for each date_id and make_name using groupby and nunique function\n",
    "    unique_lead_partner = daily_sales.groupby(['date_id', 'make_name']).agg({'lead_id':'nunique', 'partner_id': 'nunique'}).reset_index()\n",
    "\n",
    "    # renaming columns for desired output\n",
    "    result_df = unique_lead_partner.rename(columns={'lead_id':'unique_leads', 'partner_id':'unique_partners'})\n",
    "    \n",
    "    return result_df\n",
    "    \n",
    "# preparing the dataframe\n",
    "data = [\n",
    "        ['2020-12-8', 'toyota', 0, 1],\n",
    "        ['2020-12-8', 'toyota', 1, 0],\n",
    "        ['2020-12-8', 'toyota', 1, 2],\n",
    "        ['2020-12-7', 'toyota', 0, 2],\n",
    "        ['2020-12-7', 'toyota', 0, 1],\n",
    "        ['2020-12-8', 'honda', 1, 2],\n",
    "        ['2020-12-8', 'honda', 2, 1],\n",
    "        ['2020-12-7', 'honda', 0, 1], \n",
    "        ['2020-12-7', 'honda', 1, 2], \n",
    "        ['2020-12-7', 'honda', 2, 1]\n",
    "       ]\n",
    "\n",
    "daily_sales = pd.DataFrame(data, columns=['date_id', 'make_name', 'lead_id', 'partner_id']).astype({'date_id':'datetime64[ns]', 'make_name':'object', 'lead_id':'Int64', 'partner_id':'Int64'})"
   ]
  },
  {
   "cell_type": "code",
   "execution_count": 30,
   "id": "76631cf3",
   "metadata": {},
   "outputs": [
    {
     "name": "stdout",
     "output_type": "stream",
     "text": [
      "     date_id make_name  unique_leads  unique_partners\n",
      "0 2020-12-07     honda             3                2\n",
      "1 2020-12-07    toyota             1                2\n",
      "2 2020-12-08     honda             2                2\n",
      "3 2020-12-08    toyota             2                3\n"
     ]
    }
   ],
   "source": [
    "# calling the function and printing the result\n",
    "result = daily_leads_and_partners(daily_sales)\n",
    "print(result)"
   ]
  },
  {
   "cell_type": "code",
   "execution_count": null,
   "id": "2eed7878",
   "metadata": {},
   "outputs": [],
   "source": []
  },
  {
   "cell_type": "code",
   "execution_count": null,
   "id": "0ce1b584",
   "metadata": {},
   "outputs": [],
   "source": []
  }
 ],
 "metadata": {
  "kernelspec": {
   "display_name": "Python 3 (ipykernel)",
   "language": "python",
   "name": "python3"
  },
  "language_info": {
   "codemirror_mode": {
    "name": "ipython",
    "version": 3
   },
   "file_extension": ".py",
   "mimetype": "text/x-python",
   "name": "python",
   "nbconvert_exporter": "python",
   "pygments_lexer": "ipython3",
   "version": "3.10.9"
  }
 },
 "nbformat": 4,
 "nbformat_minor": 5
}
