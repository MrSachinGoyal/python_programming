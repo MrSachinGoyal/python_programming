{
 "cells": [
  {
   "cell_type": "code",
   "execution_count": 1,
   "id": "6ce28c3c",
   "metadata": {},
   "outputs": [],
   "source": [
    "# importing the necessary libraries\n",
    "import pandas as pd\n",
    "import numpy as np"
   ]
  },
  {
   "cell_type": "markdown",
   "id": "27c5dc7a",
   "metadata": {},
   "source": [
    "Q Write a solution to calculate the total time in minutes spent by each employee on each day at the office. Note that within one day, an employee can enter and leave more than once. The time spent in the office for a single entry is out_time - in_time. Return the result table in any order."
   ]
  },
  {
   "cell_type": "code",
   "execution_count": 149,
   "id": "cc935a43",
   "metadata": {},
   "outputs": [
    {
     "name": "stdout",
     "output_type": "stream",
     "text": [
      "Total time spent by employee on each day\n",
      "         day  emp_id  total_time\n",
      "0 2020-11-28       1         173\n",
      "2 2020-12-03       1          41\n",
      "1 2020-11-28       2          30\n",
      "3 2020-12-09       2          27\n"
     ]
    }
   ],
   "source": [
    "# defining function \n",
    "def total_time(employees: pd.DataFrame) -> pd.DataFrame:\n",
    "    \n",
    "    try:\n",
    "        # adding new column to calculate duration of single entry of each employee on each day\n",
    "        employees['single_entry_duration']  = employees['out_time'] - employees['in_time']\n",
    "\n",
    "        # calculating total time spent by each employee on each day in an office \n",
    "        time_spent = employees.groupby(['event_day', 'emp_id'])['single_entry_duration'].sum().reset_index()\n",
    "\n",
    "        # renaming some columns and sorting the data in ascending order of employee_id\n",
    "        result_df = time_spent.rename(columns={'single_entry_duration': 'total_time', 'event_day':'day'}).sort_values(by=['emp_id'], ascending=True)\n",
    "\n",
    "        return result_df\n",
    "    \n",
    "    except Exception as e:\n",
    "        print(f\"The error occured is {e}\")\n",
    "        return None\n",
    "    \n",
    "# preparing the dataframe\n",
    "data = [['1', '2020-11-28', '4', '32'], \n",
    "        ['1', '2020-11-28', '55', '200'], \n",
    "        ['1', '2020-12-3', '1', '42'], \n",
    "        ['2', '2020-11-28', '3', '33'], \n",
    "        ['2', '2020-12-9', '47', '74']]\n",
    "\n",
    "employees = pd.DataFrame(data, columns=['emp_id', 'event_day', 'in_time', 'out_time'])\n",
    "# calling function and printing the result\n",
    "result = total_time(employees)\n",
    "\n",
    "if result is None:\n",
    "    print(\"Error occured while calculating total_time spent by each employee on each day in an office\")\n",
    "else:\n",
    "    print(\"Total time spent by employee on each day\")\n",
    "    print(result)"
   ]
  },
  {
   "cell_type": "code",
   "execution_count": null,
   "id": "93921048",
   "metadata": {},
   "outputs": [],
   "source": []
  }
 ],
 "metadata": {
  "kernelspec": {
   "display_name": "Python 3 (ipykernel)",
   "language": "python",
   "name": "python3"
  },
  "language_info": {
   "codemirror_mode": {
    "name": "ipython",
    "version": 3
   },
   "file_extension": ".py",
   "mimetype": "text/x-python",
   "name": "python",
   "nbconvert_exporter": "python",
   "pygments_lexer": "ipython3",
   "version": "3.10.9"
  }
 },
 "nbformat": 4,
 "nbformat_minor": 5
}
