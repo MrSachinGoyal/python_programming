{
 "cells": [
  {
   "cell_type": "markdown",
   "metadata": {
    "id": "JRdjdmztDelX"
   },
   "source": [
    "## <u>While doing this assignment only use those concepts which have been taught till now</u>"
   ]
  },
  {
   "cell_type": "markdown",
   "metadata": {
    "id": "8ECk3jeWDelY"
   },
   "source": [
    "## <u>Problem 1</u>\n",
    "\n",
    "In a cricket tournament, based on the outcome of a particular match a team gets following points:\n",
    "* <code>wins</code> gets <code>3</code> points\n",
    "* <code>draws</code> gets <code>1</code> points\n",
    "* <code>losses</code> gets <code>0</code> points\n",
    "\n",
    "Team Aravali plays <code>8</code> matches in this tournament. It wins <code>4</code> matches, loses <code>3</code> matches and draws <code>1</code>. What is the total number of points gained by the Team Aravali?"
   ]
  },
  {
   "cell_type": "code",
   "execution_count": 2,
   "metadata": {
    "id": "m68YV3OhDelZ"
   },
   "outputs": [],
   "source": [
    "# The outcome variables are defined below\n",
    "wins = 4\n",
    "losses = 3\n",
    "draws = 1"
   ]
  },
  {
   "cell_type": "code",
   "execution_count": 9,
   "metadata": {
    "id": "2cnTsWvODelc"
   },
   "outputs": [],
   "source": [
    "# Calculate the total points gained by Team Aravali\n",
    "aravali_points = (wins*3) + (losses*0) + (draws*1)"
   ]
  },
  {
   "cell_type": "code",
   "execution_count": 10,
   "metadata": {
    "id": "4ccas7cPDelf"
   },
   "outputs": [
    {
     "name": "stdout",
     "output_type": "stream",
     "text": [
      "13\n"
     ]
    }
   ],
   "source": [
    "# Print the variable aravali_points\n",
    "print(aravali_points)"
   ]
  },
  {
   "cell_type": "markdown",
   "metadata": {
    "id": "-ioInfYKDelh"
   },
   "source": [
    "## <u>Problem 2 </u>\n",
    "\n",
    "* Root of a function $f(x)$ is defined as the value $x$ where $f(x)=0$\n",
    "* Consider a quadratic function $ f(x) = x^2 + 3x - 4$\n",
    "\n",
    "### Find the value of the function $f(x)$ at points   $x=2,x=-1, x=1$."
   ]
  },
  {
   "cell_type": "code",
   "execution_count": 11,
   "metadata": {
    "id": "4_HZwes5Delh"
   },
   "outputs": [],
   "source": [
    "# Calculate the value of the function f(x) at x = 2\n",
    "func_evaluated_at_2 = (2**2) + (3*2) - 4"
   ]
  },
  {
   "cell_type": "code",
   "execution_count": 12,
   "metadata": {
    "id": "zBkLIXk2Dell"
   },
   "outputs": [
    {
     "name": "stdout",
     "output_type": "stream",
     "text": [
      "6\n"
     ]
    }
   ],
   "source": [
    "# Print the value below\n",
    "print(func_evaluated_at_2)"
   ]
  },
  {
   "cell_type": "code",
   "execution_count": 13,
   "metadata": {
    "id": "uD4MAyKIDelo"
   },
   "outputs": [],
   "source": [
    "# Calculate the value of the function f(x) at x = -1\n",
    "func_evaluated_at_minus1 = (-1**2) + (3*(-1)) - 4"
   ]
  },
  {
   "cell_type": "code",
   "execution_count": 14,
   "metadata": {
    "id": "Jx9WVMQ2Delq"
   },
   "outputs": [
    {
     "name": "stdout",
     "output_type": "stream",
     "text": [
      "-8\n"
     ]
    }
   ],
   "source": [
    "# Print the value below\n",
    "print(func_evaluated_at_minus1)"
   ]
  },
  {
   "cell_type": "code",
   "execution_count": 15,
   "metadata": {
    "id": "h8PgF85VDelu"
   },
   "outputs": [],
   "source": [
    "# Calculate the value of the function f(x) at x = 1\n",
    "func_evaluated_at_1 = (1**1) + (3*1) - 4"
   ]
  },
  {
   "cell_type": "code",
   "execution_count": 16,
   "metadata": {
    "id": "BdrFgug6Delw"
   },
   "outputs": [
    {
     "name": "stdout",
     "output_type": "stream",
     "text": [
      "0\n"
     ]
    }
   ],
   "source": [
    "# Print the type of the variable below\n",
    "print(func_evaluated_at_1)"
   ]
  },
  {
   "cell_type": "markdown",
   "metadata": {
    "id": "EvldlcwqDelz"
   },
   "source": [
    "### Return the boolean for each value of $x$ to find out whether that value is a root of $f(x)$"
   ]
  },
  {
   "cell_type": "code",
   "execution_count": 18,
   "metadata": {
    "id": "-tUSAgzgDel0"
   },
   "outputs": [
    {
     "name": "stdout",
     "output_type": "stream",
     "text": [
      "False\n"
     ]
    }
   ],
   "source": [
    "# Check whether 2 is a root of f(x)\n",
    "print(func_evaluated_at_2 == 0)"
   ]
  },
  {
   "cell_type": "code",
   "execution_count": 20,
   "metadata": {
    "id": "gsNS4Ki4Del2"
   },
   "outputs": [
    {
     "name": "stdout",
     "output_type": "stream",
     "text": [
      "False\n"
     ]
    }
   ],
   "source": [
    "# Check whether -1 is a root of f(x)\n",
    "print(func_evaluated_at_minus1 == 0)"
   ]
  },
  {
   "cell_type": "code",
   "execution_count": 21,
   "metadata": {
    "id": "yExDY-ZXDel4"
   },
   "outputs": [
    {
     "name": "stdout",
     "output_type": "stream",
     "text": [
      "True\n"
     ]
    }
   ],
   "source": [
    "# Check whether 1 is a root of f(x)\n",
    "print(func_evaluated_at_1 == 0)"
   ]
  },
  {
   "cell_type": "markdown",
   "metadata": {
    "id": "tNAI2AHRDel6"
   },
   "source": [
    "## <u> Problem 3 </u>\n",
    "\n",
    "A bag contains <code>45</code> apples, <code>65</code> oranges and <code>30</code> bananas. Find the percentage of each type of food items in the bag."
   ]
  },
  {
   "cell_type": "code",
   "execution_count": 31,
   "metadata": {
    "id": "XJ9Rq4P3Del7"
   },
   "outputs": [
    {
     "name": "stdout",
     "output_type": "stream",
     "text": [
      "Percentage of apples in the bag:  32.142857142857146 %\n"
     ]
    }
   ],
   "source": [
    "# Calculate the percentage of apples and print the variable\n",
    "num_apples = 45\n",
    "num_oranges = 65\n",
    "num_bananas = 30\n",
    "\n",
    "# calculate total fruits present in the bag\n",
    "total_fruits_in_bag = num_apples + num_oranges + num_bananas\n",
    "\n",
    "apples_percentage = (num_apples/total_fruits_in_bag)*100\n",
    "\n",
    "print(\"Percentage of apples in the bag: \", apples_percentage, \"%\")"
   ]
  },
  {
   "cell_type": "code",
   "execution_count": 30,
   "metadata": {
    "id": "S6lJZtaXDel9"
   },
   "outputs": [
    {
     "name": "stdout",
     "output_type": "stream",
     "text": [
      "Percentage of oranges in the bag:  46.42857142857143 %\n"
     ]
    }
   ],
   "source": [
    "# Calculate the percentage of oranges and print the variable\n",
    "oranges_percentage = (num_oranges/total_fruits_in_bag)*100\n",
    "\n",
    "print(\"Percentage of oranges in the bag: \", oranges_percentage, \"%\")"
   ]
  },
  {
   "cell_type": "code",
   "execution_count": 29,
   "metadata": {
    "id": "mHzMnSZrDemB"
   },
   "outputs": [
    {
     "name": "stdout",
     "output_type": "stream",
     "text": [
      "Percentage of bananas in the bag:  21.428571428571427 %\n"
     ]
    }
   ],
   "source": [
    "# Calculate the percentage of bananas and print the variable\n",
    "bananas_percentage = (num_bananas/total_fruits_in_bag)*100\n",
    "\n",
    "print(\"Percentage of bananas in the bag: \", bananas_percentage, \"%\")"
   ]
  },
  {
   "cell_type": "markdown",
   "metadata": {
    "id": "F44LczfzDemD"
   },
   "source": [
    "## <u>Problem 4</u>\n",
    "\n",
    "You were playing a fun guessing game during your school break. There were a total of 100 participants excluding you. Out of these 100 people, 30 were Maths Majors, 45 were Economics Majors and 25 were Physics Majors.\n",
    "\n",
    "The game was divided into three rounds.\n",
    "\n",
    "* In the first round, you had to guess the number of Maths Majors and you <b>correctly</b> guessed 20 of them.\n",
    "* In the second round, you had to guess the number of Economics Majors and you <b>correctly</b> guessed 30 of them.\n",
    "* In the final third round, you had to guess the number of Physics Majors and you <b>correctly</b> guessed 20 of them.\n",
    "\n",
    "### Accuracy is defined as the number of correct guesses upon total number of people in the group (expressed in percentage)"
   ]
  },
  {
   "cell_type": "markdown",
   "metadata": {
    "id": "lkGEV_zpDemE"
   },
   "source": [
    "* ### Define your variables"
   ]
  },
  {
   "cell_type": "code",
   "execution_count": 32,
   "metadata": {
    "id": "OfXY9LcVDemF"
   },
   "outputs": [],
   "source": [
    "# Store the number of Maths majors\n",
    "maths_majors = 30\n",
    "\n",
    "# Store the number of Economics majors\n",
    "eco_majors = 45\n",
    "\n",
    "# Store the number of Physics majors\n",
    "phy_majors = 25\n",
    "\n",
    "# Store the number of your correct guesses of Maths majors\n",
    "correct_guess_math_majors = 20\n",
    "\n",
    "# Store the number of your correct guesses of Economics majors\n",
    "correct_guess_eco_majors = 30\n",
    "\n",
    "# Store the number of your correct guesses of Physics majors\n",
    "correct_guess_physics_majors = 20"
   ]
  },
  {
   "cell_type": "code",
   "execution_count": 40,
   "metadata": {
    "id": "Eg_Or6GmDemI"
   },
   "outputs": [
    {
     "name": "stdout",
     "output_type": "stream",
     "text": [
      "Round 1 accuracy is:  20.0 %\n",
      "Round 2 accuracy is:  37.5 %\n",
      "Round 3 accuracy is:  40.0 %\n"
     ]
    }
   ],
   "source": [
    "# Calculate your accuracy in each of the three rounds\n",
    "\n",
    "# calculating total participants \n",
    "total_participants = maths_majors + eco_majors + phy_majors\n",
    "\n",
    "# calculating round one accuracy\n",
    "round1_accuracy = (correct_guess_math_majors/total_participants) * 100\n",
    "\n",
    "print(\"Round 1 accuracy is: \", round1_accuracy, \"%\")\n",
    "\n",
    "# calaulating round two accuracy\n",
    "round2_accuracy = (correct_guess_eco_majors/(total_participants-correct_guess_math_majors))*100\n",
    "\n",
    "print(\"Round 2 accuracy is: \", round2_accuracy, \"%\")\n",
    "\n",
    "# calaulating round three accuracy\n",
    "round3_accuracy = (correct_guess_physics_majors/(total_participants-(correct_guess_math_majors+correct_guess_eco_majors)))*100\n",
    "\n",
    "print(\"Round 3 accuracy is: \", round3_accuracy, \"%\")"
   ]
  },
  {
   "cell_type": "code",
   "execution_count": 53,
   "metadata": {
    "id": "QUbDKOR3DemJ"
   },
   "outputs": [
    {
     "name": "stdout",
     "output_type": "stream",
     "text": [
      "Maths accuracy = 66.66666666666666 %\n"
     ]
    }
   ],
   "source": [
    "# Print the Maths accuracy\n",
    "maths_accuracy = (correct_guess_math_majors/maths_majors)*100\n",
    "\n",
    "print(\"Maths accuracy =\", maths_accuracy, \"%\")"
   ]
  },
  {
   "cell_type": "code",
   "execution_count": 52,
   "metadata": {
    "id": "PfX4DowhDemM"
   },
   "outputs": [
    {
     "name": "stdout",
     "output_type": "stream",
     "text": [
      "Economics accuracy = 66.66666666666666 %\n"
     ]
    }
   ],
   "source": [
    "# Print the Economics accuracy\n",
    "eco_accuracy = (correct_guess_eco_majors/eco_majors)*100\n",
    "\n",
    "print(\"Economics accuracy =\", eco_accuracy, \"%\")"
   ]
  },
  {
   "cell_type": "code",
   "execution_count": 51,
   "metadata": {
    "id": "ZV-hzGKCDemP"
   },
   "outputs": [
    {
     "name": "stdout",
     "output_type": "stream",
     "text": [
      "Physics accuracy = 80.0 %\n"
     ]
    }
   ],
   "source": [
    "# Print the Physics accuracy\n",
    "phy_accuracy = (correct_guess_physics_majors/phy_majors)*100\n",
    "\n",
    "print(\"Physics accuracy =\", phy_accuracy, \"%\")"
   ]
  },
  {
   "cell_type": "markdown",
   "metadata": {
    "id": "FvKZonnwDemS"
   },
   "source": [
    "* ### Calculate your overall accuracy in the entire game"
   ]
  },
  {
   "cell_type": "code",
   "execution_count": 49,
   "metadata": {
    "id": "eP3JkusLDemT"
   },
   "outputs": [
    {
     "name": "stdout",
     "output_type": "stream",
     "text": [
      "Overall accuracy in the entire game: 32.5 %\n"
     ]
    }
   ],
   "source": [
    "# Print the overall accuracy\n",
    "total_rounds_in_game = 3\n",
    "overall_accuracy = (round1_accuracy + round2_accuracy + round3_accuracy)/total_rounds_in_game\n",
    "\n",
    "print(\"Overall accuracy in the entire game:\", overall_accuracy, \"%\")"
   ]
  }
 ],
 "metadata": {
  "colab": {
   "provenance": []
  },
  "kernelspec": {
   "display_name": "Python 3 (ipykernel)",
   "language": "python",
   "name": "python3"
  },
  "language_info": {
   "codemirror_mode": {
    "name": "ipython",
    "version": 3
   },
   "file_extension": ".py",
   "mimetype": "text/x-python",
   "name": "python",
   "nbconvert_exporter": "python",
   "pygments_lexer": "ipython3",
   "version": "3.10.9"
  }
 },
 "nbformat": 4,
 "nbformat_minor": 1
}
