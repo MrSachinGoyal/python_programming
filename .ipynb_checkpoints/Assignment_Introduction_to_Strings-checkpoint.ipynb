{
 "cells": [
  {
   "cell_type": "markdown",
   "metadata": {
    "id": "uoGoqLiHFo3U"
   },
   "source": [
    "## <u>While doing this assignment only use those concepts which have been taught till now</u>"
   ]
  },
  {
   "cell_type": "markdown",
   "metadata": {
    "id": "LJJbprE6Fo3V"
   },
   "source": [
    "## <u>Problem 1</u>\n",
    "\n",
    "You are given a sentence which reads <b>\"Wikipedia is a free online encyclopedia, created and edited by volunteers around the world and hosted by the Wikimedia Foundation.\"</b>\n",
    "\n",
    "Find the number of words in the given sentence."
   ]
  },
  {
   "cell_type": "code",
   "execution_count": 1,
   "metadata": {
    "id": "bNs1w7lDFo3W"
   },
   "outputs": [],
   "source": [
    "# Store the given sentence in a variable\n",
    "sentence = \"Wikipedia is a free online encyclopedia, created and edited by volunteers around the world and hosted by the Wikimedia Foundation.\""
   ]
  },
  {
   "cell_type": "code",
   "execution_count": 2,
   "metadata": {
    "id": "0pwUoE0VFo3b"
   },
   "outputs": [],
   "source": [
    "# Calculate the total number of words in the sentence.  Hint : Use the count() method\n",
    "num_of_words = len(sentence)"
   ]
  },
  {
   "cell_type": "code",
   "execution_count": 4,
   "metadata": {
    "id": "Fb7lWgHY0g_X"
   },
   "outputs": [
    {
     "name": "stdout",
     "output_type": "stream",
     "text": [
      "130\n"
     ]
    }
   ],
   "source": [
    "# Print the variable num_of_words\n",
    "print(num_of_words)"
   ]
  },
  {
   "cell_type": "markdown",
   "metadata": {
    "id": "KNwy8gqZFo3h"
   },
   "source": [
    "## <u>Problem 2 </u>\n",
    "\n",
    "Write a Python code which takes a number and returns a corresponding string of hyphens. For example if the number is 3, it will return '---' , if the number is 5 it will return '-----'"
   ]
  },
  {
   "cell_type": "code",
   "execution_count": null,
   "metadata": {
    "colab": {
     "base_uri": "https://localhost:8080/",
     "height": 34
    },
    "id": "pA80LvUtFo3i",
    "outputId": "0e2e9b9d-0df5-43ae-aa8b-90fa80f2d8ad"
   },
   "outputs": [
    {
     "name": "stdout",
     "output_type": "stream",
     "text": [
      "5\n"
     ]
    }
   ],
   "source": [
    "# Store the user input in a variable\n",
    "inputted_number = int(input())"
   ]
  },
  {
   "cell_type": "code",
   "execution_count": null,
   "metadata": {
    "id": "tX6VPyrQFo3m"
   },
   "outputs": [],
   "source": [
    "# Create a string of equivalent number of hyphens. Hint : remember what happens when we multiply string by a number?\n",
    "string_of_hyphens ="
   ]
  },
  {
   "cell_type": "code",
   "execution_count": null,
   "metadata": {
    "id": "AfJ1TmZVFo3s"
   },
   "outputs": [],
   "source": [
    "# Print the string of hyphens\n"
   ]
  },
  {
   "cell_type": "markdown",
   "metadata": {
    "id": "hCG8HmhRFo3u"
   },
   "source": [
    "## <u> Problem 3 </u>\n",
    "\n",
    "A string can be called a safe bridge if it has no gaps in it i.e, no spaces. You are supposed to take an input from the user and print whether the string is a safe bridge or not."
   ]
  },
  {
   "cell_type": "code",
   "execution_count": null,
   "metadata": {
    "id": "QLoggGagFo3x",
    "outputId": "64057984-6f30-4d8c-fc70-63140e1d6401"
   },
   "outputs": [
    {
     "name": "stdout",
     "output_type": "stream",
     "text": [
      "Monopoly Man\n"
     ]
    }
   ],
   "source": [
    "# Store the user input in a variable\n",
    "bridge = input()"
   ]
  },
  {
   "cell_type": "code",
   "execution_count": null,
   "metadata": {
    "id": "Zv5UgGr8Fo31"
   },
   "outputs": [],
   "source": [
    "# Return True if the bridge is safe and False if the bridge is not safe. Hint : Use the find() method\n",
    "is_safe_bridge ="
   ]
  },
  {
   "cell_type": "code",
   "execution_count": null,
   "metadata": {
    "id": "TBCckeOXFo35"
   },
   "outputs": [],
   "source": [
    "# Fill in the blanks\n",
    "print(f\"It is {} that the bridge is a safe bridge\" )"
   ]
  },
  {
   "cell_type": "markdown",
   "metadata": {
    "id": "IO-p2ILHFo37"
   },
   "source": [
    "## <u>Problem 4</u>\n",
    "\n",
    "Count the number of D's in a string inputted by the user. This will be <b>case insensitive</b>."
   ]
  },
  {
   "cell_type": "code",
   "execution_count": null,
   "metadata": {
    "id": "CBqgtmkhFo38"
   },
   "outputs": [],
   "source": [
    "# Store the user input in a variable\n",
    "user_string = 'Debris was scattered all over the yard in the densest region of Denmark'"
   ]
  },
  {
   "cell_type": "code",
   "execution_count": null,
   "metadata": {
    "id": "-nKePpRMFo3-"
   },
   "outputs": [],
   "source": [
    "# Store the count of letter D in the inputted string. Note this will be a case insensitive search\n",
    "D_counts ="
   ]
  },
  {
   "cell_type": "code",
   "execution_count": null,
   "metadata": {
    "id": "N9IXUH5AFo4A"
   },
   "outputs": [],
   "source": [
    "# Fill in the blanks\n",
    "print(f\"The total occurrence of D in the user_string is {}\")"
   ]
  },
  {
   "cell_type": "markdown",
   "metadata": {
    "id": "e40-mPXjFo4D"
   },
   "source": [
    "## <u>Problem 5</u>\n",
    "\n",
    "Check whether a given string is a palindrome. A palindrome is a word, number, phrase, or other sequence of characters which reads the same backward as forward, such as madam, racecar."
   ]
  },
  {
   "cell_type": "code",
   "execution_count": null,
   "metadata": {
    "colab": {
     "base_uri": "https://localhost:8080/",
     "height": 34
    },
    "id": "qs0ZYZkzFo4D",
    "outputId": "0495ca1d-90ea-4cff-d6a3-52765ec9922d"
   },
   "outputs": [
    {
     "name": "stdout",
     "output_type": "stream",
     "text": [
      "gbh\n"
     ]
    }
   ],
   "source": [
    "# Store the user input in a variable\n",
    "user_string = input()"
   ]
  },
  {
   "cell_type": "code",
   "execution_count": null,
   "metadata": {
    "id": "OTVGL16NFo4G"
   },
   "outputs": [],
   "source": [
    "# Print True if a string is a Palindrome else print false\n"
   ]
  }
 ],
 "metadata": {
  "colab": {
   "provenance": []
  },
  "kernelspec": {
   "display_name": "Python 3 (ipykernel)",
   "language": "python",
   "name": "python3"
  },
  "language_info": {
   "codemirror_mode": {
    "name": "ipython",
    "version": 3
   },
   "file_extension": ".py",
   "mimetype": "text/x-python",
   "name": "python",
   "nbconvert_exporter": "python",
   "pygments_lexer": "ipython3",
   "version": "3.10.9"
  }
 },
 "nbformat": 4,
 "nbformat_minor": 1
}
