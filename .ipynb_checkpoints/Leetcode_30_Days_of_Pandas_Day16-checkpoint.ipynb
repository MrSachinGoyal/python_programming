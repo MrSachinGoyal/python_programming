{
 "cells": [
  {
   "cell_type": "code",
   "execution_count": 94,
   "id": "896d08eb",
   "metadata": {},
   "outputs": [],
   "source": [
    "# import necessary libraries\n",
    "import pandas as pd"
   ]
  },
  {
   "cell_type": "markdown",
   "id": "4c0ceffd",
   "metadata": {},
   "source": [
    "Question: Write a solution to find the number of times each student attended each exam.\n",
    "\n",
    "Return the result table ordered by student_id and subject_name."
   ]
  },
  {
   "cell_type": "code",
   "execution_count": 100,
   "id": "05887e81",
   "metadata": {},
   "outputs": [],
   "source": [
    "# defining function\n",
    "def students_and_examinations(students: pd.DataFrame, subjects: pd.DataFrame, examinations: pd.DataFrame) -> pd.DataFrame:\n",
    "    \n",
    "    # grouping the dataframe to count how many times each student give exam for each subject\n",
    "    group_df = examinations.groupby(['student_id', 'subject_name']).size().reset_index().rename(columns={0: 'attended_exams'})\n",
    "\n",
    "    # creating merged dataframe using cross join and left join\n",
    "    merged_df = students.merge(subjects, how='cross').merge(group_df, how='left', on=['student_id', 'subject_name'])\n",
    "\n",
    "    # filling NaN values with 0\n",
    "    merged_df['attended_exams'] = merged_df['attended_exams'].fillna(0).astype('int')\n",
    "\n",
    "    # selecting the columns and sorting the dataframe\n",
    "    result_df = merged_df.sort_values(by=['student_id', 'student_name'], ascending=[True, True])\n",
    "\n",
    "    return result_df\n",
    "\n",
    "# preparing the dataframe\n",
    "data = [[1, 'Alice'], \n",
    "        [2, 'Bob'], \n",
    "        [13, 'John'], \n",
    "        [6, 'Alex']]\n",
    "\n",
    "students = pd.DataFrame(data, columns=['student_id', 'student_name']).astype({'student_id':'Int64', 'student_name':'object'})\n",
    "\n",
    "data = [['Math'], \n",
    "        ['Physics'], \n",
    "        ['Programming']]\n",
    "\n",
    "subjects = pd.DataFrame(data, columns=['subject_name']).astype({'subject_name':'object'})\n",
    "\n",
    "data = [[1, 'Math'], \n",
    "        [1, 'Physics'], \n",
    "        [1, 'Programming'], \n",
    "        [2, 'Programming'], \n",
    "        [1, 'Physics'], [1, 'Math'], \n",
    "        [13, 'Math'], [13, 'Programming'], \n",
    "        [13, 'Physics'], \n",
    "        [2, 'Math'], \n",
    "        [1, 'Math']]\n",
    "\n",
    "examinations = pd.DataFrame(data, columns=['student_id', 'subject_name']).astype({'student_id':'Int64', 'subject_name':'object'})"
   ]
  },
  {
   "cell_type": "code",
   "execution_count": 103,
   "id": "04056bf4",
   "metadata": {},
   "outputs": [
    {
     "name": "stdout",
     "output_type": "stream",
     "text": [
      "Number of times each Student attended each Exam\n",
      "    student_id student_name subject_name  attended_exams\n",
      "0            1        Alice         Math               3\n",
      "1            1        Alice      Physics               2\n",
      "2            1        Alice  Programming               1\n",
      "3            2          Bob         Math               1\n",
      "4            2          Bob      Physics               0\n",
      "5            2          Bob  Programming               1\n",
      "9            6         Alex         Math               0\n",
      "10           6         Alex      Physics               0\n",
      "11           6         Alex  Programming               0\n",
      "6           13         John         Math               1\n",
      "7           13         John      Physics               1\n",
      "8           13         John  Programming               1\n"
     ]
    }
   ],
   "source": [
    "# calling the function and printing the result\n",
    "result = students_and_examinations(students, subjects, examinations)\n",
    "print(\"Number of times each Student attended each Exam\")\n",
    "print(result)"
   ]
  },
  {
   "cell_type": "code",
   "execution_count": null,
   "id": "ee59fb4c",
   "metadata": {},
   "outputs": [],
   "source": []
  },
  {
   "cell_type": "code",
   "execution_count": null,
   "id": "dc562ecc",
   "metadata": {},
   "outputs": [],
   "source": []
  },
  {
   "cell_type": "code",
   "execution_count": null,
   "id": "dbb14570",
   "metadata": {},
   "outputs": [],
   "source": []
  }
 ],
 "metadata": {
  "kernelspec": {
   "display_name": "Python 3 (ipykernel)",
   "language": "python",
   "name": "python3"
  },
  "language_info": {
   "codemirror_mode": {
    "name": "ipython",
    "version": 3
   },
   "file_extension": ".py",
   "mimetype": "text/x-python",
   "name": "python",
   "nbconvert_exporter": "python",
   "pygments_lexer": "ipython3",
   "version": "3.10.9"
  }
 },
 "nbformat": 4,
 "nbformat_minor": 5
}
