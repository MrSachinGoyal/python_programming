{
 "cells": [
  {
   "cell_type": "markdown",
   "id": "de4bd766",
   "metadata": {},
   "source": [
    "### Write a lambda function that takes two arguments and returns their sum"
   ]
  },
  {
   "cell_type": "code",
   "execution_count": 10,
   "id": "6da7f7a0",
   "metadata": {},
   "outputs": [],
   "source": [
    "# creating a lambda function that accepts two arguments\n",
    "func = lambda x,y : x+y"
   ]
  },
  {
   "cell_type": "code",
   "execution_count": 11,
   "id": "d226dd6a",
   "metadata": {},
   "outputs": [
    {
     "data": {
      "text/plain": [
       "6"
      ]
     },
     "execution_count": 11,
     "metadata": {},
     "output_type": "execute_result"
    }
   ],
   "source": [
    "# calling the function\n",
    "func(2,4)"
   ]
  },
  {
   "cell_type": "markdown",
   "id": "aa639845",
   "metadata": {},
   "source": [
    "### Create a list of integers and use a lambda function with the filter function to filter out even numbers."
   ]
  },
  {
   "cell_type": "code",
   "execution_count": 21,
   "id": "73764722",
   "metadata": {},
   "outputs": [],
   "source": [
    "# creating list of integers\n",
    "list_integers = [i for i in range(1, 100)]"
   ]
  },
  {
   "cell_type": "code",
   "execution_count": 22,
   "id": "aa2cdc58",
   "metadata": {},
   "outputs": [
    {
     "name": "stdout",
     "output_type": "stream",
     "text": [
      "[1, 2, 3, 4, 5, 6, 7, 8, 9, 10, 11, 12, 13, 14, 15, 16, 17, 18, 19, 20, 21, 22, 23, 24, 25, 26, 27, 28, 29, 30, 31, 32, 33, 34, 35, 36, 37, 38, 39, 40, 41, 42, 43, 44, 45, 46, 47, 48, 49, 50, 51, 52, 53, 54, 55, 56, 57, 58, 59, 60, 61, 62, 63, 64, 65, 66, 67, 68, 69, 70, 71, 72, 73, 74, 75, 76, 77, 78, 79, 80, 81, 82, 83, 84, 85, 86, 87, 88, 89, 90, 91, 92, 93, 94, 95, 96, 97, 98, 99]\n"
     ]
    }
   ],
   "source": [
    "print(list_integers)"
   ]
  },
  {
   "cell_type": "code",
   "execution_count": 24,
   "id": "517777b3",
   "metadata": {},
   "outputs": [
    {
     "name": "stdout",
     "output_type": "stream",
     "text": [
      "[2, 4, 6, 8, 10, 12, 14, 16, 18, 20, 22, 24, 26, 28, 30, 32, 34, 36, 38, 40, 42, 44, 46, 48, 50, 52, 54, 56, 58, 60, 62, 64, 66, 68, 70, 72, 74, 76, 78, 80, 82, 84, 86, 88, 90, 92, 94, 96, 98]\n"
     ]
    }
   ],
   "source": [
    "# filter function will return a filter object\n",
    "filter_obj = filter(lambda x: True if x%2 == 0 else False , list_integers)\n",
    "\n",
    "# creating a list from filter object\n",
    "print(list(filter_obj))"
   ]
  },
  {
   "cell_type": "markdown",
   "id": "c46dfbfa",
   "metadata": {},
   "source": [
    "### Use the map function to square each element in a list of integers."
   ]
  },
  {
   "cell_type": "code",
   "execution_count": 26,
   "id": "b6f94561",
   "metadata": {},
   "outputs": [],
   "source": [
    "# creating a list of integers\n",
    "list_integers  = [i for i in range(10)]"
   ]
  },
  {
   "cell_type": "code",
   "execution_count": 27,
   "id": "5b5df6a7",
   "metadata": {},
   "outputs": [
    {
     "name": "stdout",
     "output_type": "stream",
     "text": [
      "[0, 1, 2, 3, 4, 5, 6, 7, 8, 9]\n"
     ]
    }
   ],
   "source": [
    "print(list_integers)"
   ]
  },
  {
   "cell_type": "code",
   "execution_count": 33,
   "id": "1ff176fa",
   "metadata": {},
   "outputs": [],
   "source": [
    "# map function will return a map object\n",
    "map_obj = map(lambda x : x**2, list_integers)"
   ]
  },
  {
   "cell_type": "code",
   "execution_count": 34,
   "id": "bddf4d02",
   "metadata": {},
   "outputs": [
    {
     "name": "stdout",
     "output_type": "stream",
     "text": [
      "[0, 1, 4, 9, 16, 25, 36, 49, 64, 81]\n"
     ]
    }
   ],
   "source": [
    "# creating a list from map object\n",
    "print(list(map_obj))"
   ]
  },
  {
   "cell_type": "markdown",
   "id": "eef1d6a1",
   "metadata": {},
   "source": [
    "### Create a list of strings and use the map function to convert each string to uppercase."
   ]
  },
  {
   "cell_type": "code",
   "execution_count": 36,
   "id": "ecc2f1f3",
   "metadata": {},
   "outputs": [],
   "source": [
    "# creating a list of strings\n",
    "word_list = [\"apple\", \"banana\", \"cherry\", \"date\", \"elderberry\", \"fig\", \"grape\", \"honeydew\", \"kiwi\"]"
   ]
  },
  {
   "cell_type": "code",
   "execution_count": 37,
   "id": "28e9607a",
   "metadata": {},
   "outputs": [
    {
     "name": "stdout",
     "output_type": "stream",
     "text": [
      "['apple', 'banana', 'cherry', 'date', 'elderberry', 'fig', 'grape', 'honeydew', 'kiwi']\n"
     ]
    }
   ],
   "source": [
    "print(word_list)"
   ]
  },
  {
   "cell_type": "code",
   "execution_count": 41,
   "id": "75e918be",
   "metadata": {},
   "outputs": [],
   "source": [
    "# map function will return map object\n",
    "map_object = map(lambda x: x.upper(), word_list)"
   ]
  },
  {
   "cell_type": "code",
   "execution_count": 42,
   "id": "1a7aaa48",
   "metadata": {},
   "outputs": [
    {
     "name": "stdout",
     "output_type": "stream",
     "text": [
      "['APPLE', 'BANANA', 'CHERRY', 'DATE', 'ELDERBERRY', 'FIG', 'GRAPE', 'HONEYDEW', 'KIWI']\n"
     ]
    }
   ],
   "source": [
    "# creating a list from map object\n",
    "print(list(map_object))"
   ]
  },
  {
   "cell_type": "markdown",
   "id": "ba982171",
   "metadata": {},
   "source": [
    "### Create a list of dictionaries containing information about books (title, author, pages). Use the filter function to filter out books with more than 200 pages."
   ]
  },
  {
   "cell_type": "code",
   "execution_count": 44,
   "id": "ad9d6e17",
   "metadata": {},
   "outputs": [],
   "source": [
    "# creating a list of dictionary containing book information\n",
    "books = [\n",
    "    {\n",
    "        \"title\": \"The Great Gatsby\",\n",
    "        \"author\": \"F. Scott Fitzgerald\",\n",
    "        \"pages\": 180\n",
    "    },\n",
    "    {\n",
    "        \"title\": \"To Kill a Mockingbird\",\n",
    "        \"author\": \"Harper Lee\",\n",
    "        \"pages\": 281\n",
    "    },\n",
    "    {\n",
    "        \"title\": \"1984\",\n",
    "        \"author\": \"George Orwell\",\n",
    "        \"pages\": 328\n",
    "    },\n",
    "    {\n",
    "        \"title\": \"Pride and Prejudice\",\n",
    "        \"author\": \"Jane Austen\",\n",
    "        \"pages\": 432\n",
    "    },\n",
    "    {\n",
    "        \"title\": \"The Catcher in the Rye\",\n",
    "        \"author\": \"J.D. Salinger\",\n",
    "        \"pages\": 224\n",
    "    }\n",
    "]\n"
   ]
  },
  {
   "cell_type": "code",
   "execution_count": 53,
   "id": "79ea513d",
   "metadata": {},
   "outputs": [],
   "source": [
    "# filter function will return filter object\n",
    "filter_object = filter(lambda x: True if x['pages'] > 200 else False, books)"
   ]
  },
  {
   "cell_type": "code",
   "execution_count": 54,
   "id": "955f1120",
   "metadata": {},
   "outputs": [
    {
     "name": "stdout",
     "output_type": "stream",
     "text": [
      "[{'title': 'To Kill a Mockingbird', 'author': 'Harper Lee', 'pages': 281}, {'title': '1984', 'author': 'George Orwell', 'pages': 328}, {'title': 'Pride and Prejudice', 'author': 'Jane Austen', 'pages': 432}, {'title': 'The Catcher in the Rye', 'author': 'J.D. Salinger', 'pages': 224}]\n"
     ]
    }
   ],
   "source": [
    "# creating a list from filter object\n",
    "print(list(filter_object))"
   ]
  },
  {
   "cell_type": "markdown",
   "id": "b076caca",
   "metadata": {},
   "source": [
    "### Write a program that takes a list of numbers as input and uses the filter function to filter out numbers that are divisible by 3."
   ]
  },
  {
   "cell_type": "code",
   "execution_count": 56,
   "id": "d5993b5b",
   "metadata": {},
   "outputs": [],
   "source": [
    "# creating a list of numbers\n",
    "list_numbers = [i for i in range(100, 1000, 2)]"
   ]
  },
  {
   "cell_type": "code",
   "execution_count": 57,
   "id": "614d00e0",
   "metadata": {},
   "outputs": [
    {
     "name": "stdout",
     "output_type": "stream",
     "text": [
      "[100, 102, 104, 106, 108, 110, 112, 114, 116, 118, 120, 122, 124, 126, 128, 130, 132, 134, 136, 138, 140, 142, 144, 146, 148, 150, 152, 154, 156, 158, 160, 162, 164, 166, 168, 170, 172, 174, 176, 178, 180, 182, 184, 186, 188, 190, 192, 194, 196, 198, 200, 202, 204, 206, 208, 210, 212, 214, 216, 218, 220, 222, 224, 226, 228, 230, 232, 234, 236, 238, 240, 242, 244, 246, 248, 250, 252, 254, 256, 258, 260, 262, 264, 266, 268, 270, 272, 274, 276, 278, 280, 282, 284, 286, 288, 290, 292, 294, 296, 298, 300, 302, 304, 306, 308, 310, 312, 314, 316, 318, 320, 322, 324, 326, 328, 330, 332, 334, 336, 338, 340, 342, 344, 346, 348, 350, 352, 354, 356, 358, 360, 362, 364, 366, 368, 370, 372, 374, 376, 378, 380, 382, 384, 386, 388, 390, 392, 394, 396, 398, 400, 402, 404, 406, 408, 410, 412, 414, 416, 418, 420, 422, 424, 426, 428, 430, 432, 434, 436, 438, 440, 442, 444, 446, 448, 450, 452, 454, 456, 458, 460, 462, 464, 466, 468, 470, 472, 474, 476, 478, 480, 482, 484, 486, 488, 490, 492, 494, 496, 498, 500, 502, 504, 506, 508, 510, 512, 514, 516, 518, 520, 522, 524, 526, 528, 530, 532, 534, 536, 538, 540, 542, 544, 546, 548, 550, 552, 554, 556, 558, 560, 562, 564, 566, 568, 570, 572, 574, 576, 578, 580, 582, 584, 586, 588, 590, 592, 594, 596, 598, 600, 602, 604, 606, 608, 610, 612, 614, 616, 618, 620, 622, 624, 626, 628, 630, 632, 634, 636, 638, 640, 642, 644, 646, 648, 650, 652, 654, 656, 658, 660, 662, 664, 666, 668, 670, 672, 674, 676, 678, 680, 682, 684, 686, 688, 690, 692, 694, 696, 698, 700, 702, 704, 706, 708, 710, 712, 714, 716, 718, 720, 722, 724, 726, 728, 730, 732, 734, 736, 738, 740, 742, 744, 746, 748, 750, 752, 754, 756, 758, 760, 762, 764, 766, 768, 770, 772, 774, 776, 778, 780, 782, 784, 786, 788, 790, 792, 794, 796, 798, 800, 802, 804, 806, 808, 810, 812, 814, 816, 818, 820, 822, 824, 826, 828, 830, 832, 834, 836, 838, 840, 842, 844, 846, 848, 850, 852, 854, 856, 858, 860, 862, 864, 866, 868, 870, 872, 874, 876, 878, 880, 882, 884, 886, 888, 890, 892, 894, 896, 898, 900, 902, 904, 906, 908, 910, 912, 914, 916, 918, 920, 922, 924, 926, 928, 930, 932, 934, 936, 938, 940, 942, 944, 946, 948, 950, 952, 954, 956, 958, 960, 962, 964, 966, 968, 970, 972, 974, 976, 978, 980, 982, 984, 986, 988, 990, 992, 994, 996, 998]\n"
     ]
    }
   ],
   "source": [
    "print(list_numbers)"
   ]
  },
  {
   "cell_type": "code",
   "execution_count": 59,
   "id": "cb6710c9",
   "metadata": {},
   "outputs": [],
   "source": [
    "# filter function will return filter object\n",
    "filter_object = filter(lambda x: True if x%3 == 0 else False, list_numbers)"
   ]
  },
  {
   "cell_type": "code",
   "execution_count": 60,
   "id": "7532b38c",
   "metadata": {},
   "outputs": [
    {
     "name": "stdout",
     "output_type": "stream",
     "text": [
      "[102, 108, 114, 120, 126, 132, 138, 144, 150, 156, 162, 168, 174, 180, 186, 192, 198, 204, 210, 216, 222, 228, 234, 240, 246, 252, 258, 264, 270, 276, 282, 288, 294, 300, 306, 312, 318, 324, 330, 336, 342, 348, 354, 360, 366, 372, 378, 384, 390, 396, 402, 408, 414, 420, 426, 432, 438, 444, 450, 456, 462, 468, 474, 480, 486, 492, 498, 504, 510, 516, 522, 528, 534, 540, 546, 552, 558, 564, 570, 576, 582, 588, 594, 600, 606, 612, 618, 624, 630, 636, 642, 648, 654, 660, 666, 672, 678, 684, 690, 696, 702, 708, 714, 720, 726, 732, 738, 744, 750, 756, 762, 768, 774, 780, 786, 792, 798, 804, 810, 816, 822, 828, 834, 840, 846, 852, 858, 864, 870, 876, 882, 888, 894, 900, 906, 912, 918, 924, 930, 936, 942, 948, 954, 960, 966, 972, 978, 984, 990, 996]\n"
     ]
    }
   ],
   "source": [
    "# creating a list from filter object\n",
    "print(list(filter_object))"
   ]
  },
  {
   "cell_type": "markdown",
   "id": "c79f850d",
   "metadata": {},
   "source": [
    "### Write a program that takes a mathematical expression as input from the user and uses eval to calculate the result."
   ]
  },
  {
   "cell_type": "code",
   "execution_count": 68,
   "id": "93e9abd7",
   "metadata": {},
   "outputs": [
    {
     "name": "stdout",
     "output_type": "stream",
     "text": [
      "enter the input: 15/8\n",
      "1.875\n"
     ]
    }
   ],
   "source": [
    "# taking mathematical expression as user input\n",
    "try:\n",
    "    user_input = eval(input('enter the input: '))\n",
    "    print(user_input)\n",
    "    \n",
    "except Exception as e:\n",
    "    print(e.with_traceback)"
   ]
  },
  {
   "cell_type": "code",
   "execution_count": null,
   "id": "fec76d61",
   "metadata": {},
   "outputs": [],
   "source": []
  }
 ],
 "metadata": {
  "kernelspec": {
   "display_name": "Python 3 (ipykernel)",
   "language": "python",
   "name": "python3"
  },
  "language_info": {
   "codemirror_mode": {
    "name": "ipython",
    "version": 3
   },
   "file_extension": ".py",
   "mimetype": "text/x-python",
   "name": "python",
   "nbconvert_exporter": "python",
   "pygments_lexer": "ipython3",
   "version": "3.10.9"
  }
 },
 "nbformat": 4,
 "nbformat_minor": 5
}
