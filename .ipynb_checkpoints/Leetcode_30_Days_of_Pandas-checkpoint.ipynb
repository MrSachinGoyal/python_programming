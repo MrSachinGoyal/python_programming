{
 "cells": [
  {
   "cell_type": "markdown",
   "id": "7f34239b",
   "metadata": {},
   "source": [
    "###### Link to the challenge: https://leetcode.com/studyplan/30-days-of-pandas/"
   ]
  },
  {
   "cell_type": "code",
   "execution_count": 2,
   "id": "183b8504",
   "metadata": {},
   "outputs": [],
   "source": [
    "import pandas as pd"
   ]
  },
  {
   "cell_type": "markdown",
   "id": "02736429",
   "metadata": {},
   "source": [
    "Q-1: A country is big if:\n",
    "\n",
    "it has an area of at least three million (i.e., 3000000 km2), or\n",
    "it has a population of at least twenty-five million (i.e., 25000000).\n",
    "\n",
    "Write a solution to find the name, population, and area of the big countries.\n",
    "Return the result table in any order."
   ]
  },
  {
   "cell_type": "code",
   "execution_count": 57,
   "id": "bdf4b2d2",
   "metadata": {},
   "outputs": [
    {
     "name": "stdout",
     "output_type": "stream",
     "text": [
      "          name  population     area\n",
      "0  Afghanistan    25500100   652230\n",
      "2      Algeria    37100000  2381741\n"
     ]
    }
   ],
   "source": [
    "def big_countries(world: pd.DataFrame) -> pd.DataFrame:\n",
    "\n",
    "    # defining the filter condition for big countries\n",
    "    criterion = (world['area'] >= 3000000) | (world['population'] >= 25000000)\n",
    "    \n",
    "    # extracting countries and their required columns that match this criterion\n",
    "    big_countries = world[criterion][['name', 'population','area']]\n",
    "    return big_countries\n",
    "\n",
    "data = [['Afghanistan', 'Asia', 652230, 25500100, 20343000000], \n",
    "            ['Albania', 'Europe', 28748, 2831741, 12960000000],           \n",
    "            ['Algeria', 'Africa', 2381741, 37100000, 188681000000], \n",
    "            ['Andorra', 'Europe', 468, 78115, 3712000000], \n",
    "            ['Angola', 'Africa', 1246700, 20609294, 100990000000]\n",
    "            ]\n",
    "\n",
    "# preparing dataframe\n",
    "world = pd.DataFrame(data, columns=['name', 'continent', 'area', 'population', 'gdp'])\n",
    "\n",
    "# calling the function\n",
    "result = big_countries(world)\n",
    "print(result)"
   ]
  },
  {
   "cell_type": "markdown",
   "id": "5fbafcef",
   "metadata": {},
   "source": [
    "Q-2: Write a solution to find the ids of products that are both low fat and recyclable.Return the result table in any order."
   ]
  },
  {
   "cell_type": "code",
   "execution_count": 56,
   "id": "7b79d26d",
   "metadata": {},
   "outputs": [
    {
     "name": "stdout",
     "output_type": "stream",
     "text": [
      "   product_id\n",
      "1           1\n",
      "3           3\n"
     ]
    }
   ],
   "source": [
    "def find_products(products: pd.DataFrame) -> pd.DataFrame:\n",
    "    \n",
    "    # defining the filter condition for products that are both low fat and recyclable\n",
    "    filter_cond = (products['low_fats'] == 'Y') & (products['recyclable'] == 'Y')\n",
    "\n",
    "    # extacting the product_id of products that are both low fat and recyclable\n",
    "    low_fat_recyclable_products = products[filter_cond]['product_id']\n",
    "    \n",
    "    # converting series to dataframe\n",
    "    result_df = pd.DataFrame({'product_id': low_fat_recyclable_products})\n",
    "    \n",
    "    return result_df\n",
    "    \n",
    "\n",
    "data = [['0', 'Y', 'N'], \n",
    "        ['1', 'Y', 'Y'], \n",
    "        ['2', 'N', 'Y'], \n",
    "        ['3', 'Y', 'Y'], \n",
    "        ['4', 'N', 'N']\n",
    "       ]\n",
    "\n",
    "# preparing the dataframe\n",
    "products = pd.DataFrame(data, columns=['product_id', 'low_fats', 'recyclable']).astype(\n",
    "                 {'product_id':'int64', 'low_fats':'category', 'recyclable':'category'})\n",
    "\n",
    "# calling the function\n",
    "result = find_products(products)\n",
    "print(result)"
   ]
  }
 ],
 "metadata": {
  "kernelspec": {
   "display_name": "Python 3 (ipykernel)",
   "language": "python",
   "name": "python3"
  },
  "language_info": {
   "codemirror_mode": {
    "name": "ipython",
    "version": 3
   },
   "file_extension": ".py",
   "mimetype": "text/x-python",
   "name": "python",
   "nbconvert_exporter": "python",
   "pygments_lexer": "ipython3",
   "version": "3.10.9"
  }
 },
 "nbformat": 4,
 "nbformat_minor": 5
}
