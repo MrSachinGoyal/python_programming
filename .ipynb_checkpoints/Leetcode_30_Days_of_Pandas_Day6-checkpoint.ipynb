{
 "cells": [
  {
   "cell_type": "markdown",
   "id": "f17e6a86",
   "metadata": {},
   "source": [
    "Link : https://leetcode.com/studyplan/30-days-of-pandas/"
   ]
  },
  {
   "cell_type": "code",
   "execution_count": 4,
   "id": "d3707e11",
   "metadata": {},
   "outputs": [],
   "source": [
    "# Importing the necessary libraries\n",
    "import pandas as pd\n",
    "import numpy as np"
   ]
  },
  {
   "cell_type": "markdown",
   "id": "cb4b79ea",
   "metadata": {},
   "source": [
    "Q-7. Write a solution to fix the names so that only the first character is uppercase and the rest are lowercase. Return the result table ordered by user_id."
   ]
  },
  {
   "cell_type": "code",
   "execution_count": 80,
   "id": "da6431e7",
   "metadata": {},
   "outputs": [
    {
     "name": "stdout",
     "output_type": "stream",
     "text": [
      "*************Correct user names*************\n",
      "   user_id   name\n",
      "0        1  Alice\n",
      "1        2    Bob\n"
     ]
    }
   ],
   "source": [
    "# defining function to fix user names\n",
    "def fix_names(users: pd.DataFrame) -> pd.DataFrame:\n",
    "    \n",
    "    try:\n",
    "        # fixing the names using apply function \n",
    "        users['name'] = users['name'].apply(lambda x : x.lower().capitalize())\n",
    "\n",
    "        # sorting the users datframe in ascending order by user_id\n",
    "        sorted_users = users.sort_values(by=['user_id'], ascending=[True])\n",
    "        \n",
    "        return sorted_users\n",
    "    \n",
    "    except Exception as e:\n",
    "        print(f\"Error occured is {e}\")\n",
    "        return None\n",
    "        \n",
    "\n",
    "# preparing the dataframe\n",
    "data = [[1, 'aLice'], [2, 'bOB']]\n",
    "users = pd.DataFrame(data, columns=['user_id', 'name']).astype({'user_id':'Int64', 'name':'object'})\n",
    "\n",
    "# calling the function and fetching the result\n",
    "result = fix_names(users)\n",
    "\n",
    "if result is None:\n",
    "    print(\"Some Error occured\")\n",
    "else:\n",
    "    print('*************Correct user names*************')\n",
    "    print(result)"
   ]
  },
  {
   "cell_type": "markdown",
   "id": "eb2ca9bf",
   "metadata": {},
   "source": [
    "Q-8. Write a solution to find the users who have valid emails. A valid e-mail has a prefix name and a domain where:\n",
    "\n",
    "- The prefix name is a string that may contain letters (upper or lower case), digits, underscore '_', period '.', and/or dash '-'. The prefix name must start with a letter.\n",
    "- The domain is '@leetcode.com'.\n",
    "\n",
    "Return the result table in any order."
   ]
  },
  {
   "cell_type": "code",
   "execution_count": 82,
   "id": "15c8fd05",
   "metadata": {},
   "outputs": [
    {
     "name": "stdout",
     "output_type": "stream",
     "text": [
      "**************Valid Emails*****************\n",
      "   user_id       name                     mail\n",
      "0        1    Winston     winston@leetcode.com\n",
      "2        3  Annabelle      bella-@leetcode.com\n",
      "3        4      Sally  sally.come@leetcode.com\n"
     ]
    }
   ],
   "source": [
    "# defining the function to find valid emails\n",
    "def valid_emails(users: pd.DataFrame) -> pd.DataFrame:\n",
    "    \n",
    "    try:\n",
    "        # adding new column to users dataframe to check email_id is valid or not\n",
    "        users['email_valid_or_not'] = users['mail'].str.contains('^[a-zA-Z]+[a-zA-z0-9_\\.\\-]*@leetcode\\.com$')\n",
    "\n",
    "        # filter condition fo find valid emails\n",
    "        mask = users['email_valid_or_not'] == True\n",
    "\n",
    "        # filtering the rows based on filter condition and extracting output columns\\\n",
    "        result_df = users[mask][['user_id', 'name', 'mail']]\n",
    "\n",
    "        return result_df\n",
    "    \n",
    "    except Exception as e:\n",
    "        print(f'The error occured is {e}')\n",
    "        return None\n",
    "\n",
    "# preparing the dataframe\n",
    "data = [[1, 'Winston', 'winston@leetcode.com'], \n",
    "        [2, 'Jonathan', 'jonathanisgreat'], \n",
    "        [3, 'Annabelle', 'bella-@leetcode.com'], \n",
    "        [4, 'Sally', 'sally.come@leetcode.com'], \n",
    "        [5, 'Marwan', 'quarz#2020@leetcode.com'], \n",
    "        [6, 'David', 'david69@gmail.com'], \n",
    "        [7, 'Shapiro', '.shapo@leetcode.com']]\n",
    "\n",
    "users = pd.DataFrame(data, columns=['user_id', 'name', 'mail']).astype({'user_id':'int64', 'name':'object', 'mail':'object'})\n",
    "\n",
    "# calling the function and printing the result\n",
    "result  = valid_emails(users)\n",
    "\n",
    "if result is None:\n",
    "    print(\"Error Occured while finding valid emails\")\n",
    "else:\n",
    "    print(\"**************Valid Emails*****************\")\n",
    "    print(result)"
   ]
  },
  {
   "cell_type": "code",
   "execution_count": null,
   "id": "1d68cfa7",
   "metadata": {},
   "outputs": [],
   "source": []
  }
 ],
 "metadata": {
  "kernelspec": {
   "display_name": "Python 3 (ipykernel)",
   "language": "python",
   "name": "python3"
  },
  "language_info": {
   "codemirror_mode": {
    "name": "ipython",
    "version": 3
   },
   "file_extension": ".py",
   "mimetype": "text/x-python",
   "name": "python",
   "nbconvert_exporter": "python",
   "pygments_lexer": "ipython3",
   "version": "3.10.9"
  }
 },
 "nbformat": 4,
 "nbformat_minor": 5
}
