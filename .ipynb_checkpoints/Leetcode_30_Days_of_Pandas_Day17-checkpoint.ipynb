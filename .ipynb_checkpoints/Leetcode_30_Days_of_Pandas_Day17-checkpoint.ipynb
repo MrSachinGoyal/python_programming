{
 "cells": [
  {
   "cell_type": "code",
   "execution_count": 1,
   "id": "8536f8f3",
   "metadata": {},
   "outputs": [],
   "source": [
    "# import necessary libraries\n",
    "import pandas as pd"
   ]
  },
  {
   "cell_type": "markdown",
   "id": "010f1839",
   "metadata": {},
   "source": [
    "Question: Write a solution to calculate the number of unique subjects each teacher teaches in the university.\n",
    "\n",
    "Return the result table in any order."
   ]
  },
  {
   "cell_type": "code",
   "execution_count": 26,
   "id": "808e6473",
   "metadata": {},
   "outputs": [
    {
     "name": "stdout",
     "output_type": "stream",
     "text": [
      "Number of Unique Subjects taught by each Teacher\n",
      "   teacher_id  cnt\n",
      "0           1    2\n",
      "1           2    4\n"
     ]
    }
   ],
   "source": [
    "# function definition\n",
    "def count_unique_subjects(teacher: pd.DataFrame) -> pd.DataFrame:\n",
    "    \n",
    "    # dropping duplicates - each teacher teaches the same subject in two different departments\n",
    "    teacher.drop_duplicates(subset=['teacher_id', 'subject_id'], inplace=True)\n",
    "    \n",
    "    # grouping the dataframe and counting unique subjects teach by each teacher \n",
    "    result_df = teacher.groupby('teacher_id')['subject_id'].count().reset_index().rename(columns={'subject_id':'cnt'})\n",
    "    \n",
    "    return result_df\n",
    "\n",
    "# preparing the dataframe\n",
    "data = [[1, 2, 3], [1, 2, 4], [1, 3, 3], [2, 1, 1], [2, 2, 1], [2, 3, 1], [2, 4, 1]]\n",
    "teacher = pd.DataFrame(data, columns=['teacher_id', 'subject_id', 'dept_id']).astype({'teacher_id':'Int64', 'subject_id':'Int64', 'dept_id':'Int64'})\n",
    "\n",
    "# calling the function and printing the result\n",
    "result = count_unique_subjects(teacher)\n",
    "print('Number of Unique Subjects taught by each Teacher')\n",
    "print(result)"
   ]
  },
  {
   "cell_type": "code",
   "execution_count": null,
   "id": "34843021",
   "metadata": {},
   "outputs": [],
   "source": []
  },
  {
   "cell_type": "code",
   "execution_count": null,
   "id": "06416822",
   "metadata": {},
   "outputs": [],
   "source": []
  }
 ],
 "metadata": {
  "kernelspec": {
   "display_name": "Python 3 (ipykernel)",
   "language": "python",
   "name": "python3"
  },
  "language_info": {
   "codemirror_mode": {
    "name": "ipython",
    "version": 3
   },
   "file_extension": ".py",
   "mimetype": "text/x-python",
   "name": "python",
   "nbconvert_exporter": "python",
   "pygments_lexer": "ipython3",
   "version": "3.10.9"
  }
 },
 "nbformat": 4,
 "nbformat_minor": 5
}
