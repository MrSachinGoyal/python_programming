{
 "cells": [
  {
   "cell_type": "markdown",
   "id": "43bc6802",
   "metadata": {},
   "source": [
    "# Question 1:\n",
    "- Implement a basic singly linked list with methods to insert a node at the beginning and print the list."
   ]
  },
  {
   "cell_type": "code",
   "execution_count": 86,
   "id": "2ef6a36d",
   "metadata": {},
   "outputs": [],
   "source": [
    "class Node:\n",
    "    \n",
    "    # initialize node\n",
    "    def __init__(self, value):\n",
    "        self.data = value\n",
    "        self.next = None"
   ]
  },
  {
   "cell_type": "code",
   "execution_count": 87,
   "id": "40b052a9",
   "metadata": {},
   "outputs": [],
   "source": [
    "class LinkedList:\n",
    "    \n",
    "    # initialize empty linked list\n",
    "    def __init__(self):\n",
    "        self.head = None\n",
    "        self.n = 0\n",
    "        \n",
    "    # length of linked list\n",
    "    def __len__(self):\n",
    "        return self.n\n",
    "    \n",
    "    \n",
    "    # insert node from head/beginning\n",
    "    def insert_head(self, value):\n",
    "        \n",
    "        # creating a new node\n",
    "        new_node = Node(value)\n",
    "        \n",
    "        # creating connection\n",
    "        new_node.next = self.head\n",
    "        \n",
    "        # reassignment for head node\n",
    "        self.head = new_node\n",
    "        \n",
    "        # incrementing length of linked list\n",
    "        self.n = self.n + 1\n",
    "    \n",
    "    # print the linked list\n",
    "    def __str__(self):\n",
    "        \n",
    "        curr = self.head\n",
    "        result = ''\n",
    "        \n",
    "        while curr != None:\n",
    "            result = result + str(curr.data) + '->'\n",
    "            curr = curr.next\n",
    "            \n",
    "        return result"
   ]
  },
  {
   "cell_type": "code",
   "execution_count": 88,
   "id": "4f590db4",
   "metadata": {},
   "outputs": [],
   "source": [
    "LL = LinkedList()"
   ]
  },
  {
   "cell_type": "code",
   "execution_count": 89,
   "id": "cedf89df",
   "metadata": {},
   "outputs": [],
   "source": [
    "LL.insert_head(10)\n",
    "LL.insert_head(20)\n",
    "LL.insert_head(30)\n",
    "LL.insert_head(40)"
   ]
  },
  {
   "cell_type": "code",
   "execution_count": 90,
   "id": "6bbf7d4f",
   "metadata": {},
   "outputs": [
    {
     "name": "stdout",
     "output_type": "stream",
     "text": [
      "linked list: 40->30->20->10->\n"
     ]
    }
   ],
   "source": [
    "print('linked list:', LL)"
   ]
  },
  {
   "cell_type": "code",
   "execution_count": 92,
   "id": "5fb7baa9",
   "metadata": {},
   "outputs": [
    {
     "data": {
      "text/plain": [
       "4"
      ]
     },
     "execution_count": 92,
     "metadata": {},
     "output_type": "execute_result"
    }
   ],
   "source": [
    "len(LL)"
   ]
  },
  {
   "cell_type": "markdown",
   "id": "f140d628",
   "metadata": {},
   "source": [
    "# Question 2: \n",
    "- Reverse a singly linked list."
   ]
  },
  {
   "cell_type": "code",
   "execution_count": 68,
   "id": "19bdba20",
   "metadata": {},
   "outputs": [],
   "source": [
    "class LinkedList:\n",
    "    \n",
    "    # initialize empty linked list\n",
    "    def __init__(self):\n",
    "        self.head = None\n",
    "        self.n = 0\n",
    "        \n",
    "    # length of linked list\n",
    "    def __len__(self):\n",
    "        return self.n\n",
    "    \n",
    "    \n",
    "    # insert node from head/beginning\n",
    "    def insert_head(self, value):\n",
    "        \n",
    "        new_node = Node(value)\n",
    "        new_node.next = self.head\n",
    "        self.head = new_node\n",
    "        \n",
    "        self.n = self.n + 1\n",
    "    \n",
    "    # print the linked list\n",
    "    def __str__(self):\n",
    "        \n",
    "        curr = self.head\n",
    "        result = ''\n",
    "        \n",
    "        while curr != None:\n",
    "            result = result + str(curr.data) + '->'\n",
    "            curr = curr.next\n",
    "            \n",
    "        return result\n",
    "    \n",
    "    # to reverse the linked list\n",
    "    def reverse_linked_list(self):\n",
    "        \n",
    "        previous_node = None\n",
    "        curr_node = self.head\n",
    "        \n",
    "        while curr_node != None:\n",
    "            next_node = curr_node.next # to traverse through linked list, saving the address of next node\n",
    "            curr_node.next = previous_node # current node address will start pointing to previous node\n",
    "            \n",
    "            # updating values for next iteration\n",
    "            previous_node = curr_node \n",
    "            curr_node = next_node \n",
    "            \n",
    "        self.head = previous_node"
   ]
  },
  {
   "cell_type": "code",
   "execution_count": 69,
   "id": "1f719811",
   "metadata": {},
   "outputs": [],
   "source": [
    "LL = LinkedList()"
   ]
  },
  {
   "cell_type": "code",
   "execution_count": 70,
   "id": "29cebe1b",
   "metadata": {},
   "outputs": [],
   "source": [
    "LL.insert_head(10)\n",
    "LL.insert_head(20)\n",
    "LL.insert_head(30)\n",
    "LL.insert_head(40)"
   ]
  },
  {
   "cell_type": "code",
   "execution_count": 71,
   "id": "1b55a0f5",
   "metadata": {},
   "outputs": [],
   "source": [
    "LL.reverse_linked_list()"
   ]
  },
  {
   "cell_type": "code",
   "execution_count": 72,
   "id": "837ee9d0",
   "metadata": {},
   "outputs": [
    {
     "name": "stdout",
     "output_type": "stream",
     "text": [
      "reversed linked list: 10->20->30->40->\n"
     ]
    }
   ],
   "source": [
    "print('reversed linked list:', LL)"
   ]
  },
  {
   "cell_type": "markdown",
   "id": "912454db",
   "metadata": {},
   "source": [
    "# Question 3: Merge Two Sorted Linked Lists\n",
    "- Merge two sorted linked lists into a single sorted linked list."
   ]
  },
  {
   "cell_type": "markdown",
   "id": "445769c9",
   "metadata": {},
   "source": [
    "# Question 4\n",
    "- Given a linked list, remove the n-th node from the end of the list and return its head."
   ]
  },
  {
   "cell_type": "code",
   "execution_count": null,
   "id": "10e144ea",
   "metadata": {},
   "outputs": [],
   "source": []
  },
  {
   "cell_type": "code",
   "execution_count": null,
   "id": "317aca78",
   "metadata": {},
   "outputs": [],
   "source": []
  },
  {
   "cell_type": "code",
   "execution_count": null,
   "id": "178c31d2",
   "metadata": {},
   "outputs": [],
   "source": []
  },
  {
   "cell_type": "code",
   "execution_count": null,
   "id": "6a844045",
   "metadata": {},
   "outputs": [],
   "source": []
  },
  {
   "cell_type": "code",
   "execution_count": null,
   "id": "de24d88f",
   "metadata": {},
   "outputs": [],
   "source": []
  },
  {
   "cell_type": "code",
   "execution_count": null,
   "id": "f401aafc",
   "metadata": {},
   "outputs": [],
   "source": []
  },
  {
   "cell_type": "code",
   "execution_count": null,
   "id": "819b27d4",
   "metadata": {},
   "outputs": [],
   "source": []
  }
 ],
 "metadata": {
  "kernelspec": {
   "display_name": "Python 3 (ipykernel)",
   "language": "python",
   "name": "python3"
  },
  "language_info": {
   "codemirror_mode": {
    "name": "ipython",
    "version": 3
   },
   "file_extension": ".py",
   "mimetype": "text/x-python",
   "name": "python",
   "nbconvert_exporter": "python",
   "pygments_lexer": "ipython3",
   "version": "3.10.9"
  }
 },
 "nbformat": 4,
 "nbformat_minor": 5
}
