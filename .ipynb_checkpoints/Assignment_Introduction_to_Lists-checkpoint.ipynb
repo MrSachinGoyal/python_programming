{
 "cells": [
  {
   "cell_type": "markdown",
   "metadata": {
    "id": "t4O7WDUFjkFq"
   },
   "source": [
    "## <u>While doing this assignment only use those concepts which have been taught till now</u>"
   ]
  },
  {
   "cell_type": "markdown",
   "metadata": {
    "id": "KB9ZI2xAjkF6"
   },
   "source": [
    "## <u>Problem 1</u>\n",
    "\n",
    "A list contains the average daily temperature(in degree Celsius) of a city over a particular week. Write a Python code to swap the highest and the lowest temperatures"
   ]
  },
  {
   "cell_type": "code",
   "execution_count": null,
   "metadata": {
    "id": "O3ZtUcxsjkF7"
   },
   "outputs": [],
   "source": [
    "# A list containing average daily temperature over a week\n",
    "temperatures = [34, 40, 29, 33, 42, 37, 39 ]\n",
    "\n",
    "# The expected output\n",
    "# output_temperatures = [34, 40, 42, 33, 29, 37, 39]"
   ]
  },
  {
   "cell_type": "code",
   "execution_count": null,
   "metadata": {
    "id": "HRFHv7OXjkGR"
   },
   "outputs": [],
   "source": [
    "# Store the highest temperature\n",
    "max_temp =\n",
    "\n",
    "# Index of the element with the highest temperature\n",
    "max_temp_index ="
   ]
  },
  {
   "cell_type": "code",
   "execution_count": null,
   "metadata": {
    "id": "8lsfVKbcjkGW"
   },
   "outputs": [],
   "source": [
    "# Store the lowest temperature\n",
    "min_temp =\n",
    "\n",
    "# Index of the element with the lowest temperature\n",
    "min_temp_index ="
   ]
  },
  {
   "cell_type": "code",
   "execution_count": null,
   "metadata": {
    "id": "W8UkX2IHjkGc"
   },
   "outputs": [],
   "source": [
    "# Swap the highest and the lowest temperatures\n",
    "\n"
   ]
  },
  {
   "cell_type": "code",
   "execution_count": null,
   "metadata": {
    "id": "2UpeOQ7qjkGg"
   },
   "outputs": [],
   "source": [
    "# Print the output list\n"
   ]
  },
  {
   "cell_type": "markdown",
   "metadata": {
    "id": "zxqe73yrjkGi"
   },
   "source": [
    "\n",
    "## <u>Problem 2 </u>\n",
    "\n",
    "### Measures of Averages\n",
    "\n",
    "* Mean of a group is defined as the sum of the elements in the group divided by the number of elements in the group.\n",
    "* Median is the middle number in a <b>sorted</b>, ascending or descending, list of numbers. If the list has $N$ numbers where $N$ is odd, then median is the element in the middle i.e, $(\\frac{N+1}{2})^{th}$ element. If $N$ is even, then median is the mean of $(\\frac{N}{2})^{th}$ and $(\\frac{N}{2}+1)^{th}$ elements"
   ]
  },
  {
   "cell_type": "code",
   "execution_count": null,
   "metadata": {
    "id": "TNWp2uyVjkGi"
   },
   "outputs": [],
   "source": [
    "# List of product prices\n",
    "\n",
    "prod_price_list = [400, 250, 800, 550, 600, 820, 720, 15000, 360,250]"
   ]
  },
  {
   "cell_type": "code",
   "execution_count": null,
   "metadata": {
    "id": "KwenpH43jkGm"
   },
   "outputs": [],
   "source": [
    "# Calculate the mean of the product prices. Use list functions. Also print the mean_price\n",
    "mean_price ="
   ]
  },
  {
   "cell_type": "markdown",
   "metadata": {
    "id": "gTojysiqjkGr"
   },
   "source": [
    "### Calculate the median price"
   ]
  },
  {
   "cell_type": "code",
   "execution_count": null,
   "metadata": {
    "id": "5SBpWBGEjkGr"
   },
   "outputs": [],
   "source": [
    "# Step 1 - Obtain the sorted list. Print the sorted_prices\n",
    "sorted_prices ="
   ]
  },
  {
   "cell_type": "code",
   "execution_count": null,
   "metadata": {
    "id": "29eoJETXjkGu"
   },
   "outputs": [],
   "source": [
    "# Check if the number of elements in the list is even or odd\n"
   ]
  },
  {
   "cell_type": "code",
   "execution_count": null,
   "metadata": {
    "id": "RiafM7R_jkGy"
   },
   "outputs": [],
   "source": [
    "# Use the corresponding formula to calculate the median and print the median\n",
    "median_price ="
   ]
  },
  {
   "cell_type": "code",
   "execution_count": null,
   "metadata": {
    "id": "brysk47ojkG0"
   },
   "outputs": [],
   "source": [
    "# Check which is greater, mean or median\n"
   ]
  },
  {
   "cell_type": "markdown",
   "metadata": {
    "id": "jB0y0UdbjkG3"
   },
   "source": [
    "### Why do you think that is the case??"
   ]
  },
  {
   "cell_type": "markdown",
   "metadata": {
    "id": "_JguWGM_-_ST"
   },
   "source": [
    "### <u>Write your explanation in this text cell</u>\n",
    "\n",
    "Your explanation :  "
   ]
  },
  {
   "cell_type": "markdown",
   "metadata": {
    "id": "J3x3tmzTjkG3"
   },
   "source": [
    "## <u> Problem 3 </u>\n",
    "\n",
    "Having a nested list sometimes might be a bit problematic. An individual was asked to collect the names of companies in the technology sector. While creating the list, by mistake the last three companies were subsumed in a list as shown below. You are required to get rid of the nesting"
   ]
  },
  {
   "cell_type": "code",
   "execution_count": null,
   "metadata": {
    "id": "6IbY26WqjkG4"
   },
   "outputs": [],
   "source": [
    "# The list of tech companies curated by the individual\n",
    "tech_companies = ['Qualcomm','Google','Apple',['Nvidia','Cisco','Samsung']]\n",
    "\n",
    "# The final list that we want\n",
    "# correct_tech_companies = ['Qualcomm','Google','Apple','Nvidia','Cisco','Samsung']"
   ]
  },
  {
   "cell_type": "code",
   "execution_count": null,
   "metadata": {
    "id": "anVH03bTjkG7"
   },
   "outputs": [],
   "source": [
    "# Write your code below\n"
   ]
  },
  {
   "cell_type": "code",
   "execution_count": null,
   "metadata": {
    "id": "BsVsotOGjkG_"
   },
   "outputs": [],
   "source": [
    "# Do the same task another way\n"
   ]
  }
 ],
 "metadata": {
  "colab": {
   "provenance": []
  },
  "kernelspec": {
   "display_name": "Python 3 (ipykernel)",
   "language": "python",
   "name": "python3"
  },
  "language_info": {
   "codemirror_mode": {
    "name": "ipython",
    "version": 3
   },
   "file_extension": ".py",
   "mimetype": "text/x-python",
   "name": "python",
   "nbconvert_exporter": "python",
   "pygments_lexer": "ipython3",
   "version": "3.10.9"
  }
 },
 "nbformat": 4,
 "nbformat_minor": 1
}
