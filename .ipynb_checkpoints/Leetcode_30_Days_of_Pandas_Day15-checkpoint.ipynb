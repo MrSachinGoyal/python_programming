{
 "cells": [
  {
   "cell_type": "code",
   "execution_count": 1,
   "id": "3d45fb68",
   "metadata": {},
   "outputs": [],
   "source": [
    "# import necessary libraries\n",
    "import pandas as pd"
   ]
  },
  {
   "cell_type": "markdown",
   "id": "fe647da7",
   "metadata": {},
   "source": [
    "Question: Write a solution to find the first login date for each player. Return the result table in any order."
   ]
  },
  {
   "cell_type": "code",
   "execution_count": 17,
   "id": "f3c76259",
   "metadata": {},
   "outputs": [
    {
     "name": "stdout",
     "output_type": "stream",
     "text": [
      "First Login date for each Player\n",
      "   player_id first_login\n",
      "0          1  2016-03-01\n",
      "1          2  2017-06-25\n",
      "2          3  2016-03-02\n"
     ]
    }
   ],
   "source": [
    "# function definition\n",
    "def game_analysis(activity: pd.DataFrame) -> pd.DataFrame:\n",
    "    \n",
    "    # grouping the dafaframe by player_id and finding first login date using min() function\n",
    "    first_login = activity.groupby('player_id')['event_date'].min().reset_index()\n",
    "    \n",
    "    # renaming the column\n",
    "    result_df = first_login.rename(columns={'event_date':'first_login'})\n",
    "    \n",
    "    return result_df\n",
    "\n",
    "# preparing the dataframe\n",
    "data = [[1, 2, '2016-03-01', 5], \n",
    "        [1, 2, '2016-05-02', 6], \n",
    "        [2, 3, '2017-06-25', 1], \n",
    "        [3, 1, '2016-03-02', 0], \n",
    "        [3, 4, '2018-07-03', 5]]\n",
    "\n",
    "activity = pd.DataFrame(data, columns=['player_id', 'device_id', 'event_date', 'games_played']).astype({'player_id':'Int64', 'device_id':'Int64', 'event_date':'datetime64[ns]', 'games_played':'Int64'})\n",
    "\n",
    "# calling the function and printing the result\n",
    "result = game_analysis(activity)\n",
    "print(\"First Login date for each Player\")\n",
    "print(result)"
   ]
  },
  {
   "cell_type": "code",
   "execution_count": null,
   "id": "e36a8fe9",
   "metadata": {},
   "outputs": [],
   "source": []
  }
 ],
 "metadata": {
  "kernelspec": {
   "display_name": "Python 3 (ipykernel)",
   "language": "python",
   "name": "python3"
  },
  "language_info": {
   "codemirror_mode": {
    "name": "ipython",
    "version": 3
   },
   "file_extension": ".py",
   "mimetype": "text/x-python",
   "name": "python",
   "nbconvert_exporter": "python",
   "pygments_lexer": "ipython3",
   "version": "3.10.9"
  }
 },
 "nbformat": 4,
 "nbformat_minor": 5
}
