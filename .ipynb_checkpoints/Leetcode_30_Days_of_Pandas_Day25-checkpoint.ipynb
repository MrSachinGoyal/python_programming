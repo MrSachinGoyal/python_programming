{
 "cells": [
  {
   "cell_type": "code",
   "execution_count": 37,
   "id": "11c98524",
   "metadata": {},
   "outputs": [],
   "source": [
    "# importing necessary libraries\n",
    "import pandas as pd\n",
    "import numpy as np"
   ]
  },
  {
   "cell_type": "markdown",
   "id": "1eabddb9",
   "metadata": {},
   "source": [
    "Question: Write a solution to find the names of all the salespersons who did not have any orders related to the company with the name \"RED\".\n",
    "Return the result table in any order."
   ]
  },
  {
   "cell_type": "code",
   "execution_count": 47,
   "id": "b7cfc2a0",
   "metadata": {},
   "outputs": [],
   "source": [
    "def sales_person(sales_person: pd.DataFrame, company: pd.DataFrame, orders: pd.DataFrame) -> pd.DataFrame:\n",
    "    \n",
    "    # merging three dataframes - sales_person, company and orders to find sales_person responsible for particular company sales order\n",
    "    merged_df = company.merge(orders, how='inner', on='com_id').merge(sales_person, how='right', on='sales_id', suffixes=['_company', '_salesperson'])\n",
    "    \n",
    "    # extract sales_person belong to company RED\n",
    "    red_salesmen = merged_df[merged_df['name_company'] == 'RED']['name_salesperson'].unique()\n",
    "    \n",
    "    # Identify sales_person who do not work for company RED\n",
    "    non_red_salesperson = sales_person[~np.isin(sales_person['name'], red_salesmen)]['name']\n",
    "    \n",
    "    return pd.DataFrame({'name': non_red_salesperson})\n",
    "\n",
    "# preparing the dataframe\n",
    "data = [[1, 'John', 100000, 6, '4/1/2006'], \n",
    "        [2, 'Amy', 12000, 5, '5/1/2010'], \n",
    "        [3, 'Mark', 65000, 12, '12/25/2008'], \n",
    "        [4, 'Pam', 25000, 25, '1/1/2005'], \n",
    "        [5, 'Alex', 5000, 10, '2/3/2007']]\n",
    "\n",
    "SalesPerson = pd.DataFrame(data, columns=['sales_id', 'name', 'salary', 'commission_rate', 'hire_date']).astype({'sales_id':'Int64', 'name':'object', 'salary':'Int64', 'commission_rate':'Int64', 'hire_date':'datetime64[ns]'})\n",
    "\n",
    "data = [[1, 'RED', 'Boston'], \n",
    "        [2, 'ORANGE', 'New York'], \n",
    "        [3, 'YELLOW', 'Boston'], \n",
    "        [4, 'GREEN', 'Austin']]\n",
    "\n",
    "Company = pd.DataFrame(data, columns=['com_id', 'name', 'city']).astype({'com_id':'Int64', 'name':'object', 'city':'object'})\n",
    "\n",
    "data = [[1, '1/1/2014', 3, 4, 10000], \n",
    "        [2, '2/1/2014', 4, 5, 5000], \n",
    "        [3, '3/1/2014', 1, 1, 50000], \n",
    "        [4, '4/1/2014', 1, 4, 25000]]\n",
    "\n",
    "Orders = pd.DataFrame(data, columns=['order_id', 'order_date', 'com_id', 'sales_id', 'amount']).astype({'order_id':'Int64', 'order_date':'datetime64[ns]', 'com_id':'Int64', 'sales_id':'Int64', 'amount':'Int64'})"
   ]
  },
  {
   "cell_type": "code",
   "execution_count": 51,
   "id": "0289f79e",
   "metadata": {},
   "outputs": [
    {
     "name": "stdout",
     "output_type": "stream",
     "text": [
      "   name\n",
      "1   Amy\n",
      "2  Mark\n",
      "4  Alex\n"
     ]
    }
   ],
   "source": [
    "# calling the function and printing the result\n",
    "result = sales_person(SalesPerson, Company, Orders)\n",
    "print(result)"
   ]
  },
  {
   "cell_type": "code",
   "execution_count": null,
   "id": "e3d513b9",
   "metadata": {},
   "outputs": [],
   "source": []
  },
  {
   "cell_type": "code",
   "execution_count": null,
   "id": "ea7c7e40",
   "metadata": {},
   "outputs": [],
   "source": []
  }
 ],
 "metadata": {
  "kernelspec": {
   "display_name": "Python 3 (ipykernel)",
   "language": "python",
   "name": "python3"
  },
  "language_info": {
   "codemirror_mode": {
    "name": "ipython",
    "version": 3
   },
   "file_extension": ".py",
   "mimetype": "text/x-python",
   "name": "python",
   "nbconvert_exporter": "python",
   "pygments_lexer": "ipython3",
   "version": "3.10.9"
  }
 },
 "nbformat": 4,
 "nbformat_minor": 5
}
