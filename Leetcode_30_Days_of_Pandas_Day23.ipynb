{
 "cells": [
  {
   "cell_type": "code",
   "execution_count": 2,
   "id": "e221a727",
   "metadata": {},
   "outputs": [],
   "source": [
    "# import necessary libraries\n",
    "import pandas as pd"
   ]
  },
  {
   "cell_type": "markdown",
   "id": "15a1c6e4",
   "metadata": {},
   "source": [
    "Question: Write a solution to find for each date the number of different products sold and their names.\n",
    "The sold products names for each date should be sorted lexicographically.\n",
    "\n",
    "Return the result table ordered by sell_date."
   ]
  },
  {
   "cell_type": "code",
   "execution_count": 153,
   "id": "b6526656",
   "metadata": {},
   "outputs": [
    {
     "name": "stdout",
     "output_type": "stream",
     "text": [
      "Number of different Products sold on specific Date\n",
      "   sell_date  num_sold                      products\n",
      "0 2020-05-30         3  Basketball,Headphone,T-Shirt\n",
      "1 2020-06-01         2                  Bible,Pencil\n",
      "2 2020-06-02         1                          Mask\n"
     ]
    }
   ],
   "source": [
    "import pandas as pd\n",
    "\n",
    "# function definition\n",
    "def categorize_products(activities: pd.DataFrame) -> pd.DataFrame:\n",
    "    \n",
    "    # finding different products sold on each date\n",
    "    result_df = activities.groupby('sell_date')['product'].unique().reset_index()\n",
    "    \n",
    "    # adding new column 'products'\n",
    "    result_df['products'] = result_df['product'].apply(lambda x: ','.join(sorted(x)))\n",
    "    \n",
    "    # calculating number of unique products on each date\n",
    "    result_df['num_sold'] = result_df['product'].apply(len)\n",
    "    \n",
    "    # sorting the dataframe in ascending order based on column 'sell_date'\n",
    "    result_df = result_df.drop(columns=['product']).sort_values(by='sell_date').reset_index(drop=True)[['sell_date', 'num_sold', 'products']]\n",
    "\n",
    "    return result_df\n",
    "\n",
    "    \n",
    "# preparing the dataframe\n",
    "data = [['2020-05-30', 'Headphone'], ['2020-06-01', 'Pencil'], ['2020-06-02', 'Mask'], ['2020-05-30', 'Basketball'], ['2020-06-01', 'Bible'], ['2020-06-02', 'Mask'], ['2020-05-30', 'T-Shirt']]\n",
    "activities = pd.DataFrame(data, columns=['sell_date', 'product']).astype({'sell_date':'datetime64[ns]', 'product':'object'})\n",
    "\n",
    "\n",
    "# calling the function and printing the result\n",
    "result = categorize_products(activities)\n",
    "print(\"Number of different Products sold on specific Date\")\n",
    "print(result)\n"
   ]
  },
  {
   "cell_type": "code",
   "execution_count": null,
   "id": "f1cd2071",
   "metadata": {},
   "outputs": [],
   "source": []
  },
  {
   "cell_type": "code",
   "execution_count": null,
   "id": "dc7118b9",
   "metadata": {},
   "outputs": [],
   "source": []
  }
 ],
 "metadata": {
  "kernelspec": {
   "display_name": "Python 3 (ipykernel)",
   "language": "python",
   "name": "python3"
  },
  "language_info": {
   "codemirror_mode": {
    "name": "ipython",
    "version": 3
   },
   "file_extension": ".py",
   "mimetype": "text/x-python",
   "name": "python",
   "nbconvert_exporter": "python",
   "pygments_lexer": "ipython3",
   "version": "3.10.9"
  }
 },
 "nbformat": 4,
 "nbformat_minor": 5
}
