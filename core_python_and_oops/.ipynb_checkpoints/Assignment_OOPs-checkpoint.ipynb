{
 "cells": [
  {
   "cell_type": "markdown",
   "metadata": {
    "id": "77zLnpaNvNSp"
   },
   "source": [
    "# <u> Problem 1</u>\n",
    "\n",
    "### Create a class <code>Cylinder</code> which takes two attributes <code>radius</code> and <code>height</code>.\n",
    "\n",
    "### Create the following methods in this class:\n",
    "\n",
    "* ### method <code>volume()</code> which calculates the volume of the cyinder which is defined as $V  = \\pi r^2 h$\n",
    "\n",
    "* ### method <code>surface_area()</code> which calculates the area of the cyinder which is defined as $S  = 2\\pi r h$. Assume this is an open cylinder\n"
   ]
  },
  {
   "cell_type": "code",
   "execution_count": 2,
   "metadata": {
    "id": "-cWkCZ5OzX0G"
   },
   "outputs": [],
   "source": [
    "# Write your code below. Take pi as 3.14\n",
    "class Cylinder:\n",
    "    \n",
    "    # initialising the constructor\n",
    "    def __init__(self, radius, height):\n",
    "        self.radius = radius\n",
    "        self.height = height\n",
    "        \n",
    "    # volume method    \n",
    "    def calculate_volume(self, pi=3.14):\n",
    "        return (pi * (self.radius**2) * self.height)\n",
    "    \n",
    "    # surface area method\n",
    "    def calculate_surface_area(self, pi=3.14):\n",
    "        return (2 * pi*self.radius * self.height)"
   ]
  },
  {
   "cell_type": "code",
   "execution_count": 3,
   "metadata": {
    "id": "tgS3mhN-18b_"
   },
   "outputs": [],
   "source": [
    "# Check for sample inputs\n",
    "cylinder_1 = Cylinder(8, 9.8)"
   ]
  },
  {
   "cell_type": "code",
   "execution_count": 8,
   "metadata": {},
   "outputs": [
    {
     "name": "stdout",
     "output_type": "stream",
     "text": [
      "Volume of cylinder: 1969.4080000000001\n"
     ]
    }
   ],
   "source": [
    "# calculating volume of cylinder object\n",
    "print(\"Volume of cylinder:\", cylinder_1.calculate_volume())"
   ]
  },
  {
   "cell_type": "code",
   "execution_count": 10,
   "metadata": {},
   "outputs": [
    {
     "name": "stdout",
     "output_type": "stream",
     "text": [
      "Surface area of cylinder: 492.35200000000003\n"
     ]
    }
   ],
   "source": [
    "# calculating surface area of cylinder object\n",
    "print(\"Surface area of cylinder:\", cylinder_1.calculate_surface_area())"
   ]
  },
  {
   "cell_type": "markdown",
   "metadata": {
    "id": "KjPWYK0Rs8By"
   },
   "source": [
    "## <u>Problem 2</u>\n",
    "\n",
    "### You started your own money wallet where your customers can create their accounts and they can either deposit or withdraw money from this wallet.\n",
    "\n",
    "### Write a Python class <code>BankAccount</code> which takes the balance as an attribute. You can initialize the balance with 0 because any new account will have 0 rupees in their wallet. Next write two methods for your class :\n",
    "\n",
    "* #### <code>withdraw()</code> method which takes the amount to be withdrawn as an argument and returns the balance after the withdrawal\n",
    "\n",
    "* #### <code>deposit()</code> method which takes the amount to be deposited as an argument and returns the balance after the deposit.\n",
    "\n",
    "### Keep in mind that if the balance to be withdrawn exceeds the current balance, it should display a message that \"Not enough balance in your account\"\n"
   ]
  },
  {
   "cell_type": "code",
   "execution_count": 29,
   "metadata": {
    "id": "RxVZTrenzfHC"
   },
   "outputs": [],
   "source": [
    "# Write your BankAccount class below\n",
    "\n",
    "class BankAccount:\n",
    "    \n",
    "    # initialising the constructor\n",
    "    def __init__(self):\n",
    "        self.balance = 0\n",
    "    \n",
    "    # deposit method\n",
    "    def deposit(self, balance):\n",
    "        self.balance = self.balance + balance\n",
    "        return f\"Your current balance is {self.balance}\"\n",
    "        \n",
    "    # withdraw method    \n",
    "    def withdraw(self, withdrawl_amount):\n",
    "        if self.balance > withdrawl_amount:\n",
    "            self.balance = self.balance - withdrawl_amount\n",
    "            return f\"Your available balance is {self.balance}\"\n",
    "        else:\n",
    "            return \"Not enough balance in your account\""
   ]
  },
  {
   "cell_type": "code",
   "execution_count": 30,
   "metadata": {
    "id": "N1Yhpkiws8B3"
   },
   "outputs": [],
   "source": [
    "# Create two instances of this class for two customers\n",
    "\n",
    "customer_1 = BankAccount()\n",
    "customer_2 = BankAccount()"
   ]
  },
  {
   "cell_type": "markdown",
   "metadata": {
    "id": "mSTxPcO3fWeX"
   },
   "source": [
    "### Next add some amount and withdraw some another amount for both the customers."
   ]
  },
  {
   "cell_type": "code",
   "execution_count": 31,
   "metadata": {
    "id": "KpMdlB5Fs8B8"
   },
   "outputs": [
    {
     "data": {
      "text/plain": [
       "'Your current balance is 5000'"
      ]
     },
     "execution_count": 31,
     "metadata": {},
     "output_type": "execute_result"
    }
   ],
   "source": [
    "# Deposit some amount and withdrawing some amount from the two accounts and check if your method works fine\n",
    "customer_1.deposit(5000)"
   ]
  },
  {
   "cell_type": "code",
   "execution_count": 32,
   "metadata": {},
   "outputs": [
    {
     "data": {
      "text/plain": [
       "'Not enough balance in your account'"
      ]
     },
     "execution_count": 32,
     "metadata": {},
     "output_type": "execute_result"
    }
   ],
   "source": [
    "customer_1.withdraw(10000)"
   ]
  },
  {
   "cell_type": "code",
   "execution_count": 33,
   "metadata": {},
   "outputs": [
    {
     "data": {
      "text/plain": [
       "'Your current balance is 10000'"
      ]
     },
     "execution_count": 33,
     "metadata": {},
     "output_type": "execute_result"
    }
   ],
   "source": [
    "customer_2.deposit(10000)"
   ]
  },
  {
   "cell_type": "code",
   "execution_count": 34,
   "metadata": {},
   "outputs": [
    {
     "data": {
      "text/plain": [
       "'Your available balance is 2000'"
      ]
     },
     "execution_count": 34,
     "metadata": {},
     "output_type": "execute_result"
    }
   ],
   "source": [
    "customer_2.withdraw(8000)"
   ]
  },
  {
   "cell_type": "markdown",
   "metadata": {
    "id": "5qd8g8UUs8CM"
   },
   "source": [
    "## <u>Problem 3 </u>\n",
    "\n",
    "### Create a class <code>Time </code> which takes two inputs hours and minutes to instantiate.\n",
    "*  #### Construct a method <code>DisplayTime()</code> which displays the time in AM/PM formats. For example if the input is 14 hours and 45 mins, then this method will print \"The time is 2:45 PM\". If the inputted hours exceeds 23 then print the message \"The input hours should be less than 24\" and if the inputted minutes exceeds 59 then print the message \"The input minutes should be less than 60.\" Also if the input is 12 hours 30 minutes, then the displayed time would be 12:30 PM\n",
    "* #### Construct a method <code>DisplayRatio()</code> which should display the ratio of minutes to hours. For example, (8 hours and  16 mins) should display 2. Use <code>try</code>, <code>except</code> block to account for ZeroDivisionError."
   ]
  },
  {
   "cell_type": "code",
   "execution_count": 69,
   "metadata": {
    "id": "FBJy9Sq_s8CN"
   },
   "outputs": [],
   "source": [
    "class Time:\n",
    "    \n",
    "    # initialising the constructor\n",
    "    def __init__(self, hours, minutes):\n",
    "        self.hours = hours\n",
    "        self.minutes = minutes\n",
    "        \n",
    "    # method DisplayTime\n",
    "    def DisplayTime(self):\n",
    "        if self.hours > 23:\n",
    "            msg1 = \"The input hours should be less than 24\"\n",
    "            return msg1\n",
    "            \n",
    "        elif self.minutes > 59:\n",
    "            msg2 = \"The input minutes should be less than 60\"\n",
    "            return msg2\n",
    "            \n",
    "        elif (self.hours >= 0 and self.hours < 12):\n",
    "            return f\"{self.hours}:{self.minutes} AM\"\n",
    "        \n",
    "        elif self.hours == 12:\n",
    "            return f\"{self.hours}:{self.minutes} PM\"\n",
    "            \n",
    "        else: # (self.hours > 12 and self.hours <= 23):\n",
    "            return f\"{self.hours-12}:{self.minutes} PM\"\n",
    "            \n",
    "    # method Display Ratio\n",
    "    def DisplayRatio(self):\n",
    "        try:\n",
    "            ratio = self.minutes/self.hours\n",
    "            \n",
    "        except ZeroDivisionError as error:\n",
    "            return f\"ZeroDivisionError occured\"\n",
    "                \n",
    "        else:\n",
    "            return ratio"
   ]
  },
  {
   "cell_type": "code",
   "execution_count": 70,
   "metadata": {
    "id": "zywXa51d6Eev"
   },
   "outputs": [
    {
     "name": "stdout",
     "output_type": "stream",
     "text": [
      "list element: 1\n",
      "11:45 PM\n",
      "Ratio of minutes to hours is: 1.9565217391304348\n",
      "*************\n",
      "list element: 2\n",
      "The input hours should be less than 24\n",
      "Ratio of minutes to hours is: 1.4705882352941178\n",
      "*************\n",
      "list element: 3\n",
      "12:34 PM\n",
      "Ratio of minutes to hours is: 2.8333333333333335\n",
      "*************\n",
      "list element: 4\n",
      "The input minutes should be less than 60\n",
      "Ratio of minutes to hours is: 4.785714285714286\n",
      "*************\n",
      "list element: 5\n",
      "7:20 PM\n",
      "Ratio of minutes to hours is: 1.0526315789473684\n",
      "*************\n",
      "list element: 6\n",
      "2:15 AM\n",
      "Ratio of minutes to hours is: 7.5\n",
      "*************\n",
      "list element: 7\n",
      "0:10 AM\n",
      "Ratio of minutes to hours is: ZeroDivisionError occured\n",
      "*************\n"
     ]
    }
   ],
   "source": [
    "# Check for few sample inputs of hours and mins\n",
    "hour_min_list = [(23,45), (34,50), (12,34), (14,67),(19,20), (2,15), (0, 10)]\n",
    "\n",
    "# Using a for loop display the corresponding 12 hour time format for the above hour_min_list and also display the \n",
    "# corresponding ratios for the above list\n",
    "\n",
    "# initialising element number for elements present in the hour_min_list\n",
    "hour_min_list_element = 1\n",
    "\n",
    "for hours, minutes in hour_min_list:\n",
    "    time = Time(hours, minutes)\n",
    "    print(\"list element:\", hour_min_list_element) # printing element number\n",
    "    print(time.DisplayTime())\n",
    "    print(\"Ratio of minutes to hours is:\", time.DisplayRatio())\n",
    "    print(\"*************\")\n",
    "        \n",
    "    # incrementing element number for further iterations\n",
    "    hour_min_list_element += 1"
   ]
  },
  {
   "cell_type": "code",
   "execution_count": null,
   "metadata": {
    "id": "mgcu1_SAjAqF"
   },
   "outputs": [],
   "source": []
  }
 ],
 "metadata": {
  "colab": {
   "provenance": []
  },
  "kernelspec": {
   "display_name": "Python 3 (ipykernel)",
   "language": "python",
   "name": "python3"
  },
  "language_info": {
   "codemirror_mode": {
    "name": "ipython",
    "version": 3
   },
   "file_extension": ".py",
   "mimetype": "text/x-python",
   "name": "python",
   "nbconvert_exporter": "python",
   "pygments_lexer": "ipython3",
   "version": "3.10.9"
  }
 },
 "nbformat": 4,
 "nbformat_minor": 1
}
