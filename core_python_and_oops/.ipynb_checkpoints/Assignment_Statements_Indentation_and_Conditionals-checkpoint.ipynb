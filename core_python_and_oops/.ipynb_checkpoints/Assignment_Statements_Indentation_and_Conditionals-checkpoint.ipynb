{
 "cells": [
  {
   "cell_type": "markdown",
   "metadata": {
    "id": "KjPWYK0Rs8By"
   },
   "source": [
    "## <u>Problem 1</u>\n",
    "\n",
    "### As an analyst, you had to present the quarterly performance results of your client. The data which you were provided was on daily basis. To complete this task, you needed to extract the quarter from a given date. For example:\n",
    "\n",
    "* if the date lies between 1st Jan, 2020 - 31st March, 2020, you need to extract the corresponding quarter as '2020-Q1'\n",
    "\n",
    "* if the date lies between 1st April, 2020 - 30th June, 2020, the extracted quarter will be '2020-Q2'\n",
    "\n",
    "* if the date lies between 1st July, 2020 - 30th September, 2020, the extracted quarter will be '2020-Q3'\n",
    "\n",
    "* if the date lies between 1st October, 2020 - 31st Decemeber, 2020 then the extracted quarter will be '2020-Q4'\n"
   ]
  },
  {
   "cell_type": "code",
   "execution_count": 17,
   "metadata": {
    "id": "RxVZTrenzfHC"
   },
   "outputs": [
    {
     "name": "stdout",
     "output_type": "stream",
     "text": [
      "2023-10-26\n"
     ]
    }
   ],
   "source": [
    "# Take a proper date input from the user in the format YYYY-MM-DD. Consider this date as a string\n",
    "user_date = input()"
   ]
  },
  {
   "cell_type": "code",
   "execution_count": 21,
   "metadata": {
    "id": "N1Yhpkiws8B3"
   },
   "outputs": [
    {
     "name": "stdout",
     "output_type": "stream",
     "text": [
      "year : 2023\n",
      "month : 10\n"
     ]
    }
   ],
   "source": [
    "# Write your code using if else statements to extract the quarter\n",
    "date_year = int(user_date.split('-')[0])\n",
    "date_month = int(user_date.split('-')[1])\n",
    "\n",
    "print('year :', date_year)\n",
    "print('month :', date_month)\n",
    "\n",
    "if date_month >= 1 and date_month <= 3:\n",
    "    quarter = \"Q1\"   \n",
    "elif date_month >= 4 and date_month <= 6:\n",
    "    quarter = \"Q2\"\n",
    "elif date_month >= 7 and  date_month <= 9:\n",
    "    quarter = \"Q3\"\n",
    "else:\n",
    "    quarter = \"Q4\"\n",
    "\n",
    "# Store the quarter value in a string variable named quarter\n",
    "quarter = str(date_year) + \"-\" + quarter "
   ]
  },
  {
   "cell_type": "code",
   "execution_count": 22,
   "metadata": {
    "id": "KpMdlB5Fs8B8"
   },
   "outputs": [
    {
     "name": "stdout",
     "output_type": "stream",
     "text": [
      "quarter: 2023-Q4\n"
     ]
    }
   ],
   "source": [
    "# Print the extracted quarter\n",
    "print(\"quarter:\", quarter)"
   ]
  },
  {
   "cell_type": "markdown",
   "metadata": {
    "id": "5qd8g8UUs8CM"
   },
   "source": [
    "## <u>Problem 2 </u>\n",
    "\n",
    "* You went out in your local neighbourhood to collect the data of people residing in the locale. You surveyed 5 people and collected some data and stored that in a dictionary. You recorded their names, their age, their sex, their heights(in cms) and their weights(in kgs)"
   ]
  },
  {
   "cell_type": "code",
   "execution_count": 23,
   "metadata": {
    "id": "FBJy9Sq_s8CN"
   },
   "outputs": [],
   "source": [
    "# Surveyed data\n",
    "\n",
    "locality_data = {'Name' : ['Abhinav','Sohail','Dheeraj','Rashmi','Vaishali'],\n",
    "                  'Age' : [42,29,35,28,32],\n",
    "                  'Sex' : ['Male', 'Male','Male','Female','Female'] ,\n",
    "                  'Height' : [172,175,170,168,170],\n",
    "                  'Weight' : [70,82,60,55,64]\n",
    "                 }"
   ]
  },
  {
   "cell_type": "markdown",
   "metadata": {
    "id": "2_rBSgqz5Ums"
   },
   "source": [
    "* Find the mean and median heights and weights of the people in your locality"
   ]
  },
  {
   "cell_type": "code",
   "execution_count": 47,
   "metadata": {
    "id": "zywXa51d6Eev"
   },
   "outputs": [
    {
     "name": "stdout",
     "output_type": "stream",
     "text": [
      "mean height of locality is 171.0\n",
      "median height of locality is 170\n",
      "mean weight of locality is 66.2\n",
      "median weight of locality is 64\n"
     ]
    }
   ],
   "source": [
    "# Calculate the mean height and print it\n",
    "mean_height = sum(locality_data['Height'])/len(locality_data['Height'])\n",
    "\n",
    "print(f\"mean height of locality is {mean_height}\")\n",
    "\n",
    "# Calculate the median height and print it\n",
    "\n",
    "# sorting the height list in ascending order\n",
    "locality_data['Height'].sort()\n",
    "\n",
    "median_height = locality_data['Height'][int(len(locality_data['Height'])/2)]\n",
    "\n",
    "print(f\"median height of locality is {median_height}\")\n",
    "\n",
    "# Calculate the mean weight and print it\n",
    "mean_weight = sum(locality_data['Weight'])/len(locality_data['Weight'])\n",
    "\n",
    "print(f\"mean weight of locality is {mean_weight}\")\n",
    "\n",
    "\n",
    "# Calculate the median weight and print it\n",
    "\n",
    "# sorting the height list in ascending order\n",
    "locality_data['Weight'].sort()\n",
    "\n",
    "median_weight = locality_data['Weight'][int(len(locality_data['Weight'])/2)]\n",
    "\n",
    "print(f\"median weight of locality is {median_weight}\")"
   ]
  },
  {
   "cell_type": "markdown",
   "metadata": {
    "id": "yLb5awgPQeYA"
   },
   "source": [
    "* Write a Python code to print the first three elements from the list of age values corresponding to the key 'Age'"
   ]
  },
  {
   "cell_type": "code",
   "execution_count": 49,
   "metadata": {
    "id": "wef2fVgx6Gji"
   },
   "outputs": [
    {
     "name": "stdout",
     "output_type": "stream",
     "text": [
      "[42, 29, 35]\n"
     ]
    }
   ],
   "source": [
    "# Python code to print the first three elements for the key 'Age'\n",
    "ages = locality_data[\"Age\"][:3]\n",
    "print(ages)"
   ]
  },
  {
   "cell_type": "markdown",
   "metadata": {
    "id": "NGrZaqulRIM1"
   },
   "source": [
    "* Write a Python code to print the last two elements of the name list if the list of values corresponding to the key 'Name' contains the element 'Rashmi' else print 'Name not found'"
   ]
  },
  {
   "cell_type": "code",
   "execution_count": 56,
   "metadata": {
    "id": "TBRZzwAcRTNL"
   },
   "outputs": [
    {
     "name": "stdout",
     "output_type": "stream",
     "text": [
      "['Rashmi', 'Vaishali']\n"
     ]
    }
   ],
   "source": [
    "# Your code below\n",
    "names = locality_data['Name']\n",
    "\n",
    "names\n",
    "\n",
    "if \"Rashmi\" in names:\n",
    "    print(names[-2::])\n",
    "else:\n",
    "    print(\"Name not Found\")"
   ]
  },
  {
   "cell_type": "markdown",
   "metadata": {
    "id": "ejRCi-vTs8CU"
   },
   "source": [
    "## <u> Problem 3 </u>\n",
    "\n",
    "A student will not be allowed to sit in exam if his/her attendence is less than 75%.\n",
    "\n",
    "Take following input from user\n",
    "* Number of classes held\n",
    "* Number of classes attended."
   ]
  },
  {
   "cell_type": "code",
   "execution_count": 60,
   "metadata": {
    "id": "C5olNuDGs8CU"
   },
   "outputs": [
    {
     "name": "stdout",
     "output_type": "stream",
     "text": [
      "Number of classes held\n",
      "200\n",
      "Number of classes attended\n",
      "180\n"
     ]
    }
   ],
   "source": [
    "# Enter your input\n",
    "\n",
    "print(\"Number of classes held\")\n",
    "classes_held = int(input())\n",
    "\n",
    "print(\"Number of classes attended\")\n",
    "classes_attended = int(input())"
   ]
  },
  {
   "cell_type": "code",
   "execution_count": 61,
   "metadata": {
    "id": "i553Hqamm2jR"
   },
   "outputs": [
    {
     "name": "stdout",
     "output_type": "stream",
     "text": [
      "The attendance is 90.0\n"
     ]
    }
   ],
   "source": [
    "# Calculate the attendance percentage\n",
    "attendance = classes_attended*100/classes_held\n",
    "\n",
    "print(f'The attendance is {attendance}')"
   ]
  },
  {
   "cell_type": "markdown",
   "metadata": {
    "id": "QYDpXSANnKxV"
   },
   "source": [
    "And print the following statements based on the condition above\n",
    "\n",
    "* percentage of class attended\n",
    "* Is student is allowed to sit in exam or not."
   ]
  },
  {
   "cell_type": "code",
   "execution_count": 67,
   "metadata": {
    "id": "SoQ3P0yym2ts"
   },
   "outputs": [
    {
     "name": "stdout",
     "output_type": "stream",
     "text": [
      "student can sit in exam\n"
     ]
    }
   ],
   "source": [
    "# Your code here\n",
    "if attendance < 75:\n",
    "    print(\"student cannot allowed to sit in exam\")\n",
    "else:\n",
    "    print(\"student can sit in exam\")"
   ]
  },
  {
   "cell_type": "markdown",
   "metadata": {
    "id": "P1rOYC8Is8Cf"
   },
   "source": [
    "## <u>Problem 4</u>\n",
    "\n",
    "### A school has following rules for grading system:\n",
    "* Below 25 - F\n",
    "* 25 to 45 - E\n",
    "* 45 to 50 - D\n",
    "* 50 to 60 - C\n",
    "* 60 to 80 - B\n",
    "* Above 80 - A\n",
    "\n",
    "Keep the left number inclusive and the right number exclusive, something like [25,45) for grade E where the set is closed at 25 and open at 45.\n",
    "\n",
    "Write a Python code which takes marks as inputs from the user and print the corresponding grade."
   ]
  },
  {
   "cell_type": "code",
   "execution_count": 71,
   "metadata": {
    "id": "ySeGyCtCs8Cg"
   },
   "outputs": [
    {
     "name": "stdout",
     "output_type": "stream",
     "text": [
      "Enter your marks\n",
      "70\n"
     ]
    }
   ],
   "source": [
    "# Your input here\n",
    "print(\"Enter your marks\")\n",
    "marks = int(input())"
   ]
  },
  {
   "cell_type": "code",
   "execution_count": 72,
   "metadata": {
    "id": "MI7mOHaqs8Cj"
   },
   "outputs": [
    {
     "name": "stdout",
     "output_type": "stream",
     "text": [
      "B\n"
     ]
    }
   ],
   "source": [
    "# Your code here to print the corresponding grade\n",
    "\n",
    "\n",
    "if marks < 25:\n",
    "    grade = \"F\"\n",
    "    \n",
    "elif marks >= 25 and marks < 45:\n",
    "    grade = \"E\"\n",
    "    \n",
    "elif marks >= 45 and marks < 50:\n",
    "    grade = \"D\"\n",
    "    \n",
    "elif marks >= 50 and marks < 60:\n",
    "    grade = \"C\"\n",
    "    \n",
    "elif marks >= 60 and marks < 80:\n",
    "    grade = \"B\"\n",
    "\n",
    "else:\n",
    "    grade = \"A\"\n",
    "    \n",
    "print(grade)"
   ]
  }
 ],
 "metadata": {
  "colab": {
   "provenance": []
  },
  "kernelspec": {
   "display_name": "Python 3 (ipykernel)",
   "language": "python",
   "name": "python3"
  },
  "language_info": {
   "codemirror_mode": {
    "name": "ipython",
    "version": 3
   },
   "file_extension": ".py",
   "mimetype": "text/x-python",
   "name": "python",
   "nbconvert_exporter": "python",
   "pygments_lexer": "ipython3",
   "version": "3.10.9"
  }
 },
 "nbformat": 4,
 "nbformat_minor": 1
}
