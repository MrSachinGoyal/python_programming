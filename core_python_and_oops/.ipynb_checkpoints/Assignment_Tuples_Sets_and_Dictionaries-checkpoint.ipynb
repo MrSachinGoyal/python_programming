{
 "cells": [
  {
   "cell_type": "markdown",
   "metadata": {
    "id": "KjPWYK0Rs8By"
   },
   "source": [
    "## <u>Problem 1</u>\n",
    "\n",
    "### Another measure of average\n",
    "\n",
    "* Mode is defined as the value that appears most often in a set of data values. Mode corresponds to the most frequent value.\n",
    "* You are given a list of numbers and you need to calculate the mode of this list"
   ]
  },
  {
   "cell_type": "code",
   "execution_count": 1,
   "metadata": {
    "id": "34TbaGurs8Bz"
   },
   "outputs": [],
   "source": [
    "# A list containing average daily temperature over 10 days\n",
    "temperatures = [34, 40, 29, 33, 42, 40, 39, 34, 34,33 ]"
   ]
  },
  {
   "cell_type": "code",
   "execution_count": 6,
   "metadata": {
    "id": "N1Yhpkiws8B3"
   },
   "outputs": [],
   "source": [
    "# Step 1 : Find the unique set of values. Store this in a list\n",
    "unique_temperatures = list(set(temperatures))"
   ]
  },
  {
   "cell_type": "code",
   "execution_count": 7,
   "metadata": {
    "id": "KpMdlB5Fs8B8"
   },
   "outputs": [
    {
     "name": "stdout",
     "output_type": "stream",
     "text": [
      "list of unique temperatures: [33, 34, 39, 40, 42, 29]\n"
     ]
    }
   ],
   "source": [
    "# Print the unique temperature list\n",
    "print(\"list of unique temperatures:\", unique_temperatures)"
   ]
  },
  {
   "cell_type": "code",
   "execution_count": 37,
   "metadata": {
    "id": "J7CyJi_Ls8B_"
   },
   "outputs": [
    {
     "name": "stdout",
     "output_type": "stream",
     "text": [
      "temperature dictionary: {33: 2, 34: 3, 39: 1, 40: 2, 42: 1, 29: 1}\n"
     ]
    }
   ],
   "source": [
    "# Step 2 : Create an empty dictionary which will contain the unique temperatures as keys and their counts in the original \n",
    "#          temperatures list as values\n",
    "temp_dict = {}\n",
    "\n",
    "# Set the values for each key separately\n",
    "# First key\n",
    "first_key = unique_temperatures[0]\n",
    "temp_dict[first_key] = temperatures.count(first_key)\n",
    "\n",
    "# Second key\n",
    "second_key = unique_temperatures[1]\n",
    "temp_dict[second_key] = temperatures.count(second_key)\n",
    "\n",
    "# Third key\n",
    "third_key = unique_temperatures[2]\n",
    "temp_dict[third_key] = temperatures.count(third_key)\n",
    "\n",
    "# Fourth key\n",
    "fourth_key = unique_temperatures[3]\n",
    "temp_dict[fourth_key] = temperatures.count(fourth_key)\n",
    "\n",
    "# Fifth key\n",
    "fifth_key = unique_temperatures[4]\n",
    "temp_dict[fifth_key] = temperatures.count(fifth_key)\n",
    "\n",
    "# Sixth key\n",
    "sixth_key = unique_temperatures[5]\n",
    "temp_dict[sixth_key] = temperatures.count(sixth_key)\n",
    "\n",
    "print(\"temperature dictionary:\", temp_dict)"
   ]
  },
  {
   "cell_type": "code",
   "execution_count": 41,
   "metadata": {
    "id": "4-ZxbmMxtWfQ"
   },
   "outputs": [
    {
     "name": "stdout",
     "output_type": "stream",
     "text": [
      "[2, 3, 1, 2, 1, 1]\n",
      "most frequent temperature value is present at index 1\n"
     ]
    }
   ],
   "source": [
    "# Step 3: Store the dictionary values in a list\n",
    "temp_dict_frequencies = list(temp_dict.values())\n",
    "\n",
    "# Print the list of dictionary values\n",
    "print(temp_dict_frequencies)\n",
    "\n",
    "# Find the index of the most frequent temperature value\n",
    "most_frequent_temp_index = temp_dict_frequencies.index(max(temp_dict_frequencies))\n",
    "\n",
    "# Print the index\n",
    "print(f\"most frequent temperature value is present at index {most_frequent_temp_index}\")"
   ]
  },
  {
   "cell_type": "code",
   "execution_count": 49,
   "metadata": {
    "id": "riu9mZhcwBY6"
   },
   "outputs": [
    {
     "name": "stdout",
     "output_type": "stream",
     "text": [
      "[33, 34, 39, 40, 42, 29]\n",
      "Mode of temperatures: 34\n"
     ]
    }
   ],
   "source": [
    "# Step 4 : Create the list of dictionary keys\n",
    "temp_dict_keys = list(temp_dict.keys())\n",
    "\n",
    "# Print the list of dictionary keys\n",
    "print(temp_dict_keys)\n",
    "\n",
    "# Calculate the mode temperature\n",
    "mode_temp = temp_dict_keys[most_frequent_temp_index]\n",
    "print(\"Mode of temperatures:\", mode_temp)"
   ]
  },
  {
   "cell_type": "markdown",
   "metadata": {
    "id": "5qd8g8UUs8CM"
   },
   "source": [
    "## <u>Problem 2 </u>\n",
    "\n",
    "### Challenging the immutability of tuples\n",
    "\n",
    "You are given a list of tuples. You need to replace the last element of the last tuple"
   ]
  },
  {
   "cell_type": "code",
   "execution_count": 53,
   "metadata": {
    "id": "FBJy9Sq_s8CN"
   },
   "outputs": [],
   "source": [
    "# Input list of tuples\n",
    "list_of_tuples = [(10,20,30),(30,40,50),(50,60,70)]\n",
    "\n",
    "# Expected output : Replace the last element 70 with 100\n",
    "# output_list = [(10,20,30),(30,40,50),(50,60,100)]"
   ]
  },
  {
   "cell_type": "code",
   "execution_count": 57,
   "metadata": {
    "id": "UNtYax1as8CR"
   },
   "outputs": [
    {
     "ename": "TypeError",
     "evalue": "'tuple' object does not support item assignment",
     "output_type": "error",
     "traceback": [
      "\u001b[1;31m---------------------------------------------------------------------------\u001b[0m",
      "\u001b[1;31mTypeError\u001b[0m                                 Traceback (most recent call last)",
      "Cell \u001b[1;32mIn[57], line 2\u001b[0m\n\u001b[0;32m      1\u001b[0m \u001b[38;5;66;03m# Your code here\u001b[39;00m\n\u001b[1;32m----> 2\u001b[0m list_of_tuples[\u001b[38;5;241m-\u001b[39m\u001b[38;5;241m1\u001b[39m][\u001b[38;5;241m-\u001b[39m\u001b[38;5;241m1\u001b[39m] \u001b[38;5;241m=\u001b[39m \u001b[38;5;241m100\u001b[39m\n\u001b[0;32m      4\u001b[0m \u001b[38;5;66;03m# Print the output list\u001b[39;00m\n\u001b[0;32m      5\u001b[0m \u001b[38;5;28mprint\u001b[39m(list_of_tuples)\n",
      "\u001b[1;31mTypeError\u001b[0m: 'tuple' object does not support item assignment"
     ]
    }
   ],
   "source": [
    "# Your code here\n",
    "list_of_tuples[-1][-1] = 100 # Code is throwing error as tuples do not support item assignment\n",
    "\n",
    "# Print the output list\n",
    "print(list_of_tuples)"
   ]
  },
  {
   "cell_type": "markdown",
   "metadata": {
    "id": "ejRCi-vTs8CU"
   },
   "source": [
    "## <u> Problem 3 </u>\n",
    "\n",
    "Natural Language Processing or NLP is one of the most promising fields in Machine Learning. Most of the times in NLP we deal with the textual data (a bunch of strings). Sometimes when we are processing the text, it is a common practice to get rid of some set of stop words from our original text. By default stop words are very common words used in English language such as and, or, punctuations etc.\n",
    "\n",
    "In this exercise, you are provided with a default set of stop words and you need to add some extra set of custom words."
   ]
  },
  {
   "cell_type": "code",
   "execution_count": 58,
   "metadata": {
    "id": "C5olNuDGs8CU"
   },
   "outputs": [
    {
     "name": "stdout",
     "output_type": "stream",
     "text": [
      "Hello, good morning folks! Today we will announce the half yearly performance results of the company. Due to the ongoing COVID-19 pandemic, our profits have declined by 60% as compared to the last half yearly results\n"
     ]
    }
   ],
   "source": [
    "# A sample sentence\n",
    "\n",
    "sentence = 'Hello, good morning folks! Today we will announce the half yearly performance results of the company. Due to the ongoing COVID-19 pandemic, our profits have declined by 60% as compared to the last half yearly results'\n",
    "\n",
    "# Print your sentence\n",
    "print(sentence)"
   ]
  },
  {
   "cell_type": "code",
   "execution_count": 102,
   "metadata": {
    "id": "B4afm8gCs8CY"
   },
   "outputs": [
    {
     "name": "stdout",
     "output_type": "stream",
     "text": [
      "127\n",
      "<class 'set'>\n"
     ]
    }
   ],
   "source": [
    "# Default set of stop words\n",
    "stop_words = {\"i\", \"me\", \"my\", \"myself\", \"we\", \"our\", \"ours\", \"ourselves\", \"you\", \"your\", \"yours\", \"yourself\",\n",
    "              \"yourselves\", \"he\", \"him\", \"his\", \"himself\", \"she\", \"her\", \"hers\", \"herself\", \"it\", \"its\", \"itself\",\n",
    "              \"they\", \"them\", \"their\", \"theirs\", \"themselves\", \"what\", \"which\", \"who\", \"whom\", \"this\", \"that\",\n",
    "              \"these\", \"those\", \"am\", \"is\", \"are\", \"was\", \"were\", \"be\", \"been\", \"being\", \"have\", \"has\", \"had\",\n",
    "              \"having\", \"do\", \"does\", \"did\", \"doing\", \"a\", \"an\", \"the\", \"and\", \"but\", \"if\", \"or\", \"because\",\n",
    "              \"as\", \"until\", \"while\", \"of\", \"at\", \"by\", \"for\", \"with\", \"about\", \"against\", \"between\", \"into\",\n",
    "              \"through\", \"during\", \"before\", \"after\", \"above\", \"below\", \"to\", \"from\", \"up\", \"down\", \"in\", \"out\",\n",
    "              \"on\", \"off\", \"over\", \"under\", \"again\", \"further\", \"then\", \"once\", \"here\", \"there\", \"when\", \"where\",\n",
    "              \"why\", \"how\", \"all\", \"any\", \"both\", \"each\", \"few\", \"more\", \"most\", \"other\", \"some\", \"such\", \"no\",\n",
    "              \"nor\", \"not\", \"only\", \"own\", \"same\", \"so\", \"than\", \"too\", \"very\", \"s\", \"t\", \"can\", \"will\", \"just\",\n",
    "              \"don\", \"should\", \"now\"}\n",
    "print(len(stop_words))\n",
    "print(type(stop_words))\n",
    "\n",
    "stop_words_copy = stop_words.copy()"
   ]
  },
  {
   "cell_type": "code",
   "execution_count": 104,
   "metadata": {
    "id": "evgHHnRks8Cc"
   },
   "outputs": [
    {
     "name": "stdout",
     "output_type": "stream",
     "text": [
      "132\n"
     ]
    }
   ],
   "source": [
    "# Update the set of stop words by adding the custom stop words\n",
    "custom_stop_words = [\"hello\",\"good\",\"morning\",\"half\",\"yearly\"]\n",
    "\n",
    "# Your code here\n",
    "stop_words.update(custom_stop_words)\n",
    "\n",
    "# Print the updated stop words\n",
    "\n",
    "print(len(stop_words))"
   ]
  },
  {
   "cell_type": "code",
   "execution_count": 106,
   "metadata": {
    "id": "1QbZrotrtIE3"
   },
   "outputs": [
    {
     "name": "stdout",
     "output_type": "stream",
     "text": [
      "132\n"
     ]
    }
   ],
   "source": [
    "# Do the same task another way. Keep in mind to use the original set of stop_words for this piece of code\n",
    "new_stop_words = stop_words_copy.union(set(custom_stop_words))\n",
    "\n",
    "# Print the updated stop words\n",
    "print(len(new_stop_words))"
   ]
  },
  {
   "cell_type": "markdown",
   "metadata": {
    "id": "P1rOYC8Is8Cf"
   },
   "source": [
    "## <u>Problem 4</u>\n",
    "\n",
    " Write a Python script to check whether a given key already exists in a dictionary. If it does, drop that key from the dictionary. If it does not, add that key and corresponding value to the dictionary"
   ]
  },
  {
   "cell_type": "code",
   "execution_count": 119,
   "metadata": {
    "id": "ySeGyCtCs8Cg"
   },
   "outputs": [],
   "source": [
    "# Your dictionary\n",
    "employee_dict = {'Name':'Sanket','Skills':['Python','Machine Learning','Deep Learning'],'Band':6.0,\n",
    "                 'Promotion Year':[2016,2018,2020]}"
   ]
  },
  {
   "cell_type": "code",
   "execution_count": 120,
   "metadata": {
    "id": "MI7mOHaqs8Cj"
   },
   "outputs": [
    {
     "name": "stdout",
     "output_type": "stream",
     "text": [
      "{'Name': 'Sanket', 'Skills': ['Python', 'Machine Learning', 'Deep Learning'], 'Band': 6.0, 'Promotion Year': [2016, 2018, 2020], 'Employee_ID': 4503233}\n"
     ]
    }
   ],
   "source": [
    "# Check if the key 'Employee_ID' is present in the dictionary. Hint : use a boolean variable to store this value\n",
    "employee_dict.setdefault('Employee_ID', 4503233)\n",
    "\n",
    "# If not present add this key to this dictionary and the corresponding value to be 4503233\n",
    "print(employee_dict)"
   ]
  },
  {
   "cell_type": "code",
   "execution_count": 121,
   "metadata": {
    "id": "ARPbZfY8s8Co"
   },
   "outputs": [
    {
     "name": "stdout",
     "output_type": "stream",
     "text": [
      "{'Name': 'Sanket', 'Skills': ['Python', 'Machine Learning', 'Deep Learning'], 'Promotion Year': [2016, 2018, 2020], 'Employee_ID': 4503233}\n"
     ]
    }
   ],
   "source": [
    "# Check if the key 'Band' is present in the dictionary.\n",
    "employee_dict['Band']\n",
    "\n",
    "\n",
    "# If present, drop this key from the dictionary\n",
    "employee_dict.pop('Band')"
   ]
  },
  {
   "cell_type": "code",
   "execution_count": 122,
   "metadata": {
    "id": "lUDbbyXmulzh"
   },
   "outputs": [
    {
     "name": "stdout",
     "output_type": "stream",
     "text": [
      "{'Name': 'Sanket', 'Skills': ['Python', 'Machine Learning', 'Deep Learning'], 'Promotion Year': [2016, 2018, 2020], 'Employee_ID': 4503233}\n"
     ]
    }
   ],
   "source": [
    "# Print the updated dictionary\n",
    "print(employee_dict)"
   ]
  }
 ],
 "metadata": {
  "colab": {
   "provenance": []
  },
  "kernelspec": {
   "display_name": "Python 3 (ipykernel)",
   "language": "python",
   "name": "python3"
  },
  "language_info": {
   "codemirror_mode": {
    "name": "ipython",
    "version": 3
   },
   "file_extension": ".py",
   "mimetype": "text/x-python",
   "name": "python",
   "nbconvert_exporter": "python",
   "pygments_lexer": "ipython3",
   "version": "3.10.9"
  }
 },
 "nbformat": 4,
 "nbformat_minor": 1
}
