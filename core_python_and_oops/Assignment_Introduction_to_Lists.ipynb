{
 "cells": [
  {
   "cell_type": "markdown",
   "metadata": {
    "id": "KB9ZI2xAjkF6"
   },
   "source": [
    "## <u>Problem 1</u>\n",
    "\n",
    "A list contains the average daily temperature(in degree Celsius) of a city over a particular week. Write a Python code to swap the highest and the lowest temperatures"
   ]
  },
  {
   "cell_type": "code",
   "execution_count": 4,
   "metadata": {
    "id": "O3ZtUcxsjkF7"
   },
   "outputs": [],
   "source": [
    "# A list containing average daily temperature over a week\n",
    "temperatures = [34, 40, 29, 33, 42, 37, 39 ]\n",
    "\n",
    "# The expected output\n",
    "# output_temperatures = [34, 40, 42, 33, 29, 37, 39]"
   ]
  },
  {
   "cell_type": "code",
   "execution_count": 15,
   "metadata": {
    "id": "HRFHv7OXjkGR"
   },
   "outputs": [
    {
     "name": "stdout",
     "output_type": "stream",
     "text": [
      "Maximum temperature: 42\n",
      "Maximum temperture is present at Index 4\n"
     ]
    }
   ],
   "source": [
    "# Store the highest temperature\n",
    "max_temp = max(temperatures)\n",
    "print(\"Maximum temperature:\", max_temp)\n",
    "\n",
    "# Index of the element with the highest temperature\n",
    "max_temp_index = temperatures.index(max_temp)\n",
    "print(f\"Maximum temperture is present at Index {max_temp_index}\")"
   ]
  },
  {
   "cell_type": "code",
   "execution_count": 14,
   "metadata": {
    "id": "8lsfVKbcjkGW"
   },
   "outputs": [
    {
     "name": "stdout",
     "output_type": "stream",
     "text": [
      "Minimum temperature: 29\n",
      "Minimum temperture is present at Index 2\n"
     ]
    }
   ],
   "source": [
    "# Store the lowest temperature\n",
    "min_temp = min(temperatures)\n",
    "print(\"Minimum temperature:\", min_temp)\n",
    "\n",
    "# Index of the element with the lowest temperature\n",
    "min_temp_index = temperatures.index(min_temp)\n",
    "print(f\"Minimum temperture is present at Index {min_temp_index}\")"
   ]
  },
  {
   "cell_type": "code",
   "execution_count": 16,
   "metadata": {
    "id": "W8UkX2IHjkGc"
   },
   "outputs": [],
   "source": [
    "# Swap the highest and the lowest temperatures\n",
    "\n",
    "temperatures[min_temp_index] = max_temp\n",
    "temperatures[max_temp_index] = min_temp"
   ]
  },
  {
   "cell_type": "code",
   "execution_count": 18,
   "metadata": {
    "id": "2UpeOQ7qjkGg"
   },
   "outputs": [
    {
     "name": "stdout",
     "output_type": "stream",
     "text": [
      "output list: [34, 40, 42, 33, 29, 37, 39]\n"
     ]
    }
   ],
   "source": [
    "# Print the output list\n",
    "print(\"output list:\", temperatures)"
   ]
  },
  {
   "cell_type": "markdown",
   "metadata": {
    "id": "zxqe73yrjkGi"
   },
   "source": [
    "\n",
    "## <u>Problem 2 </u>\n",
    "\n",
    "### Measures of Averages\n",
    "\n",
    "* Mean of a group is defined as the sum of the elements in the group divided by the number of elements in the group.\n",
    "* Median is the middle number in a <b>sorted</b>, ascending or descending, list of numbers. If the list has $N$ numbers where $N$ is odd, then median is the element in the middle i.e, $(\\frac{N+1}{2})^{th}$ element. If $N$ is even, then median is the mean of $(\\frac{N}{2})^{th}$ and $(\\frac{N}{2}+1)^{th}$ elements"
   ]
  },
  {
   "cell_type": "code",
   "execution_count": 24,
   "metadata": {
    "id": "TNWp2uyVjkGi"
   },
   "outputs": [
    {
     "name": "stdout",
     "output_type": "stream",
     "text": [
      "[400, 250, 800, 550, 600, 820, 720, 15000, 360, 250]\n"
     ]
    }
   ],
   "source": [
    "# List of product prices\n",
    "prod_price_list = [400, 250, 800, 550, 600, 820, 720, 15000, 360,250]\n",
    "\n",
    "print(prod_price_list)"
   ]
  },
  {
   "cell_type": "code",
   "execution_count": 26,
   "metadata": {
    "id": "KwenpH43jkGm"
   },
   "outputs": [
    {
     "name": "stdout",
     "output_type": "stream",
     "text": [
      "Mean price of products is 1975.0\n"
     ]
    }
   ],
   "source": [
    "# Calculate the mean of the product prices. Use list functions. Also print the mean_price\n",
    "mean_price = sum(prod_price_list)/len(prod_price_list)\n",
    "\n",
    "print(f\"Mean price of products is {mean_price}\")"
   ]
  },
  {
   "cell_type": "markdown",
   "metadata": {
    "id": "gTojysiqjkGr"
   },
   "source": [
    "### Calculate the median price"
   ]
  },
  {
   "cell_type": "code",
   "execution_count": 31,
   "metadata": {
    "id": "5SBpWBGEjkGr"
   },
   "outputs": [
    {
     "name": "stdout",
     "output_type": "stream",
     "text": [
      "Sorted list: [250, 250, 360, 400, 550, 600, 720, 800, 820, 15000]\n"
     ]
    }
   ],
   "source": [
    "# Step 1 - Obtain the sorted list. Print the sorted_prices\n",
    "sorted_prices = prod_price_list.sort()\n",
    "\n",
    "print(\"Sorted list:\", prod_price_list)"
   ]
  },
  {
   "cell_type": "code",
   "execution_count": 42,
   "metadata": {
    "id": "29eoJETXjkGu"
   },
   "outputs": [
    {
     "name": "stdout",
     "output_type": "stream",
     "text": [
      "Number of elements in the list: 10\n",
      "720\n"
     ]
    }
   ],
   "source": [
    "# Check if the number of elements in the list is even or odd\n",
    "num_elements = len(prod_price_list)\n",
    "\n",
    "print(\"Number of elements in the list:\", num_elements)\n",
    "\n",
    "prod_price_list[int(num_elements/2)]\n",
    "prod_price_list[int((num_elements/2)+1)]"
   ]
  },
  {
   "cell_type": "code",
   "execution_count": 45,
   "metadata": {
    "id": "RiafM7R_jkGy"
   },
   "outputs": [
    {
     "name": "stdout",
     "output_type": "stream",
     "text": [
      "Median Price of the products is 660.0\n"
     ]
    }
   ],
   "source": [
    "# Use the corresponding formula to calculate the median and print the median\n",
    "\n",
    "# number of elements is even \n",
    "median_price = (prod_price_list[int(num_elements/2)] + prod_price_list[int((num_elements/2)+1)])/2\n",
    "\n",
    "print(f\"Median Price of the products is {median_price}\")"
   ]
  },
  {
   "cell_type": "code",
   "execution_count": 47,
   "metadata": {
    "id": "brysk47ojkG0"
   },
   "outputs": [],
   "source": [
    "# Check which is greater, mean or median\n",
    "\n",
    "- Mean is greater than median"
   ]
  },
  {
   "cell_type": "markdown",
   "metadata": {
    "id": "jB0y0UdbjkG3"
   },
   "source": [
    "### Why do you think that is the case??"
   ]
  },
  {
   "cell_type": "markdown",
   "metadata": {
    "id": "_JguWGM_-_ST"
   },
   "source": [
    "### <u>Write your explanation in this text cell</u>\n",
    "\n",
    "Your explanation : Mean is greater than median indicates skewness in prices or distribution. Skewness is due to the presence of outliers."
   ]
  },
  {
   "cell_type": "markdown",
   "metadata": {
    "id": "J3x3tmzTjkG3"
   },
   "source": [
    "## <u> Problem 3 </u>\n",
    "\n",
    "Having a nested list sometimes might be a bit problematic. An individual was asked to collect the names of companies in the technology sector. While creating the list, by mistake the last three companies were subsumed in a list as shown below. You are required to get rid of the nesting"
   ]
  },
  {
   "cell_type": "code",
   "execution_count": 59,
   "metadata": {
    "id": "6IbY26WqjkG4"
   },
   "outputs": [],
   "source": [
    "# The list of tech companies curated by the individual\n",
    "tech_companies = ['Qualcomm','Google','Apple',['Nvidia','Cisco','Samsung']]\n",
    "\n",
    "# The final list that we want\n",
    "# correct_tech_companies = ['Qualcomm','Google','Apple','Nvidia','Cisco','Samsung']"
   ]
  },
  {
   "cell_type": "code",
   "execution_count": 60,
   "metadata": {
    "id": "anVH03bTjkG7"
   },
   "outputs": [
    {
     "name": "stdout",
     "output_type": "stream",
     "text": [
      "['__add__', '__class__', '__class_getitem__', '__contains__', '__delattr__', '__delitem__', '__dir__', '__doc__', '__eq__', '__format__', '__ge__', '__getattribute__', '__getitem__', '__gt__', '__hash__', '__iadd__', '__imul__', '__init__', '__init_subclass__', '__iter__', '__le__', '__len__', '__lt__', '__mul__', '__ne__', '__new__', '__reduce__', '__reduce_ex__', '__repr__', '__reversed__', '__rmul__', '__setattr__', '__setitem__', '__sizeof__', '__str__', '__subclasshook__', 'append', 'clear', 'copy', 'count', 'extend', 'index', 'insert', 'pop', 'remove', 'reverse', 'sort']\n"
     ]
    }
   ],
   "source": [
    "# Write your code below\n",
    "\n",
    "tech_companies.extend(tech_companies.pop())"
   ]
  },
  {
   "cell_type": "code",
   "execution_count": 61,
   "metadata": {
    "id": "BsVsotOGjkG_"
   },
   "outputs": [
    {
     "name": "stdout",
     "output_type": "stream",
     "text": [
      "['Qualcomm', 'Google', 'Apple', 'Nvidia', 'Cisco', 'Samsung']\n"
     ]
    }
   ],
   "source": [
    "# Do the same task another way\n",
    "print(tech_companies)"
   ]
  }
 ],
 "metadata": {
  "colab": {
   "provenance": []
  },
  "kernelspec": {
   "display_name": "Python 3 (ipykernel)",
   "language": "python",
   "name": "python3"
  },
  "language_info": {
   "codemirror_mode": {
    "name": "ipython",
    "version": 3
   },
   "file_extension": ".py",
   "mimetype": "text/x-python",
   "name": "python",
   "nbconvert_exporter": "python",
   "pygments_lexer": "ipython3",
   "version": "3.10.9"
  }
 },
 "nbformat": 4,
 "nbformat_minor": 1
}
