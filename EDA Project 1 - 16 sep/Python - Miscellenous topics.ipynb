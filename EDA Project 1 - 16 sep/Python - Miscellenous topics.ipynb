{
 "cells": [
  {
   "cell_type": "markdown",
   "id": "3a2385b0",
   "metadata": {},
   "source": [
    "# Regex"
   ]
  },
  {
   "cell_type": "markdown",
   "id": "d4151074",
   "metadata": {},
   "source": [
    "Regex (short for \"regular expression\") is a powerful tool for pattern matching and text manipulation in Python and many other programming languages. It allows you to search for, match, and manipulate strings based on patterns, making it a versatile tool for tasks such as data validation, text parsing, and data extraction. Here's a comprehensive overview of regex functions in Python:\n",
    "\n",
    "\n",
    "\n",
    " **Basic Regex Functions:**\n",
    "\n",
    "   - `re.match(pattern, string)`: Attempts to match the pattern only at the beginning of the string.\n",
    "   - `re.search(pattern, string)`: Searches the entire string for a match to the pattern.\n",
    "   - `re.findall(pattern, string)`: Returns all non-overlapping matches of the pattern in the string as a list of strings.\n",
    "   - `re.finditer(pattern, string)`: Returns an iterator that produces match objects for all non-overlapping matches of the pattern.\n",
    "\n",
    "\n",
    "\n",
    "Regular expressions are a powerful tool for text processing, data extraction, and pattern matching in Python. While they can be extremely useful, they can also become complex, so it's essential to thoroughly test and validate your patterns to ensure they match your desired text."
   ]
  },
  {
   "cell_type": "code",
   "execution_count": 26,
   "id": "62358644",
   "metadata": {},
   "outputs": [
    {
     "name": "stdout",
     "output_type": "stream",
     "text": [
      "<re.Match object; span=(6, 12), match='the123'>\n",
      "Match found: the123\n"
     ]
    }
   ],
   "source": [
    "import re\n",
    "\n",
    "pattern = r'the123'  # Matches one or more digits\n",
    "text = \"32 is the123 answer, 123 and 456 are numbers.\"\n",
    "match = re.search(pattern, text)\n",
    "\n",
    "print(match)\n",
    "\n",
    "if match:\n",
    "    print(\"Match found:\", match.group())  # Returns the matched text\n"
   ]
  },
  {
   "cell_type": "markdown",
   "id": "f819e665",
   "metadata": {},
   "source": [
    "## The re.sub(pattern, replacement, string) function allows you to replace matched patterns in a string with a specified replacement string."
   ]
  },
  {
   "cell_type": "code",
   "execution_count": 23,
   "id": "14421864",
   "metadata": {},
   "outputs": [
    {
     "name": "stdout",
     "output_type": "stream",
     "text": [
      "Original text: 42 is the answer, 123 and 456 are numbers.\n",
      "Modified text: X is the answer, X and X are numbers.\n"
     ]
    }
   ],
   "source": [
    "import re\n",
    "\n",
    "pattern = r'\\d+'\n",
    "text = \"42 is the answer, 123 and 456 are numbers.\"\n",
    "result = re.sub(pattern, \"X\", text)\n",
    "\n",
    "print(\"Original text:\", text)\n",
    "print(\"Modified text:\", result)\n"
   ]
  },
  {
   "cell_type": "markdown",
   "id": "1103e5cd",
   "metadata": {},
   "source": [
    "# Context managers"
   ]
  },
  {
   "cell_type": "markdown",
   "id": "935828c3",
   "metadata": {},
   "source": [
    "The with open statement in Python is a way to work with files. It's used to open a file and ensure that it is properly closed after the block of code is executed, even if an exception is raised during the execution of that code. This is commonly referred to as the \"context manager\" approach and is used to manage resources efficiently and safely. "
   ]
  },
  {
   "cell_type": "code",
   "execution_count": 7,
   "id": "4b0fe89c",
   "metadata": {},
   "outputs": [
    {
     "ename": "FileNotFoundError",
     "evalue": "[Errno 2] No such file or directory: 'myfile.txt'",
     "output_type": "error",
     "traceback": [
      "\u001b[1;31m---------------------------------------------------------------------------\u001b[0m",
      "\u001b[1;31mFileNotFoundError\u001b[0m                         Traceback (most recent call last)",
      "\u001b[1;32m~\\AppData\\Local\\Temp\\ipykernel_29064\\290294721.py\u001b[0m in \u001b[0;36m<module>\u001b[1;34m\u001b[0m\n\u001b[1;32m----> 1\u001b[1;33m \u001b[1;32mwith\u001b[0m \u001b[0mopen\u001b[0m\u001b[1;33m(\u001b[0m\u001b[1;34m'myfile.txt'\u001b[0m\u001b[1;33m,\u001b[0m \u001b[1;34m'r'\u001b[0m\u001b[1;33m)\u001b[0m \u001b[1;32mas\u001b[0m \u001b[0mfile\u001b[0m\u001b[1;33m:\u001b[0m\u001b[1;33m\u001b[0m\u001b[1;33m\u001b[0m\u001b[0m\n\u001b[0m\u001b[0;32m      2\u001b[0m     \u001b[1;31m# Code to work with the file goes here\u001b[0m\u001b[1;33m\u001b[0m\u001b[1;33m\u001b[0m\u001b[0m\n\u001b[0;32m      3\u001b[0m     \u001b[0mdata\u001b[0m \u001b[1;33m=\u001b[0m \u001b[0mfile\u001b[0m\u001b[1;33m.\u001b[0m\u001b[0mread\u001b[0m\u001b[1;33m(\u001b[0m\u001b[1;33m)\u001b[0m\u001b[1;33m\u001b[0m\u001b[1;33m\u001b[0m\u001b[0m\n\u001b[0;32m      4\u001b[0m     \u001b[1;31m# Other file operations can be performed here\u001b[0m\u001b[1;33m\u001b[0m\u001b[1;33m\u001b[0m\u001b[0m\n\u001b[0;32m      5\u001b[0m \u001b[1;33m\u001b[0m\u001b[0m\n",
      "\u001b[1;31mFileNotFoundError\u001b[0m: [Errno 2] No such file or directory: 'myfile.txt'"
     ]
    }
   ],
   "source": [
    "with open('myfile.txt', 'r') as file:\n",
    "    # Code to work with the file goes here\n",
    "    data = file.read()\n",
    "    # Other file operations can be performed here\n",
    "\n",
    "# File is automatically closed when the block exits\n"
   ]
  },
  {
   "cell_type": "code",
   "execution_count": null,
   "id": "e53e119c",
   "metadata": {},
   "outputs": [],
   "source": [
    "# Open the file manually\n",
    "file = open('data.txt', 'r')\n",
    "\n",
    "try:\n",
    "    # Read the contents of the file\n",
    "    data = file.read()\n",
    "    \n",
    "    # Process the data\n",
    "    lines = data.split('\\n')\n",
    "    for line in lines:\n",
    "        # Perform some processing on each line\n",
    "        print(line)\n",
    "finally:\n",
    "    # Close the file manually\n",
    "    file.close()\n"
   ]
  },
  {
   "cell_type": "markdown",
   "id": "60a4da11",
   "metadata": {},
   "source": [
    "When you use a function like open() or with open, you are following good programming practices that explicitly indicate your intent to work with a file, and they provide you with more control over the file handling process. Here are some reasons why explicitly opening a file is a better approach:\n",
    "\n",
    "Explicitness: Opening a file with open() or with open clearly states your intention to interact with a file. This makes your code more readable and self-explanatory, especially when others are reviewing or maintaining your code.\n",
    "\n",
    "Resource Management: Explicitly opening and closing a file allows you to control when resources (file handles) are acquired and released. This is important for efficient resource management and helps prevent resource leaks.\n",
    "\n",
    "Error Handling: Opening a file manually allows you to implement error handling more effectively. You can use try...except...finally blocks to handle exceptions that may occur during file operations and ensure that the file is always closed, even in the presence of exceptions.\n",
    "\n",
    "Context Managers: The with open statement is a context manager that ensures that the file is properly closed when exiting the block. This is especially valuable when working with exceptions, as it guarantees resource cleanup."
   ]
  },
  {
   "cell_type": "markdown",
   "id": "3fec5d5b",
   "metadata": {},
   "source": [
    "# Decorators"
   ]
  },
  {
   "cell_type": "markdown",
   "id": "3e896f86",
   "metadata": {},
   "source": [
    "In Python, decorators are a powerful and flexible way to modify or enhance the behavior of functions or methods without changing their source code. Decorators allow you to wrap a function with another function, which can perform actions before and/or after the wrapped function is executed. Decorators are often used for tasks like logging, access control, memoization, and more."
   ]
  },
  {
   "cell_type": "markdown",
   "id": "f71577ae",
   "metadata": {},
   "source": [
    "@decorator_function\n",
    "def my_function():\n",
    "    # Function code here"
   ]
  },
  {
   "cell_type": "code",
   "execution_count": 10,
   "id": "12e31ce5",
   "metadata": {},
   "outputs": [],
   "source": [
    "def my_decorator(func):\n",
    "    def wrapper():\n",
    "        print(\"Something is happening before the function is called.\")\n",
    "        func()\n",
    "        print(\"Something is happening after the function is called.\")\n",
    "    return wrapper"
   ]
  },
  {
   "cell_type": "code",
   "execution_count": 28,
   "id": "c301a669",
   "metadata": {},
   "outputs": [
    {
     "name": "stdout",
     "output_type": "stream",
     "text": [
      "Something is happening before the function is called.\n",
      "Hello!\n",
      "Something is happening after the function is called.\n"
     ]
    }
   ],
   "source": [
    "@my_decorator\n",
    "def say_hello():\n",
    "    print(\"Hello!\")\n",
    "\n",
    "# When you call say_hello, it is equivalent to calling my_decorator(say_hello)\n",
    "\n",
    "say_hello()\n"
   ]
  },
  {
   "cell_type": "markdown",
   "id": "32ffb482",
   "metadata": {},
   "source": [
    "# Magic Function"
   ]
  },
  {
   "cell_type": "markdown",
   "id": "bb8ed317",
   "metadata": {},
   "source": [
    "Magic functions, also known as \"magic methods\" or \"dunder methods\" (short for \"double underscore\"), are special methods in Python that have double underscores at the beginning and end of their names, like __init__, __str__, and __add__. These methods have specific purposes and are used to customize the behavior of classes and objects in various ways. Magic functions are automatically invoked by the Python interpreter in response to specific operations or events."
   ]
  },
  {
   "cell_type": "code",
   "execution_count": 13,
   "id": "4bd9b18e",
   "metadata": {},
   "outputs": [],
   "source": [
    "class MyClass:\n",
    "    def __init__(self, value):\n",
    "        self.value = value\n"
   ]
  },
  {
   "cell_type": "markdown",
   "id": "e80bb64f",
   "metadata": {},
   "source": [
    "# Generators"
   ]
  },
  {
   "cell_type": "markdown",
   "id": "3c0a9132",
   "metadata": {},
   "source": [
    "A Python generator is a special type of iterable, similar to a list or tuple, but with some key differences that make it particularly useful for handling large datasets or generating values on the fly. Generators allow you to create iterable sequences of values without loading the entire sequence into memory at once. They are defined using functions and the yield keyword, and they generate values lazily, as they are needed. Here's all you need to know about Python generators:"
   ]
  },
  {
   "cell_type": "markdown",
   "id": "f91208d4",
   "metadata": {},
   "source": [
    "Generator Function:\n",
    "\n",
    "Generators are defined using a special type of function called a generator function. Instead of using the return keyword, generator functions use the yield keyword to yield a value one at a time. When a generator function is called, it doesn't execute immediately; it returns a generator object."
   ]
  },
  {
   "cell_type": "code",
   "execution_count": 29,
   "id": "1858bb78",
   "metadata": {},
   "outputs": [],
   "source": [
    "def simple_generator():\n",
    "    yield 1\n",
    "    yield 2\n",
    "    yield 3"
   ]
  },
  {
   "cell_type": "markdown",
   "id": "7626643a",
   "metadata": {},
   "source": [
    "Generator objects are iterable, so you can use them in for loops, list comprehensions, and other places where iterables are used."
   ]
  },
  {
   "cell_type": "code",
   "execution_count": 31,
   "id": "d1a6c239",
   "metadata": {},
   "outputs": [
    {
     "name": "stdout",
     "output_type": "stream",
     "text": [
      "<generator object simple_generator at 0x000001FBD5FDE5F0>\n"
     ]
    }
   ],
   "source": [
    "gen = simple_generator()\n",
    "\n",
    "\n",
    "print(gen)"
   ]
  },
  {
   "cell_type": "code",
   "execution_count": 32,
   "id": "3393064b",
   "metadata": {},
   "outputs": [
    {
     "name": "stdout",
     "output_type": "stream",
     "text": [
      "1\n",
      "2\n",
      "3\n"
     ]
    }
   ],
   "source": [
    "\n",
    "for num in gen:\n",
    "    print(num)"
   ]
  },
  {
   "cell_type": "markdown",
   "id": "27698b7e",
   "metadata": {},
   "source": [
    "A real-world industry example of using a generator in Python is when dealing with large log files, especially in the context of server logs or data streaming applications. Here's how generators can be applied in this scenario:\n",
    "\n",
    "Problem Statement: Imagine you're a DevOps engineer responsible for analyzing server logs in a large-scale web application. These logs are massive and can't fit entirely into memory. You need to extract specific information or perform analysis on these logs efficiently.\n",
    "\n",
    "Solution Using Generators:\n",
    "\n",
    "Reading Log Files:\n",
    "\n",
    "You can create a generator function that reads the log file line by line and yields each log entry as needed. This avoids loading the entire log file into memory, which may not be feasible for large log files."
   ]
  },
  {
   "cell_type": "code",
   "execution_count": 21,
   "id": "933a1d6b",
   "metadata": {},
   "outputs": [],
   "source": [
    "def log_reader(log_file):\n",
    "    with open(log_file, 'r') as file:\n",
    "        for line in file:\n",
    "            yield line"
   ]
  },
  {
   "cell_type": "markdown",
   "id": "885a0c47",
   "metadata": {},
   "source": []
  }
 ],
 "metadata": {
  "kernelspec": {
   "display_name": "Python 3 (ipykernel)",
   "language": "python",
   "name": "python3"
  },
  "language_info": {
   "codemirror_mode": {
    "name": "ipython",
    "version": 3
   },
   "file_extension": ".py",
   "mimetype": "text/x-python",
   "name": "python",
   "nbconvert_exporter": "python",
   "pygments_lexer": "ipython3",
   "version": "3.9.13"
  }
 },
 "nbformat": 4,
 "nbformat_minor": 5
}
