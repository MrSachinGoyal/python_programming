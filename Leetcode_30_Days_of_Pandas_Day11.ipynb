{
 "cells": [
  {
   "cell_type": "code",
   "execution_count": 27,
   "id": "b9becc8a",
   "metadata": {},
   "outputs": [],
   "source": [
    "import pandas as pd"
   ]
  },
  {
   "cell_type": "markdown",
   "id": "fd5ed036",
   "metadata": {},
   "source": [
    "Question: Write a solution to find the rank of the scores. The ranking should be calculated according to the following rules:\n",
    "\n",
    "- The scores should be ranked from the highest to the lowest.\n",
    "- If there is a tie between two scores, both should have the same ranking.\n",
    "- After a tie, the next ranking number should be the next consecutive integer value. In other words, there should be no holes between ranks.\n",
    "\n",
    "Return the result table ordered by score in descending order."
   ]
  },
  {
   "cell_type": "code",
   "execution_count": 28,
   "id": "2a5465bb",
   "metadata": {},
   "outputs": [
    {
     "name": "stdout",
     "output_type": "stream",
     "text": [
      "   score  rank\n",
      "2    4.0     1\n",
      "4    4.0     1\n",
      "3   3.85     2\n",
      "1   3.65     3\n",
      "5   3.65     3\n",
      "0    3.5     4\n"
     ]
    }
   ],
   "source": [
    "# function definition\n",
    "def order_scores(scores: pd.DataFrame) -> pd.DataFrame:\n",
    "    \n",
    "    # sorting dataframe in descending order of score\n",
    "    scores.sort_values(by=['score'], ascending=[False], inplace=True)\n",
    "    \n",
    "    # adding column rank to determine rank of score\n",
    "    scores['rank'] = scores['score'].rank(ascending=False, method='dense').astype('int')\n",
    "    \n",
    "    # selecting output columns \n",
    "    result_df = scores[['score', 'rank']]\n",
    "    \n",
    "    return result_df\n",
    "\n",
    "\n",
    "# preparing the dataframe\n",
    "data = [[1, 3.5], [2, 3.65], [3, 4.0], [4, 3.85], [5, 4.0], [6, 3.65]]\n",
    "scores = pd.DataFrame(data, columns=['id', 'score']).astype({'id':'Int64', 'score':'Float64'})\n",
    "\n",
    "# calling the function\n",
    "result = order_scores(scores)\n",
    "print(result)"
   ]
  },
  {
   "cell_type": "code",
   "execution_count": null,
   "id": "33f5763d",
   "metadata": {},
   "outputs": [],
   "source": []
  }
 ],
 "metadata": {
  "kernelspec": {
   "display_name": "Python 3 (ipykernel)",
   "language": "python",
   "name": "python3"
  },
  "language_info": {
   "codemirror_mode": {
    "name": "ipython",
    "version": 3
   },
   "file_extension": ".py",
   "mimetype": "text/x-python",
   "name": "python",
   "nbconvert_exporter": "python",
   "pygments_lexer": "ipython3",
   "version": "3.10.9"
  }
 },
 "nbformat": 4,
 "nbformat_minor": 5
}
