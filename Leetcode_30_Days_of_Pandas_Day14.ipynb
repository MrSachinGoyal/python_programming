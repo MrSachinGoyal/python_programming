{
 "cells": [
  {
   "cell_type": "code",
   "execution_count": 2,
   "id": "7f3ddff9",
   "metadata": {},
   "outputs": [],
   "source": [
    "# import necessary libraries\n",
    "import pandas as pd"
   ]
  },
  {
   "cell_type": "markdown",
   "id": "e4280790",
   "metadata": {},
   "source": [
    "Question: Write a solution to find all the pairs (actor_id, director_id) where the actor has cooperated with the director at least three times.\n",
    "\n",
    "Return the result table in any order.\n"
   ]
  },
  {
   "cell_type": "code",
   "execution_count": 20,
   "id": "1239f961",
   "metadata": {},
   "outputs": [],
   "source": [
    "# function definition\n",
    "def actors_and_directors(actor_director: pd.DataFrame) -> pd.DataFrame:\n",
    "    \n",
    "    # making group of actor and directors and counting number of times they work together\n",
    "    group_actor_director = actor_director.groupby(['actor_id', 'director_id']).count().reset_index()\n",
    "    \n",
    "    # renaming the columns\n",
    "    group_actor_director.rename(columns={'timestamp': 'work_together'}, inplace=True)\n",
    "    \n",
    "    # selecting the output columns\n",
    "    result_df = group_actor_director[group_actor_director['work_together'] >= 3][['actor_id', 'director_id']]\n",
    "    \n",
    "    return result_df\n",
    "\n",
    "\n",
    "# preparing the dataframe\n",
    "data = [[1, 1, 0], [1, 1, 1], [1, 1, 2], [1, 2, 3], [1, 2, 4], [2, 1, 5], [2, 1, 6]]\n",
    "actor_director = pd.DataFrame(data, columns=['actor_id', 'director_id', 'timestamp']).astype({'actor_id':'int64', 'director_id':'int64', 'timestamp':'int64'})"
   ]
  },
  {
   "cell_type": "code",
   "execution_count": 23,
   "id": "6e676840",
   "metadata": {},
   "outputs": [
    {
     "name": "stdout",
     "output_type": "stream",
     "text": [
      "Actor and Director who work together atleast three times\n",
      "   actor_id  director_id\n",
      "0         1            1\n"
     ]
    }
   ],
   "source": [
    "# calling the function and printing the result\n",
    "result = actors_and_directors(actor_director)\n",
    "print('Actor and Director who work together atleast three times')\n",
    "print(result)"
   ]
  },
  {
   "cell_type": "code",
   "execution_count": null,
   "id": "9aa187cd",
   "metadata": {},
   "outputs": [],
   "source": []
  },
  {
   "cell_type": "code",
   "execution_count": null,
   "id": "e7754280",
   "metadata": {},
   "outputs": [],
   "source": []
  }
 ],
 "metadata": {
  "kernelspec": {
   "display_name": "Python 3 (ipykernel)",
   "language": "python",
   "name": "python3"
  },
  "language_info": {
   "codemirror_mode": {
    "name": "ipython",
    "version": 3
   },
   "file_extension": ".py",
   "mimetype": "text/x-python",
   "name": "python",
   "nbconvert_exporter": "python",
   "pygments_lexer": "ipython3",
   "version": "3.10.9"
  }
 },
 "nbformat": 4,
 "nbformat_minor": 5
}
