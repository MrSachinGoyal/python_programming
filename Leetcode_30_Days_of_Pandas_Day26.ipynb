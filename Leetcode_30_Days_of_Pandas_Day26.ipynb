{
 "cells": [
  {
   "cell_type": "code",
   "execution_count": 157,
   "id": "beb6a25d",
   "metadata": {},
   "outputs": [],
   "source": [
    "# importing necessary libraries\n",
    "import pandas as pd"
   ]
  },
  {
   "cell_type": "markdown",
   "id": "3a70cb98",
   "metadata": {},
   "source": [
    "Question: Write a solution to rearrange the Products table so that each row has (product_id, store, price). If a product is not available in a store, do not include a row with that product_id and store combination in the result table.\n",
    "\n",
    "Return the result table in any order."
   ]
  },
  {
   "cell_type": "code",
   "execution_count": 158,
   "id": "144d1088",
   "metadata": {},
   "outputs": [
    {
     "name": "stdout",
     "output_type": "stream",
     "text": [
      "  product_id   store  price\n",
      "0          0  store1     95\n",
      "2          0  store2  100.0\n",
      "3          0  store3    105\n",
      "1          1  store1     70\n",
      "4          1  store3     80\n"
     ]
    }
   ],
   "source": [
    "# function definition\n",
    "def rearrange_products_table(products: pd.DataFrame) -> pd.DataFrame:\n",
    "    \n",
    "    # initialising the empty dataframe\n",
    "    df = pd.DataFrame(columns = ['product_id', 'price', 'store'])\n",
    "    \n",
    "    # extracting columns from products dataframe\n",
    "    columns = products.columns[1:]\n",
    "    \n",
    "    for column in columns:\n",
    "        temp = products[['product_id', column]] # extracting records based on specific store\n",
    "        temp['store'] = column                     \n",
    "        temp.dropna(subset=[column], inplace=True)      # dropping null values \n",
    "        temp.rename(columns={column:'price'}, inplace=True)      # renaming column\n",
    "        df = pd.concat([df, temp], ignore_index=True)  # concatenating each iteration result with initialised dataframe\n",
    "    \n",
    "    # sorting the dataframe in ascending order based on column 'product_id'\n",
    "    result_df = df[['product_id', 'store', 'price']].sort_values(by=['product_id'])\n",
    "    \n",
    "    return result_df\n",
    "\n",
    "# preparing the dataframe\n",
    "data = [[0, 95, 100, 105], [1, 70, None, 80]]\n",
    "products = pd.DataFrame(data, columns=['product_id', 'store1', 'store2', 'store3'])\n",
    "\n",
    "# calling the function and printing the result\n",
    "result = rearrange_products_table(products)\n",
    "print(result)"
   ]
  },
  {
   "cell_type": "code",
   "execution_count": null,
   "id": "24ffcbf6",
   "metadata": {},
   "outputs": [],
   "source": []
  },
  {
   "cell_type": "code",
   "execution_count": null,
   "id": "af25531f",
   "metadata": {},
   "outputs": [],
   "source": []
  }
 ],
 "metadata": {
  "kernelspec": {
   "display_name": "Python 3 (ipykernel)",
   "language": "python",
   "name": "python3"
  },
  "language_info": {
   "codemirror_mode": {
    "name": "ipython",
    "version": 3
   },
   "file_extension": ".py",
   "mimetype": "text/x-python",
   "name": "python",
   "nbconvert_exporter": "python",
   "pygments_lexer": "ipython3",
   "version": "3.10.9"
  }
 },
 "nbformat": 4,
 "nbformat_minor": 5
}
