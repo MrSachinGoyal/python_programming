{
 "cells": [
  {
   "cell_type": "code",
   "execution_count": 27,
   "id": "d62d6295",
   "metadata": {},
   "outputs": [],
   "source": [
    "import pandas as pd\n",
    "import numpy as np"
   ]
  },
  {
   "cell_type": "code",
   "execution_count": 41,
   "id": "051773e7",
   "metadata": {},
   "outputs": [
    {
     "name": "stdout",
     "output_type": "stream",
     "text": [
      "         Age         City\n",
      "Name                     \n",
      "Alice     25     New York\n",
      "Bob       30  Los Angeles\n",
      "Charlie   22      Chicago\n"
     ]
    }
   ],
   "source": [
    "\n",
    "# **Question 1: Create a DataFrame with Given Data**\n",
    "# Create a dataframe in Python using pandas with the following data:\n",
    "# ```python\n",
    "# Name      Age   City\n",
    "# Alice     25    New York\n",
    "# Bob       30    Los Angeles\n",
    "# Charlie   22    Chicago\n",
    "# ```\n",
    "# **Solution 1:**\n",
    "\n",
    "data = {'Name': ['Alice', 'Bob', 'Charlie'],\n",
    "        'Age': [25, 30, 22],\n",
    "        'City': ['New York', 'Los Angeles', 'Chicago']}\n",
    "\n",
    "df = pd.DataFrame(data).set_index('Name')\n",
    "print(df)"
   ]
  },
  {
   "cell_type": "code",
   "execution_count": 42,
   "id": "9adf1914",
   "metadata": {},
   "outputs": [
    {
     "name": "stdout",
     "output_type": "stream",
     "text": [
      "Empty DataFrame\n",
      "Columns: []\n",
      "Index: []\n"
     ]
    }
   ],
   "source": [
    "# **Question 2: Create an Empty DataFrame**\n",
    "# Create an empty dataframe in Python using pandas.\n",
    "\n",
    "# **Solution 2:**\n",
    "\n",
    "empty_df = pd.DataFrame()\n",
    "print(empty_df)"
   ]
  },
  {
   "cell_type": "code",
   "execution_count": 43,
   "id": "d5827d5a",
   "metadata": {},
   "outputs": [
    {
     "name": "stdout",
     "output_type": "stream",
     "text": [
      "      Name  Age         City\n",
      "0    Alice   25     New York\n",
      "1      Bob   30  Los Angeles\n",
      "2  Charlie   22      Chicago\n"
     ]
    }
   ],
   "source": [
    "\n",
    "# **Question 3: Create a DataFrame from a List of Lists**\n",
    "# Create a dataframe in Python using pandas from the following list of lists:\n",
    "# ```python\n",
    "# data = [['Alice', 25, 'New York'],\n",
    "#         ['Bob', 30, 'Los Angeles'],\n",
    "#         ['Charlie', 22, 'Chicago']]\n",
    "# ```\n",
    "\n",
    "# **Solution 3:**\n",
    "\n",
    "data = [['Alice', 25, 'New York'],\n",
    "        ['Bob', 30, 'Los Angeles'],\n",
    "        ['Charlie', 22, 'Chicago']]\n",
    "\n",
    "df = pd.DataFrame(data, columns = ['Name', 'Age', 'City'])\n",
    "print(df)"
   ]
  },
  {
   "cell_type": "code",
   "execution_count": 44,
   "id": "9b5dc90d",
   "metadata": {},
   "outputs": [
    {
     "name": "stdout",
     "output_type": "stream",
     "text": [
      "     name   age        city\n",
      "0    alice    24   New York\n",
      "1  charlie    21  Bangalore\n",
      "2      bob    30     Mumbai\n"
     ]
    }
   ],
   "source": [
    "\n",
    "# **Question 4: Create a DataFrame from a CSV File**\n",
    "# Load a CSV file into a dataframe in Python using pandas. Assume the CSV file is named \"data.csv.\"\n",
    "\n",
    "# **Solution 4:**\n",
    "\n",
    "#create and read your own data.csv\n",
    "df = pd.read_csv(r'data.csv')\n",
    "print(df)"
   ]
  },
  {
   "cell_type": "code",
   "execution_count": 45,
   "id": "71d01916",
   "metadata": {},
   "outputs": [
    {
     "name": "stdout",
     "output_type": "stream",
     "text": [
      "    0   1   2\n",
      "0  79  22  12\n",
      "1  48  33  85\n",
      "2  55  57  88\n",
      "3  39  30  60\n",
      "4  70  19  12\n"
     ]
    }
   ],
   "source": [
    "# **Question 5: Create a DataFrame with Random Data**\n",
    "# Generate a dataframe in Python using pandas with 5 rows and 3 columns filled with random numbers.\n",
    "\n",
    "# **Solution 5:**\n",
    "\n",
    "random_df = pd.DataFrame(np.random.randint(10, 90, size=(5,3), dtype=int))\n",
    "print(random_df)"
   ]
  },
  {
   "cell_type": "code",
   "execution_count": 62,
   "id": "10787aef",
   "metadata": {},
   "outputs": [
    {
     "name": "stdout",
     "output_type": "stream",
     "text": [
      "      Name  Age         City\n",
      "0    Alice   25     New York\n",
      "1      Bob   30  Los Angeles\n",
      "2  Charlie   22      Chicago\n"
     ]
    }
   ],
   "source": [
    "\n",
    "# **Question 6: Create a DataFrame from a Dictionary of Series**\n",
    "# Create a dataframe in Python using pandas from the following dictionary of series:\n",
    "# ```python\n",
    "data = {'Name': pd.Series(['Alice', 'Bob', 'Charlie']),\n",
    "        'Age': pd.Series([25, 30, 22]),\n",
    "        'City': pd.Series(['New York', 'Los Angeles', 'Chicago'])}\n",
    "# ```\n",
    "\n",
    "# **Solution 6:**\n",
    "\n",
    "df = pd.concat((data['Name'], data['Age'], data['City']), axis=1, keys=['Name', 'Age', 'City']) \n",
    "print(df)"
   ]
  },
  {
   "cell_type": "code",
   "execution_count": 66,
   "id": "adf99da9",
   "metadata": {},
   "outputs": [
    {
     "name": "stdout",
     "output_type": "stream",
     "text": [
      "         0\n",
      "0    Alice\n",
      "1      Bob\n",
      "2  Charlie\n"
     ]
    }
   ],
   "source": [
    "# **Question 7: Create a DataFrame from a JSON File**\n",
    "# Load a JSON file into a dataframe in Python using pandas. Assume the JSON file is named \"data.json.\"\n",
    "\n",
    "# **Solution 7:**\n",
    "\n",
    "#create and read your own json file\n",
    "import json\n",
    "\n",
    "names = ['Alice', 'Bob', 'Charlie']\n",
    "\n",
    "with open('data.json', 'w') as file:\n",
    "    json.dump(names, file)\n",
    "\n",
    "df = pd.read_json(r'data.json')\n",
    "print(df)"
   ]
  },
  {
   "cell_type": "code",
   "execution_count": 73,
   "id": "84dfc4c1",
   "metadata": {},
   "outputs": [
    {
     "name": "stdout",
     "output_type": "stream",
     "text": [
      "              Name  Age         City\n",
      "student_1    Alice   25     New York\n",
      "student_2      Bob   30  Los Angeles\n",
      "student_2  Charlie   22      Chicago\n"
     ]
    }
   ],
   "source": [
    "# **Question 8: Create a DataFrame with Custom Index**\n",
    "# Create a dataframe in Python using pandas with custom row indices. The data is the same as in Question 1.\n",
    "\n",
    "# **Solution 8:**\n",
    "\n",
    "data = {'Name': ['Alice', 'Bob', 'Charlie'],\n",
    "        'Age': [25, 30, 22],\n",
    "        'City': ['New York', 'Los Angeles', 'Chicago']}\n",
    "\n",
    "df = pd.DataFrame(data, index=['student_1', 'student_2', 'student_2'])\n",
    "print(df)"
   ]
  },
  {
   "cell_type": "code",
   "execution_count": null,
   "id": "9032f777",
   "metadata": {},
   "outputs": [],
   "source": []
  }
 ],
 "metadata": {
  "kernelspec": {
   "display_name": "Python 3 (ipykernel)",
   "language": "python",
   "name": "python3"
  },
  "language_info": {
   "codemirror_mode": {
    "name": "ipython",
    "version": 3
   },
   "file_extension": ".py",
   "mimetype": "text/x-python",
   "name": "python",
   "nbconvert_exporter": "python",
   "pygments_lexer": "ipython3",
   "version": "3.10.9"
  }
 },
 "nbformat": 4,
 "nbformat_minor": 5
}
