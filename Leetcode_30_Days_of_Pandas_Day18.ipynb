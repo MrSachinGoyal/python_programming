{
 "cells": [
  {
   "cell_type": "code",
   "execution_count": 54,
   "id": "8405e3b9",
   "metadata": {},
   "outputs": [],
   "source": [
    "# import necessary libraries\n",
    "import pandas as pd"
   ]
  },
  {
   "cell_type": "markdown",
   "id": "44fafafb",
   "metadata": {},
   "source": [
    "Question: Write a solution to find managers with at least five direct reports. Return the result table in any order"
   ]
  },
  {
   "cell_type": "code",
   "execution_count": 79,
   "id": "5fffd5de",
   "metadata": {},
   "outputs": [
    {
     "name": "stdout",
     "output_type": "stream",
     "text": [
      "Name of Managers with atleast 5 direct reportees\n",
      "   name\n",
      "0  John\n"
     ]
    }
   ],
   "source": [
    "import pandas as pd\n",
    "\n",
    "# function definition\n",
    "def find_managers(employee: pd.DataFrame) -> pd.DataFrame:\n",
    "    \n",
    "    # merging dataframes using self join\n",
    "    merge_df = employee.merge(employee, how='inner', left_on='id', right_on='managerId', suffixes = ['_e1', '_e2'])[['id_e1', 'name_e1', 'id_e2']]\n",
    "\n",
    "    # counting direct reportees under each manager using groupby and count function\n",
    "    direct_reportee = merge_df.groupby(['id_e1', 'name_e1'])['id_e2'].count().reset_index().rename(columns = {'name_e1':'name', 'id_e2':'count'})\n",
    "    \n",
    "    # selecting managers with atleast 5 direct reportees\n",
    "    result_df = pd.DataFrame({'name':direct_reportee[direct_reportee['count'] >= 5]['name']})\n",
    "    \n",
    "    return result_df\n",
    "\n",
    "# preparing the dataframe\n",
    "data = [\n",
    "        [101, 'John', 'A', None], \n",
    "        [102, 'Dan', 'A', 101], \n",
    "        [103, 'James', 'A', 101], \n",
    "        [104, 'Amy', 'A', 101], \n",
    "        [105, 'Anne', 'A', 101], \n",
    "        [106, 'Ron', 'B', 101]\n",
    "       ]\n",
    "\n",
    "employee = pd.DataFrame(data, columns=['id', 'name', 'department', 'managerId']).astype({'id':'Int64', 'name':'object', 'department':'object', 'managerId':'Int64'})\n",
    "\n",
    "# calling the function and printing the result\n",
    "result = find_managers(employee)\n",
    "print('Name of Managers with atleast 5 direct reportees')\n",
    "print(result)"
   ]
  },
  {
   "cell_type": "code",
   "execution_count": null,
   "id": "54b41f50",
   "metadata": {},
   "outputs": [],
   "source": []
  },
  {
   "cell_type": "code",
   "execution_count": null,
   "id": "fea9ed55",
   "metadata": {},
   "outputs": [],
   "source": []
  }
 ],
 "metadata": {
  "kernelspec": {
   "display_name": "Python 3 (ipykernel)",
   "language": "python",
   "name": "python3"
  },
  "language_info": {
   "codemirror_mode": {
    "name": "ipython",
    "version": 3
   },
   "file_extension": ".py",
   "mimetype": "text/x-python",
   "name": "python",
   "nbconvert_exporter": "python",
   "pygments_lexer": "ipython3",
   "version": "3.10.9"
  }
 },
 "nbformat": 4,
 "nbformat_minor": 5
}
